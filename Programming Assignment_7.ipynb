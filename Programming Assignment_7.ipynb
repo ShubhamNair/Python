{
 "cells": [
  {
   "cell_type": "code",
   "execution_count": 1,
   "id": "dc3f3565",
   "metadata": {},
   "outputs": [
    {
     "name": "stdout",
     "output_type": "stream",
     "text": [
      "Enter the number of numbers:5\n",
      "Input the number:3\n",
      "Input the number:3\n",
      "Input the number:3\n",
      "Input the number:4\n",
      "Input the number:2\n",
      "Sum= 15\n"
     ]
    }
   ],
   "source": [
    "#Write a Python Program to find sum of array?\n",
    "lst=[]\n",
    "a=int(input('Enter the number of numbers:'))\n",
    "for i in range(a):\n",
    "    n=int(input('Input the number:'))\n",
    "    lst.append(n)\n",
    "    \n",
    "print('Sum=',sum(lst))"
   ]
  },
  {
   "cell_type": "code",
   "execution_count": 5,
   "id": "0567bc37",
   "metadata": {},
   "outputs": [
    {
     "name": "stdout",
     "output_type": "stream",
     "text": [
      "Enter the number of numbers:5\n",
      "Input the number:51\n",
      "Input the number:5\n",
      "Input the number:18\n",
      "Input the number:14\n",
      "Input the number:55\n",
      "Largest element= 55\n"
     ]
    }
   ],
   "source": [
    "#Write a Python Program to find largest element in an array?\n",
    "\n",
    "lst=[]\n",
    "a=int(input('Enter the number of numbers:'))\n",
    "for i in range(a):\n",
    "    n=int(input('Input the number:'))\n",
    "    lst.append(n)\n",
    "print('Largest element=',max(lst))"
   ]
  },
  {
   "cell_type": "code",
   "execution_count": 6,
   "id": "d1dcb59b",
   "metadata": {},
   "outputs": [
    {
     "name": "stdout",
     "output_type": "stream",
     "text": [
      "Enter the number of numbers:5\n",
      "Input the number:1\n",
      "Input the number:2\n",
      "Input the number:3\n",
      "Input the number:4\n",
      "Input the number:5\n",
      "Rotated array= [5, 4, 3, 2, 1]\n"
     ]
    }
   ],
   "source": [
    "#Write a Python Program for array rotation?\n",
    "\n",
    "lst=[]\n",
    "a=int(input('Enter the number of numbers:'))\n",
    "for i in range(a):\n",
    "    n=int(input('Input the number:'))\n",
    "    lst.append(n)\n",
    "new=lst[::-1]\n",
    "print('Rotated array=',new)"
   ]
  },
  {
   "cell_type": "code",
   "execution_count": 4,
   "id": "21b13d06",
   "metadata": {},
   "outputs": [
    {
     "name": "stdout",
     "output_type": "stream",
     "text": [
      "Enter the number of numbers:4\n",
      "Input the number:1\n",
      "Input the number:2\n",
      "Input the number:3\n",
      "Input the number:4\n",
      "\n",
      "[1, 2, 3, 4]\n",
      "Till which position do you want to split the array:2\n",
      "The new array is [3, 4, 1, 2]\n"
     ]
    }
   ],
   "source": [
    "#Write a Python Program to Split the array and add the first part to the end?\n",
    "\n",
    "lst=[]\n",
    "a=int(input('Enter the number of numbers:'))\n",
    "for i in range(a):\n",
    "    n=int(input('Input the number:'))\n",
    "    lst.append(n)\n",
    "print('\\n',lst,sep='')\n",
    "n=int(input('Till which position do you want to split the array:'))\n",
    "new=lst[:n]\n",
    "lst=lst[n:]\n",
    "lst=lst+new\n",
    "print('The new array is',lst)\n"
   ]
  },
  {
   "cell_type": "code",
   "execution_count": 12,
   "id": "fca52d2e",
   "metadata": {},
   "outputs": [
    {
     "name": "stdout",
     "output_type": "stream",
     "text": [
      "Enter the number of numbers:5\n",
      "Input the number:1\n",
      "Input the number:5\n",
      "Input the number:6\n",
      "Input the number:7\n",
      "Input the number:8\n",
      "The list is monotonic\n"
     ]
    }
   ],
   "source": [
    "#Write a Python Program to check if given array is Monotonic?\n",
    "\n",
    "lst=[]\n",
    "a=int(input('Enter the number of numbers:'))\n",
    "for i in range(a):\n",
    "    n=int(input('Input the number:'))\n",
    "    lst.append(n)\n",
    "\n",
    "if lst==sorted(lst,reverse=True) or lst==sorted(lst):\n",
    "    print('The list is monotonic')\n",
    "\n",
    "else:\n",
    "    print('List is not monotonic')\n"
   ]
  }
 ],
 "metadata": {
  "kernelspec": {
   "display_name": "Python 3",
   "language": "python",
   "name": "python3"
  },
  "language_info": {
   "codemirror_mode": {
    "name": "ipython",
    "version": 3
   },
   "file_extension": ".py",
   "mimetype": "text/x-python",
   "name": "python",
   "nbconvert_exporter": "python",
   "pygments_lexer": "ipython3",
   "version": "3.8.8"
  }
 },
 "nbformat": 4,
 "nbformat_minor": 5
}
