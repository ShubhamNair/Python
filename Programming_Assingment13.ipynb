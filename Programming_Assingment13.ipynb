{
 "cells": [
  {
   "cell_type": "code",
   "execution_count": 16,
   "id": "017df44e",
   "metadata": {},
   "outputs": [
    {
     "name": "stdout",
     "output_type": "stream",
     "text": [
      "100,150,180\n",
      "18,22,24\n",
      "18,22,24\n"
     ]
    }
   ],
   "source": [
    "'''Question 1:\n",
    "Write a program that calculates and prints the value according to the given formula:\n",
    "\n",
    "Q = Square root of [(2 * C * D)/H]\n",
    "\n",
    "Following are the fixed values of C and H:\n",
    "\n",
    "C is 50. H is 30.\n",
    "\n",
    "D is the variable whose values should be input to your program in a comma-separated sequence.\n",
    "\n",
    "Example\n",
    "Let us assume the following comma separated input sequence is given to the program:\n",
    "100,150,180\n",
    "The output of the program should be:\n",
    "18,22,24'''\n",
    "\n",
    "import math                        #to use sqrt function\n",
    "c=50\n",
    "h=30\n",
    "q=[]\n",
    "for d in input().split(','):\n",
    "    a=2*c*int(d)/h\n",
    "    q.append(str(int(math.sqrt(a))))\n",
    "    \n",
    "print(*q,sep=',')                  #used to avoid comma in the end\n",
    "#or\n",
    "print(','.join(q))"
   ]
  },
  {
   "cell_type": "code",
   "execution_count": 42,
   "id": "817c686a",
   "metadata": {},
   "outputs": [
    {
     "name": "stdout",
     "output_type": "stream",
     "text": [
      "3,5\n",
      "[[0, 0, 0, 0, 0], [0, 1, 2, 3, 4], [0, 2, 4, 6, 8]]\n",
      "[[0, 0, 0, 0, 0], [0, 1, 2, 3, 4], [0, 2, 4, 6, 8]]\n"
     ]
    }
   ],
   "source": [
    "'''Question 2:\n",
    "Write a program which takes 2 digits, X,Y as input and generates a 2-dimensional array. \n",
    "The element value in the i-th row and j-th column of the array should be i*j.\n",
    "\n",
    "Note: i=0,1.., X-1; j=0,1,¡Y-1.\n",
    "Example\n",
    "Suppose the following inputs are given to the program:\n",
    "\n",
    "3,5\n",
    "\n",
    "Then, the output of the program should be:\n",
    "[[0, 0, 0, 0, 0], [0, 1, 2, 3, 4], [0, 2, 4, 6, 8]] '''\n",
    "\n",
    "a,b=map(int,input().split(','))        #splitting input and using map to convert both to int\n",
    "lst=[]\n",
    "for i in range(a):\n",
    "    lst.append([])                             #to create a nested list\n",
    "    for j in range(b):\n",
    "        lst[i].append(i*j)                     # appending to nested list by using the index from outer loop\n",
    "        \n",
    "print(lst)\n",
    "\n",
    "#or METHOD 2 \n",
    "print([[i*j for j in range(b)] for i in range(a)])   #list comprehension"
   ]
  },
  {
   "cell_type": "code",
   "execution_count": 47,
   "id": "492a66c3",
   "metadata": {},
   "outputs": [
    {
     "name": "stdout",
     "output_type": "stream",
     "text": [
      "without,hello,bag,world\n",
      "bag,hello,without,world\n"
     ]
    }
   ],
   "source": [
    "'''Question 3:\n",
    "Write a program that accepts a comma separated sequence of words as input and\n",
    "prints the words in a comma-separated sequence after sorting them alphabetically.\n",
    "\n",
    "Suppose the following input is supplied to the program:\n",
    "\n",
    "without,hello,bag,world\n",
    "\n",
    "Then, the output should be:\n",
    "\n",
    "bag,hello,without,world\n",
    "'''\n",
    "a=input().split(',')\n",
    "p=[i for i in sorted(a)]    #sorted into a list as direct print gives a generator object. As it is not list comprehension\n",
    "print(*p, sep=',')"
   ]
  },
  {
   "cell_type": "code",
   "execution_count": 53,
   "id": "907caf2b",
   "metadata": {},
   "outputs": [
    {
     "name": "stdout",
     "output_type": "stream",
     "text": [
      "hello world and practice makes perfect and hello world again\n",
      "again and hello makes perfect practice world\n"
     ]
    }
   ],
   "source": [
    "'''Question 4:\n",
    "Write a program that accepts a sequence of whitespace separated words as input and prints the words\n",
    "after removing all duplicate words and sorting them alphanumerically.\n",
    "\n",
    "Suppose the following input is supplied to the program:\n",
    "\n",
    "hello world and practice makes perfect and hello world again\n",
    "\n",
    "Then, the output should be:\n",
    "\n",
    "again and hello makes perfect practice world\n",
    "'''\n",
    "a=sorted(list(set(input().split())))\n",
    "print(*a,sep=' ')                           # printing the list using * and sep operator\n"
   ]
  },
  {
   "cell_type": "code",
   "execution_count": 62,
   "id": "6b85fec2",
   "metadata": {},
   "outputs": [
    {
     "name": "stdout",
     "output_type": "stream",
     "text": [
      "hello world! 123\n",
      "LETTERS 10\n",
      "DIGITS 3\n"
     ]
    }
   ],
   "source": [
    "'''Question 5:\n",
    "Write a program that accepts a sentence and calculate the number of letters and digits.\n",
    "\n",
    "Suppose the following input is supplied to the program:\n",
    "\n",
    "hello world! 123\n",
    "\n",
    "Then, the output should be:\n",
    "\n",
    "LETTERS 10\n",
    "\n",
    "DIGITS 3\n",
    "'''\n",
    "a=input()\n",
    "l=0\n",
    "d=0\n",
    "for i in a:\n",
    "    if i.isdigit():            #method which gives true if digit\n",
    "        d+=1\n",
    "    if i.isalpha():            #method which gives true if alphabet\n",
    "        l+=1\n",
    "    \n",
    "print('LETTERS',l)\n",
    "print('DIGITS', d)\n",
    "        "
   ]
  },
  {
   "cell_type": "code",
   "execution_count": 72,
   "id": "c73b7a30",
   "metadata": {},
   "outputs": [
    {
     "name": "stdout",
     "output_type": "stream",
     "text": [
      "ABd1234@1,a F1#,2w3E*,2We3345\n",
      "ABd1234@1\n"
     ]
    }
   ],
   "source": [
    "'''Question 6:\n",
    "A website requires the users to input username and password to register. Write a program to check the validity of password \n",
    "input by users.\n",
    "\n",
    "Following are the criteria for checking the password:\n",
    "\n",
    "1. At least 1 letter between [a-z]\n",
    "\n",
    "2. At least 1 number between [0-9]\n",
    "\n",
    "1. At least 1 letter between [A-Z]\n",
    "\n",
    "3. At least 1 character from [$#@]\n",
    "\n",
    "4. Minimum length of transaction password: 6\n",
    "\n",
    "5. Maximum length of transaction password: 12\n",
    "\n",
    "Your program should accept a sequence of comma separated passwords and will check them according to the above criteria.\n",
    "Passwords that match the criteria are to be printed, each separated by a comma.\n",
    "\n",
    "Example\n",
    "\n",
    "If the following passwords are given as input to the program:\n",
    "\n",
    "ABd1234@1,a F1#,2w3E*,2We3345\n",
    "\n",
    "Then, the output of the program should be:\n",
    "ABd1234@1\n",
    "'''\n",
    "import re                     #for using regular expressions\n",
    "lst=input().split(',')\n",
    "ans=[]\n",
    "for i in lst:\n",
    "    if len(i)<6 or len(i)>12:                     \n",
    "        break\n",
    "    elif not re.search('[a-z]',i):                    #not converts true to false. so only if search fails, the loop breaks\n",
    "        break\n",
    "    elif not re.search('[0-9]',i):\n",
    "        break\n",
    "    elif not re.search('[A-Z]',i):\n",
    "        break\n",
    "    elif not re.search('[$#@]',i):\n",
    "        break\n",
    "    elif re.search('\\s',i):\n",
    "        break\n",
    "    else:\n",
    "        ans.append(i)\n",
    "\n",
    "print(*ans,sep=',')    "
   ]
  }
 ],
 "metadata": {
  "kernelspec": {
   "display_name": "Python 3",
   "language": "python",
   "name": "python3"
  },
  "language_info": {
   "codemirror_mode": {
    "name": "ipython",
    "version": 3
   },
   "file_extension": ".py",
   "mimetype": "text/x-python",
   "name": "python",
   "nbconvert_exporter": "python",
   "pygments_lexer": "ipython3",
   "version": "3.8.8"
  }
 },
 "nbformat": 4,
 "nbformat_minor": 5
}
