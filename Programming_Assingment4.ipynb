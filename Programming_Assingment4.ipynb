{
 "cells": [
  {
   "cell_type": "code",
   "execution_count": 4,
   "id": "aeee2e0f",
   "metadata": {},
   "outputs": [
    {
     "name": "stdout",
     "output_type": "stream",
     "text": [
      "Enter the number=5\n",
      "The factorial is equal to 120\n"
     ]
    }
   ],
   "source": [
    "#Write a Python Program to Find the Factorial of a Number?\n",
    "\n",
    "n=int(input('Enter the number='))\n",
    "count=1\n",
    "for i in range(1,n+1):\n",
    "    count=i*count\n",
    "print('The factorial is equal to',count)"
   ]
  },
  {
   "cell_type": "code",
   "execution_count": 5,
   "id": "1dda6593",
   "metadata": {},
   "outputs": [
    {
     "name": "stdout",
     "output_type": "stream",
     "text": [
      "Enter the number=12\n",
      "Enter the range=12\n",
      "12 x 1 = 12\n",
      "12 x 2 = 24\n",
      "12 x 3 = 36\n",
      "12 x 4 = 48\n",
      "12 x 5 = 60\n",
      "12 x 6 = 72\n",
      "12 x 7 = 84\n",
      "12 x 8 = 96\n",
      "12 x 9 = 108\n",
      "12 x 10 = 120\n",
      "12 x 11 = 132\n",
      "12 x 12 = 144\n"
     ]
    }
   ],
   "source": [
    "#Write a Python Program to Display the multiplication Table?\n",
    "n=int(input('Enter the number='))\n",
    "r=int(input('Enter the range='))  #the range for the multiplier\n",
    "\n",
    "for i in range(1,r+1):\n",
    "    print(n,'x',i,'=',n*i)"
   ]
  },
  {
   "cell_type": "code",
   "execution_count": 16,
   "id": "df576ff7",
   "metadata": {},
   "outputs": [
    {
     "name": "stdout",
     "output_type": "stream",
     "text": [
      "Enter the number=6\n",
      "0 1 1 2 3 5 "
     ]
    }
   ],
   "source": [
    "#Write a Python Program to Print the Fibonacci sequence?\n",
    "def fib(num):\n",
    "    a=0\n",
    "    b=1\n",
    "    n=0\n",
    "    t=0\n",
    "    while n<num:\n",
    "        print(a,end=' ')\n",
    "        t=b\n",
    "        b=a+b\n",
    "        a=t\n",
    "        n+=1\n",
    "\n",
    "        \n",
    "n=int(input('Enter the number='))\n",
    "fib(n)\n",
    "    \n"
   ]
  },
  {
   "cell_type": "code",
   "execution_count": 48,
   "id": "e02cfe4a",
   "metadata": {},
   "outputs": [
    {
     "name": "stdout",
     "output_type": "stream",
     "text": [
      "Enter the number=1634\n",
      "It is an Armstrong Number\n"
     ]
    }
   ],
   "source": [
    "#Write a Python Program to Check Armstrong Number?\n",
    "\n",
    "a=input('Enter the number=')\n",
    "b=0\n",
    "for i in range(len(a)):\n",
    "    n=int(a[i])\n",
    "    b=n**len(a)+b\n",
    "    \n",
    "if int(a)==b:\n",
    "    print('It is an Armstrong Number')\n",
    "else:\n",
    "    print('It is not an Armstrong Number')\n",
    "\n"
   ]
  },
  {
   "cell_type": "code",
   "execution_count": 47,
   "id": "cab7f179",
   "metadata": {},
   "outputs": [
    {
     "name": "stdout",
     "output_type": "stream",
     "text": [
      "Enter the number starting and ending numbers=100\n",
      "1634\n",
      "153 370 371 407 1634 "
     ]
    }
   ],
   "source": [
    "#Write a Python Program to Find Armstrong Number in an Interval?\n",
    "a,c=input('Enter the number starting and ending numbers='),input()\n",
    "\n",
    "for x in range(int(a),int(c)+1):\n",
    "    b=0\n",
    "    for i in range(len(str(x))):\n",
    "        n=int(str(x)[i])\n",
    "        b=n**len(str(x))+b\n",
    "        \n",
    "    if int(x)==b:\n",
    "        print(x,end=' ')"
   ]
  },
  {
   "cell_type": "code",
   "execution_count": 51,
   "id": "5fdf27e7",
   "metadata": {},
   "outputs": [
    {
     "name": "stdout",
     "output_type": "stream",
     "text": [
      "Enter a natural number:500\n",
      "The sum is 125250\n"
     ]
    }
   ],
   "source": [
    "#Write a Python Program to Find the Sum of Natural Numbers?\n",
    "\n",
    "a= int(input('Enter a natural number:'))\n",
    "s=0\n",
    "for i in range(a+1):\n",
    "    s=s+i\n",
    "print('The sum is',s)        "
   ]
  }
 ],
 "metadata": {
  "kernelspec": {
   "display_name": "Python 3",
   "language": "python",
   "name": "python3"
  },
  "language_info": {
   "codemirror_mode": {
    "name": "ipython",
    "version": 3
   },
   "file_extension": ".py",
   "mimetype": "text/x-python",
   "name": "python",
   "nbconvert_exporter": "python",
   "pygments_lexer": "ipython3",
   "version": "3.8.8"
  }
 },
 "nbformat": 4,
 "nbformat_minor": 5
}
