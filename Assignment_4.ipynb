{
 "cells": [
  {
   "cell_type": "code",
   "execution_count": null,
   "id": "269adfb1",
   "metadata": {},
   "outputs": [],
   "source": [
    "1. What exactly is []?\n",
    "Ans: [] is used to specify an empty list."
   ]
  },
  {
   "cell_type": "code",
   "execution_count": null,
   "id": "4cb47563",
   "metadata": {},
   "outputs": [],
   "source": [
    "2. In a list of values stored in a variable called spam,how would you assign the value 'hello' as the third value? \n",
    "(Assume [2, 4, 6, 8, 10] are in spam.)\n",
    "Let's pretend the spam includes the list ['a', 'b', 'c', 'd'] for the next three queries.\n",
    "\n",
    "Ans: spam[2]='hello'"
   ]
  },
  {
   "cell_type": "code",
   "execution_count": null,
   "id": "a05d22b5",
   "metadata": {},
   "outputs": [],
   "source": [
    "3. What is the value of spam[int(int('3' * 2) / 11)]?\n",
    "\n",
    "Ans: spam[3]=d"
   ]
  },
  {
   "cell_type": "code",
   "execution_count": null,
   "id": "4887d949",
   "metadata": {},
   "outputs": [],
   "source": [
    "4. What is the value of spam[-1]?\n",
    "Ans: d"
   ]
  },
  {
   "cell_type": "code",
   "execution_count": null,
   "id": "bbe11e2a",
   "metadata": {},
   "outputs": [],
   "source": [
    "5. What is the value of spam[:2]?\n",
    "Let's pretend bacon has the list [3.14, 'cat,' 11, 'cat,' True] for the next three questions.\n",
    "\n",
    "Ans: ['a', 'b']"
   ]
  },
  {
   "cell_type": "code",
   "execution_count": null,
   "id": "7492e902",
   "metadata": {},
   "outputs": [],
   "source": [
    "6. What is the value of bacon.index('cat')?\n",
    "\n",
    "Ans: 1"
   ]
  },
  {
   "cell_type": "code",
   "execution_count": null,
   "id": "d68b1517",
   "metadata": {},
   "outputs": [],
   "source": [
    "7. How does bacon.append(99) change the look of the list value in bacon?\n",
    "Ans: [3.14, 'cat,' 11, 'cat,' True, 99]"
   ]
  },
  {
   "cell_type": "code",
   "execution_count": null,
   "id": "bc8d11f1",
   "metadata": {},
   "outputs": [],
   "source": [
    "8. How does bacon.remove('cat') change the look of the list in bacon?\n",
    "\n",
    "Ans: [3.14, 11, 'cat,' True, 99]"
   ]
  },
  {
   "cell_type": "code",
   "execution_count": null,
   "id": "f9786fd2",
   "metadata": {},
   "outputs": [],
   "source": [
    "9. What are the list concatenation and list replication operators?\n",
    "Ans: The operator for list concatenation is +\n",
    "     The operator for replication is *"
   ]
  },
  {
   "cell_type": "code",
   "execution_count": null,
   "id": "9c7489e2",
   "metadata": {},
   "outputs": [],
   "source": [
    "10. What is difference between the list methods append() and insert()?\n",
    "\n",
    "Ans: append(element) adds the element to the end of the list\n",
    "     insert(index, element) can add an element to the list at specified index\n"
   ]
  },
  {
   "cell_type": "code",
   "execution_count": null,
   "id": "9d7e9887",
   "metadata": {},
   "outputs": [],
   "source": [
    "11. What are the two methods for removing items from a list?\n",
    "Ans: listname.pop(index)\n",
    "     listname.remove(element)"
   ]
  },
  {
   "cell_type": "code",
   "execution_count": null,
   "id": "34c7aded",
   "metadata": {},
   "outputs": [],
   "source": [
    "12. Describe how list values and string values are identical.\n",
    "Ans: Both have indexes, are sliceable and can be used in for loops as they both are iterable.\n",
    "    Their concatenation and replication operation are identical."
   ]
  },
  {
   "cell_type": "code",
   "execution_count": null,
   "id": "b21864c4",
   "metadata": {},
   "outputs": [],
   "source": [
    "13. What's the difference between tuples and lists?\n",
    "\n",
    "Ans: Tuples are immutable while lists are mutable. Tuple is stored inside () while list is stored inside []"
   ]
  },
  {
   "cell_type": "code",
   "execution_count": null,
   "id": "47365215",
   "metadata": {},
   "outputs": [],
   "source": [
    "14. How do you type a tuple value that only contains the integer 42?\n",
    "\n",
    "Ans: T=(42,)"
   ]
  },
  {
   "cell_type": "code",
   "execution_count": null,
   "id": "82bbfc17",
   "metadata": {},
   "outputs": [],
   "source": [
    "15. How do you get a list value's tuple form? How do you get a tuple value's list form?\n",
    "\n",
    "Ans: Using typecasting we can convert a list to tuple and vice versa.\n",
    "Example:\n",
    "    a=list((3,4,5))\n",
    "    b=tuple([1,2,3])"
   ]
  },
  {
   "cell_type": "code",
   "execution_count": null,
   "id": "160440bf",
   "metadata": {},
   "outputs": [],
   "source": [
    "16. Variables that \"contain\" list values are not necessarily lists themselves. Instead, what do they contain?\n",
    "\n",
    "Ans: They contain references to list values."
   ]
  },
  {
   "cell_type": "code",
   "execution_count": null,
   "id": "2feca71d",
   "metadata": {},
   "outputs": [],
   "source": [
    "17. How do you distinguish between copy.copy() and copy.deepcopy()?\n",
    "\n",
    "Ans: The copy.copy() function will do a shallow copy of a list, \n",
    "     while the copy.deepcopy() function will do a deep copy of a list. \n",
    "     copy.deepcopy() will duplicate any lists inside the list \n",
    "     while copy.copy() will just reference the original list\n",
    "     which is inside the original nested list."
   ]
  }
 ],
 "metadata": {
  "kernelspec": {
   "display_name": "Python 3",
   "language": "python",
   "name": "python3"
  },
  "language_info": {
   "codemirror_mode": {
    "name": "ipython",
    "version": 3
   },
   "file_extension": ".py",
   "mimetype": "text/x-python",
   "name": "python",
   "nbconvert_exporter": "python",
   "pygments_lexer": "ipython3",
   "version": "3.8.8"
  }
 },
 "nbformat": 4,
 "nbformat_minor": 5
}
