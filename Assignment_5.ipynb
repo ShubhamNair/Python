{
 "cells": [
  {
   "cell_type": "code",
   "execution_count": null,
   "id": "1283f690",
   "metadata": {},
   "outputs": [],
   "source": [
    "1. What does an empty dictionary's code look like?\n",
    "\n",
    "Ans: {}"
   ]
  },
  {
   "cell_type": "code",
   "execution_count": null,
   "id": "04e4574a",
   "metadata": {},
   "outputs": [],
   "source": [
    "2. What is the value of a dictionary value with the key 'foo' and the value 42?\n",
    "\n",
    "Ans: {'foo':42}"
   ]
  },
  {
   "cell_type": "code",
   "execution_count": null,
   "id": "f87d3a96",
   "metadata": {},
   "outputs": [],
   "source": [
    "3. What is the most significant distinction between a dictionary and a list?\n",
    "\n",
    "Ans: Dictionary is a key value pair while list just contains values.\n",
    "     Dictionaries are unordered while list is ordered."
   ]
  },
  {
   "cell_type": "code",
   "execution_count": null,
   "id": "a59754c0",
   "metadata": {},
   "outputs": [],
   "source": [
    "4. What happens if you try to access spam['foo'] if spam is {'bar': 100}?\n",
    "\n",
    "Ans: KeyError will occur."
   ]
  },
  {
   "cell_type": "code",
   "execution_count": null,
   "id": "7d988419",
   "metadata": {},
   "outputs": [],
   "source": [
    "5. If a dictionary is stored in spam, what is the difference between \n",
    "the expressions 'cat' in spam and 'cat' in spam.keys()?\n",
    "\n",
    "Ans: Both will be same. As both check for 'cat' in keys."
   ]
  },
  {
   "cell_type": "code",
   "execution_count": null,
   "id": "db0e9a41",
   "metadata": {},
   "outputs": [],
   "source": [
    "6. If a dictionary is stored in spam, what is the difference between \n",
    "the expressions 'cat' in spam and 'cat' in spam.values()?\n",
    "\n",
    "Ans: Both are different\n",
    "    'cat' in spam checks for 'cat' in keys, while 'cat' in spam.values() checks for 'cat' in values\n"
   ]
  },
  {
   "cell_type": "code",
   "execution_count": null,
   "id": "42e93d30",
   "metadata": {},
   "outputs": [],
   "source": [
    "7. What is a shortcut for the following code?\n",
    "if 'color' not in spam:\n",
    "spam['color'] = 'black'\n",
    "\n",
    "Ans: spam.setdefault('color', 'black')"
   ]
  },
  {
   "cell_type": "code",
   "execution_count": null,
   "id": "77c4736b",
   "metadata": {},
   "outputs": [],
   "source": [
    "8. How do you \"pretty print\" dictionary values using which module and function?\n",
    "\n",
    "Ans: from pprint import pprint\n",
    "     pprint()"
   ]
  }
 ],
 "metadata": {
  "kernelspec": {
   "display_name": "Python 3",
   "language": "python",
   "name": "python3"
  },
  "language_info": {
   "codemirror_mode": {
    "name": "ipython",
    "version": 3
   },
   "file_extension": ".py",
   "mimetype": "text/x-python",
   "name": "python",
   "nbconvert_exporter": "python",
   "pygments_lexer": "ipython3",
   "version": "3.8.8"
  }
 },
 "nbformat": 4,
 "nbformat_minor": 5
}
