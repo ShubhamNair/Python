{
 "cells": [
  {
   "cell_type": "code",
   "execution_count": 4,
   "id": "be051ec2",
   "metadata": {},
   "outputs": [
    {
     "name": "stdout",
     "output_type": "stream",
     "text": [
      "Enter the number=100\n",
      "0,35,70\n"
     ]
    }
   ],
   "source": [
    "'''Question 1:\n",
    "Please write a program using generator to print the numbers which can be divisible by 5 and 7 between 0 and n in \n",
    "comma separated form while n is input by console.\n",
    "Example:\n",
    "If the following n is given as input to the program:\n",
    "100\n",
    "Then, the output of the program should be:\n",
    "0,35,70\n",
    "'''\n",
    "\n",
    "class gen:\n",
    "    def __init__(self,n):\n",
    "        self.n=n\n",
    "    \n",
    "    def generator(self):\n",
    "        for i in range(self.n+1):\n",
    "            if i%7==0 and i%5==0:\n",
    "                yield i\n",
    "\n",
    "try:\n",
    "    lst=[]\n",
    "    for i in gen(int(input('Enter the number='))).generator():\n",
    "        lst.append(str(i))\n",
    "    print(','.join(lst))                                #using join() so that there isn't extra comma in the end\n",
    "        \n",
    "except:\n",
    "    print('Please input a valid integer.')"
   ]
  },
  {
   "cell_type": "code",
   "execution_count": 7,
   "id": "57cdf458",
   "metadata": {},
   "outputs": [
    {
     "name": "stdout",
     "output_type": "stream",
     "text": [
      "Enter the number=30\n",
      "0,2,4,6,8,10,12,14,16,18,20,22,24,26,28,30\n"
     ]
    }
   ],
   "source": [
    "'''Question 2:\n",
    "Please write a program using generator to print the even numbers between 0 and n in comma separated form\n",
    "while n is input by console.\n",
    "Example:\n",
    "If the following n is given as input to the program:\n",
    "10\n",
    "Then, the output of the program should be:\n",
    "0,2,4,6,8,10\n",
    "'''\n",
    "\n",
    "class gen:\n",
    "    def __init__(self,n):\n",
    "        self.n=n\n",
    "    \n",
    "    def generator(self):\n",
    "        for i in range(self.n+1):\n",
    "            if i%2==0:\n",
    "                yield i\n",
    "\n",
    "try:\n",
    "    lst=[]\n",
    "    for i in gen(int(input('Enter the number='))).generator():\n",
    "        lst.append(str(i))\n",
    "    print(','.join(lst))                 ##using join() so that there isn't extra comma in the end\n",
    "        \n",
    "except:\n",
    "    print('Please input a valid integer.')"
   ]
  },
  {
   "cell_type": "code",
   "execution_count": 16,
   "id": "4dd1c9fe",
   "metadata": {},
   "outputs": [
    {
     "name": "stdout",
     "output_type": "stream",
     "text": [
      "Enter the number:7\n",
      "0,1,1,2,3,5,8,13\n"
     ]
    }
   ],
   "source": [
    "'''Question 3:\n",
    "The Fibonacci Sequence is computed based on the following formula:\n",
    "f(n)=0 if n=0\n",
    "f(n)=1 if n=1\n",
    "f(n)=f(n-1)+f(n-2) if n>1\n",
    "Please write a program using list comprehension to print the Fibonacci Sequence in comma separated form\n",
    "with a given n input by console.\n",
    "Example:\n",
    "If the following n is given as input to the program:\n",
    "7\n",
    "\n",
    "Then, the output of the program should be:\n",
    "0,1,1,2,3,5,8,13\n",
    "'''\n",
    "\n",
    "def fib(n):\n",
    "    if n<2:\n",
    "        return n\n",
    "    return fib(n-1)+fib(n-2)\n",
    "\n",
    "lst=[str(fib(i)) for i in range(int(input('Enter the number:'))+1)]  #the list has to be a string list for join() to work\n",
    "print(','.join(lst))"
   ]
  },
  {
   "cell_type": "code",
   "execution_count": 17,
   "id": "5ecb1faa",
   "metadata": {},
   "outputs": [
    {
     "name": "stdout",
     "output_type": "stream",
     "text": [
      "Enter the email:john@google.com\n",
      "john\n"
     ]
    }
   ],
   "source": [
    "'''Question 4:\n",
    "Assuming that we have some email addresses in the \"username@companyname.com\" format,\n",
    "please write program to print the user name of a given email address. \n",
    "Both user names and company names are composed of letters only.\n",
    "Example:\n",
    "If the following email address is given as input to the program:\n",
    "john@google.com\n",
    "Then, the output of the program should be:\n",
    "john\n",
    "'''\n",
    "\n",
    "def user(n):\n",
    "    return n.split('@')[0]          #find() with slicing can also be used\n",
    "\n",
    "print(user(input('Enter the email:')))"
   ]
  },
  {
   "cell_type": "code",
   "execution_count": 32,
   "id": "fefc9dd1",
   "metadata": {},
   "outputs": [
    {
     "name": "stdout",
     "output_type": "stream",
     "text": [
      "25\n",
      "0\n"
     ]
    }
   ],
   "source": [
    "'''Question 5:\n",
    "Define a class named Shape and its subclass Square. \n",
    "The Square class has an init function which takes a length as argument. \n",
    "Both classes have a area function which can print the area of the shape where Shape's area is 0 by default.\n",
    "'''\n",
    "\n",
    "class Shape:                      #Parent class\n",
    "    def Area(self):\n",
    "        self.area=0\n",
    "        return self.area\n",
    "    \n",
    "class Square(Shape):              #Subclass or child class\n",
    "    def __init__(self,len):\n",
    "        self.len=len\n",
    "        \n",
    "    def Area(self):\n",
    "        self.area=self.len**2\n",
    "        return self.area\n",
    "        \n",
    "a=Square(5)\n",
    "print(a.Area())\n",
    "\n",
    "b=Shape()\n",
    "print(b.Area())"
   ]
  }
 ],
 "metadata": {
  "kernelspec": {
   "display_name": "Python 3",
   "language": "python",
   "name": "python3"
  },
  "language_info": {
   "codemirror_mode": {
    "name": "ipython",
    "version": 3
   },
   "file_extension": ".py",
   "mimetype": "text/x-python",
   "name": "python",
   "nbconvert_exporter": "python",
   "pygments_lexer": "ipython3",
   "version": "3.8.8"
  }
 },
 "nbformat": 4,
 "nbformat_minor": 5
}
