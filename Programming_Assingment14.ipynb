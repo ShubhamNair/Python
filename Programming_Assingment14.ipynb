{
 "cells": [
  {
   "cell_type": "code",
   "execution_count": 1,
   "id": "017df44e",
   "metadata": {},
   "outputs": [
    {
     "name": "stdout",
     "output_type": "stream",
     "text": [
      "0  7  14  21  28  35  42  49  56  63  70  77  84  91  98  "
     ]
    }
   ],
   "source": [
    "'''Question 1:\n",
    "Define a class with a generator which can iterate the numbers, which are divisible by 7, between a given range 0 and n.\n",
    "'''\n",
    "\n",
    "class gen:\n",
    "    def __init__(self,n):\n",
    "        self.n=n\n",
    "    \n",
    "    def generator(self):\n",
    "        for i in range(self.n+1):\n",
    "            if i%7==0:\n",
    "                yield i\n",
    "                \n",
    "for i in gen(100).generator():\n",
    "    print(i, end='  ')"
   ]
  },
  {
   "cell_type": "code",
   "execution_count": 2,
   "id": "817c686a",
   "metadata": {},
   "outputs": [
    {
     "name": "stdout",
     "output_type": "stream",
     "text": [
      "Enter the input: New to Python or choosing between Python 2 and Python 3? Read Python 2 or Python 3.\n",
      "{'2': 2, '3.': 1, '3?': 1, 'New': 1, 'Python': 5, 'Read': 1, 'and': 1, 'between': 1, 'choosing': 1, 'or': 2, 'to': 1}\n"
     ]
    }
   ],
   "source": [
    "'''Question 2:\n",
    "Write a program to compute the frequency of the words from the input. \n",
    "The output should output after sorting the key alphanumerically. \n",
    "\n",
    "Suppose the following input is supplied to the program:\n",
    "\n",
    "New to Python or choosing between Python 2 and Python 3? Read Python 2 or Python 3.\n",
    "\n",
    "Then, the output should be:\n",
    "\n",
    "2:2\n",
    "\n",
    "3.:1\n",
    "\n",
    "3?:1\n",
    "\n",
    "New:1\n",
    "\n",
    "Python:5\n",
    "\n",
    "Read:1\n",
    "\n",
    "and:1\n",
    "\n",
    "between:1\n",
    "\n",
    "choosing:1\n",
    "\n",
    "or:2\n",
    "\n",
    "to:1\n",
    "'''\n",
    "\n",
    "class word:\n",
    "    def counter(self,s):                                   \n",
    "        word_dict={}\n",
    "        for i in s.split():                               #splitting the string into a list\n",
    "            word_dict[i]=word_dict.get(i,0)+1             #using get to initialise new key and value in dict\n",
    "                                                          #once new key is found the value is initialised as 1\n",
    "                \n",
    "                \n",
    "        return dict(sorted(word_dict.items()))            #converting into tuples to sort and then back to dictionary\n",
    "\n",
    "\n",
    "print(word().counter(input('Enter the input: ')))"
   ]
  },
  {
   "cell_type": "code",
   "execution_count": 3,
   "id": "492a66c3",
   "metadata": {},
   "outputs": [
    {
     "name": "stdout",
     "output_type": "stream",
     "text": [
      "Male\n",
      "Female\n"
     ]
    }
   ],
   "source": [
    "'''Question 3:\n",
    "\n",
    "Define a class Person and its two child classes: Male and Female. All classes have a method \"getGender\"\n",
    "which can print \"Male\" for Male class and \"Female\" for Female class.\n",
    "'''\n",
    "\n",
    "class Person:\n",
    "    def __init__(self):\n",
    "        self.gender='unknown'          \n",
    "    \n",
    "    def getGender(self):\n",
    "        return self.gender                    \n",
    "        \n",
    "class Male(Person):\n",
    "    def __init__(self):\n",
    "        self.gender='Male'            #instance vairable varies according to the method call.\n",
    "                                      #but the function is in parent class and is available in all classes.\n",
    "class Female(Person):\n",
    "    def __init__(self):\n",
    "        self.gender='Female'\n",
    "        \n",
    "Man=Male()\n",
    "Woman=Female()\n",
    "\n",
    "print(Man.getGender())\n",
    "print(Woman.getGender())"
   ]
  },
  {
   "cell_type": "code",
   "execution_count": 4,
   "id": "907caf2b",
   "metadata": {},
   "outputs": [
    {
     "name": "stdout",
     "output_type": "stream",
     "text": [
      "I Play Hockey\n",
      "I Play Football\n",
      "I Love Hockey\n",
      "I Love Football\n",
      "You Play Hockey\n",
      "You Play Football\n",
      "You Love Hockey\n",
      "You Love Football\n"
     ]
    }
   ],
   "source": [
    "'''Question 4:\n",
    "Please write a program to generate all sentences where subject is in [\"I\", \"You\"] and verb is in [\"Play\", \"Love\"] and\n",
    "the object is in [\"Hockey\",\"Football\"].\n",
    "'''\n",
    "\n",
    "\n",
    "def sent():\n",
    "    s=[\"I\", \"You\"]\n",
    "    v=[\"Play\", \"Love\"]\n",
    "    o=[\"Hockey\",\"Football\"]\n",
    "    for i in s:\n",
    "        for j in v:\n",
    "            for k in o:\n",
    "                print(i,j,k)\n",
    "sent()"
   ]
  },
  {
   "cell_type": "code",
   "execution_count": 5,
   "id": "6b85fec2",
   "metadata": {},
   "outputs": [
    {
     "name": "stdout",
     "output_type": "stream",
     "text": [
      "Original size= 81\n",
      "Compressed size= 56\n",
      "Decompressed size= 81\n"
     ]
    }
   ],
   "source": [
    "'''Question 5:\n",
    "Please write a program to compress and decompress the string \"hello world!hello world!hello world!hello world!\".\n",
    "'''\n",
    "\n",
    "import zlib as z\n",
    "import sys\n",
    "s=b\"hello world!hello world!hello world!hello world!\"                 #converts to byte\n",
    "print('Original size=',sys.getsizeof(s))\n",
    "comp=z.compress(s)\n",
    "print('Compressed size=',sys.getsizeof(comp))\n",
    "decomp=z.decompress(comp)\n",
    "print('Decompressed size=',sys.getsizeof(decomp))"
   ]
  },
  {
   "cell_type": "code",
   "execution_count": 13,
   "id": "c73b7a30",
   "metadata": {},
   "outputs": [
    {
     "name": "stdout",
     "output_type": "stream",
     "text": [
      "The element is present in index 3 in list [11, 22, 33, 44, 55, 66, 77, 88, 99]\n"
     ]
    }
   ],
   "source": [
    "'''Question 6:\n",
    "Please write a binary search function which searches an item in a sorted list.\n",
    "The function should return the index of element to be searched in the list.\n",
    "'''\n",
    "\n",
    "def search(lst,element):\n",
    "    min=0\n",
    "    max=len(lst)-1\n",
    "    \n",
    "    while min<=max:                    #condition for the loop to run. min and max will be equal in the end if \n",
    "        mid=(min+max)//2               #the element is in extremes\n",
    "        if lst[mid]==element:\n",
    "            return mid                 #only when element index is stored in mid, the program will return the output\n",
    "        elif lst[mid]<element:\n",
    "            min=mid+1\n",
    "        elif lst[mid]>element:\n",
    "            max=mid-1\n",
    "    return -1\n",
    "\n",
    "lst=[11,55,66,77,88,22,33,44,99]\n",
    "lst.sort()                             # sorting the list\n",
    "e=44                                   # the element to be searched\n",
    "a=search(lst,e)\n",
    "if a==-1:\n",
    "    print('Element not present')\n",
    "else:\n",
    "    print('The element is present in index',a,'in list',lst)\n",
    "    "
   ]
  }
 ],
 "metadata": {
  "kernelspec": {
   "display_name": "Python 3",
   "language": "python",
   "name": "python3"
  },
  "language_info": {
   "codemirror_mode": {
    "name": "ipython",
    "version": 3
   },
   "file_extension": ".py",
   "mimetype": "text/x-python",
   "name": "python",
   "nbconvert_exporter": "python",
   "pygments_lexer": "ipython3",
   "version": "3.8.8"
  }
 },
 "nbformat": 4,
 "nbformat_minor": 5
}
