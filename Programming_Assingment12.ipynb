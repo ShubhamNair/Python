{
 "cells": [
  {
   "cell_type": "code",
   "execution_count": 10,
   "id": "017df44e",
   "metadata": {},
   "outputs": [
    {
     "name": "stdout",
     "output_type": "stream",
     "text": [
      "{12, 4, 15}\n"
     ]
    }
   ],
   "source": [
    "#Write a Python program to Extract Unique values dictionary values?\n",
    "\n",
    "dict1={'a':12,'b':15,'d':4,'e':15}\n",
    "\n",
    "print(set(dict1.values()))"
   ]
  },
  {
   "cell_type": "code",
   "execution_count": 11,
   "id": "817c686a",
   "metadata": {},
   "outputs": [
    {
     "name": "stdout",
     "output_type": "stream",
     "text": [
      "46\n"
     ]
    }
   ],
   "source": [
    "#Write a Python program to find the sum of all items in a dictionary?\n",
    "\n",
    "dict1={'a':12,'b':15,'d':4,'e':15}\n",
    "\n",
    "print(sum(dict1.values()))"
   ]
  },
  {
   "cell_type": "code",
   "execution_count": 12,
   "id": "492a66c3",
   "metadata": {},
   "outputs": [
    {
     "name": "stdout",
     "output_type": "stream",
     "text": [
      "After merging: {'a': 12, 'b': 15, 'd': 4, 'e': 15, 'c': 12, 'f': 15, 'h': 6, 'g': 13}\n"
     ]
    }
   ],
   "source": [
    "#Write a Python program to Merging two Dictionaries?\n",
    "\n",
    "dict1={'a':12,'b':15,'d':4,'e':15}\n",
    "dict2={'c':12,'f':15,'h':6,'g':13}\n",
    "dict1.update(dict2)                         #updating merges the dictionary to original dict1\n",
    "print('After merging:',dict1)              "
   ]
  },
  {
   "cell_type": "code",
   "execution_count": 34,
   "id": "907caf2b",
   "metadata": {},
   "outputs": [
    {
     "name": "stdout",
     "output_type": "stream",
     "text": [
      "Original: {'ai': ['a', 'b', 'c', 'd'], 'bi': ['1', '2', '3', '4']} \n",
      "COnverted: {'a': '1', 'b': '2', 'c': '3', 'd': '4'}\n"
     ]
    }
   ],
   "source": [
    "#Write a Python program to convert key-values list to flat dictionary?\n",
    "\n",
    "\n",
    "d={'ai':['a','b','c','d'],'bi':['1','2','3','4']}\n",
    "\n",
    "s= dict(zip(d['ai'],d['bi']))                 #zip returns generator object tuple of the minimum inputs given\n",
    "print('Original:',d,'\\nCOnverted:',s)         #i.e. if one had 4 element and other had 5 element, It only returns tuple of 4 elements"
   ]
  },
  {
   "cell_type": "code",
   "execution_count": 5,
   "id": "6b85fec2",
   "metadata": {},
   "outputs": [
    {
     "name": "stdout",
     "output_type": "stream",
     "text": [
      "{'c': 11, 'f': 15, 'h': 6, 'g': 13, 'a': 12, 'b': 15, 'e': 15, 'd': 4}\n"
     ]
    }
   ],
   "source": [
    "#Write a Python program to insertion at the beginning in OrderedDict?\n",
    "\n",
    "dict1={'a':12,'b':15,'e':15,'d':4}              #original ordered dict\n",
    "dict2={'c':11,'f':15,'h':6,'g':13}              #dict2 is to be inserted at the beginning\n",
    "\n",
    "dict2.update(dict1)\n",
    "print(dict2)"
   ]
  },
  {
   "cell_type": "code",
   "execution_count": 37,
   "id": "c73b7a30",
   "metadata": {},
   "outputs": [
    {
     "name": "stdout",
     "output_type": "stream",
     "text": [
      "Is pattern ordered(True) or not(False): True\n"
     ]
    }
   ],
   "source": [
    "#Write a Python program to check order of character in string using OrderedDict()?\n",
    "\n",
    "from collections import OrderedDict\n",
    "def check(inpt,pattern):\n",
    "    d=OrderedDict.fromkeys(inpt)         #ordered dict stores the order of the input given. fromkeys only stores keys and\n",
    "                                         #therefore values are all None data type.\n",
    "                                         #Note: as it is a dict, duplicate keys will be removed and the key first called will\n",
    "                                         #only be kept.\n",
    "                                            \n",
    "    \n",
    "    \n",
    "    count=0                                  #used to count the number of elements from the order has been found\n",
    "    for k,v in d.items():\n",
    "        if k==pattern[count]:                #only if the current element is found, count is incremented to find next element\n",
    "            count+=1                         #from the patten order\n",
    "            \n",
    "        if len(pattern)==count:\n",
    "            return True                      #if len from order and the input are same then the string is ordered\n",
    "    \n",
    "    return False\n",
    "\n",
    "stng='It is 4 am now, I should go to sleep.'\n",
    "ptrn='I4e'\n",
    "print('Is pattern ordered(True) or not(False):',check(stng,ptrn))\n"
   ]
  },
  {
   "cell_type": "code",
   "execution_count": 38,
   "id": "22a37c71",
   "metadata": {},
   "outputs": [
    {
     "name": "stdout",
     "output_type": "stream",
     "text": [
      "Sorted by key: [('a', 12), ('b', 15), ('d', 4), ('e', 13)]\n",
      "Sorted by value: [(4, 'd'), (12, 'a'), (13, 'e'), (15, 'b')]\n"
     ]
    }
   ],
   "source": [
    "#Write a Python program to sort Python Dictionaries by Key or Value?\n",
    "\n",
    "dict1={'a':12,'b':15,'e':13,'d':4} \n",
    "by_key=[]\n",
    "by_value=[]\n",
    "for k,v in dict1.items():            #returns a list of tuples\n",
    "    by_key.append((k,v))             # appends keys first\n",
    "    by_value.append((v,k))           # appends value first\n",
    "by_key.sort()                        # sorts by first index of tuple present inside list. Sorted can also be used\n",
    "by_value.sort()\n",
    "print('Sorted by key:',by_key)\n",
    "print('Sorted by value:',by_value)"
   ]
  }
 ],
 "metadata": {
  "kernelspec": {
   "display_name": "Python 3",
   "language": "python",
   "name": "python3"
  },
  "language_info": {
   "codemirror_mode": {
    "name": "ipython",
    "version": 3
   },
   "file_extension": ".py",
   "mimetype": "text/x-python",
   "name": "python",
   "nbconvert_exporter": "python",
   "pygments_lexer": "ipython3",
   "version": "3.8.8"
  }
 },
 "nbformat": 4,
 "nbformat_minor": 5
}
