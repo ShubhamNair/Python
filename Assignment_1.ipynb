{
 "cells": [
  {
   "cell_type": "code",
   "execution_count": null,
   "id": "c66c1a3f",
   "metadata": {},
   "outputs": [],
   "source": [
    "1. In the below elements which of them are values or an operator? eg:- values can be integer or string and Operators will be mathematical operators.\n",
    "*        -Operator(Multiplication) \n",
    "'hello'  -Value(String)\n",
    "-87.8    -Value(Float)\n",
    "-        -Operator(Substraction) \n",
    "/        -Operator(Division)  \n",
    "\n",
    "+        -Operator(Addition)\n",
    "6        -Value(integer)\n"
   ]
  },
  {
   "cell_type": "code",
   "execution_count": null,
   "id": "069a3c53",
   "metadata": {},
   "outputs": [],
   "source": [
    "2. What is the difference between string and variable?\n",
    "Ans: String is a data type and variable is used to store values.\n",
    "    Variables can contain string, integer, floating point, boolean,etc i.e. it can store any value."
   ]
  },
  {
   "cell_type": "code",
   "execution_count": null,
   "id": "6b93b3a4",
   "metadata": {},
   "outputs": [],
   "source": [
    "3. Describe three different data types.\n",
    "Ans.\n",
    "Integer- It contains numbers from negative infinity to infinity excluding decimal values\n",
    "Float-It contains numbers from negative infinity to infinity including decimal values\n",
    "String-It contains text type of values.Eg. sentences and paragraphs\n",
    "Boolean-It only has two values: True and False\n",
    "None-It is use to define null value or emptiness"
   ]
  },
  {
   "cell_type": "code",
   "execution_count": null,
   "id": "98191ffd",
   "metadata": {},
   "outputs": [],
   "source": [
    "4. What is an expression made up of? What do all expressions do?\n",
    "Ans.\n",
    "Expressions are made up of operators like +,-,*,/,etc. and operands(variable or values).\n",
    "They do the operations between operandds using the operators and can be used to print or store the result after the operation.\n"
   ]
  },
  {
   "cell_type": "code",
   "execution_count": null,
   "id": "4f52e8ef",
   "metadata": {},
   "outputs": [],
   "source": [
    "5. This assignment statements, like spam = 10. What is the difference between an expression and a statement?\n",
    "Ans.\n",
    "Assignment statements are used to assign values to a variable and are denoted by =\n",
    "Statement is an instruction which python interpreter can execcute. \n",
    "Expressions are made up of operators like +,-,*,/,etc. and operands(variable or values)"
   ]
  },
  {
   "cell_type": "code",
   "execution_count": null,
   "id": "a38a5fbb",
   "metadata": {},
   "outputs": [],
   "source": [
    "6. After running the following code, what does the variable bacon contain?\n",
    "bacon = 22\n",
    "bacon + 1\n",
    "Ans. The value of bacon will be 22 as the value which was incremented isn't stored"
   ]
  },
  {
   "cell_type": "code",
   "execution_count": null,
   "id": "5ab2b6a5",
   "metadata": {},
   "outputs": [],
   "source": [
    "7. What should the values of the following two terms be?\n",
    "'spam' + 'spamspam'\n",
    "'spam' * 3\n",
    "Ans. Both give output as 'spamspamspam'"
   ]
  },
  {
   "cell_type": "code",
   "execution_count": null,
   "id": "5a5dd30b",
   "metadata": {},
   "outputs": [],
   "source": [
    "8. Why is eggs a valid variable name while 100 is invalid?\n",
    "Ans. Variable name cannot start with a number. Only letter and underscore.\n"
   ]
  },
  {
   "cell_type": "code",
   "execution_count": null,
   "id": "8be34ec4",
   "metadata": {},
   "outputs": [],
   "source": [
    "9. What three functions can be used to get the integer, floating-point number, or string version of a value?\n",
    "Ans:\n",
    "    int()\n",
    "    float()\n",
    "    str()"
   ]
  },
  {
   "cell_type": "code",
   "execution_count": null,
   "id": "7bd2255a",
   "metadata": {},
   "outputs": [],
   "source": [
    "10. Why does this expression cause an error? How can you fix it?\n",
    "'I have eaten ' + 99 + ' burritos.'\n",
    "Ans:\n",
    "    The middle operand 99 is an integer. Typecasting it into sting by using '' will fix the expression.\n",
    "    Therefore the final expression should be:\n",
    "        'I have eaten'+'99'+'burritos.'\n"
   ]
  }
 ],
 "metadata": {
  "kernelspec": {
   "display_name": "Python 3",
   "language": "python",
   "name": "python3"
  },
  "language_info": {
   "codemirror_mode": {
    "name": "ipython",
    "version": 3
   },
   "file_extension": ".py",
   "mimetype": "text/x-python",
   "name": "python",
   "nbconvert_exporter": "python",
   "pygments_lexer": "ipython3",
   "version": "3.8.8"
  }
 },
 "nbformat": 4,
 "nbformat_minor": 5
}
