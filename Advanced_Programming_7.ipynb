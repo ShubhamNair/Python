{
 "cells": [
  {
   "cell_type": "code",
   "execution_count": 3,
   "id": "7a1e7c85",
   "metadata": {},
   "outputs": [
    {
     "data": {
      "text/plain": [
       "5"
      ]
     },
     "execution_count": 3,
     "metadata": {},
     "output_type": "execute_result"
    }
   ],
   "source": [
    "'''1. Write a function that counts how many concentric layers a rug.\n",
    "\n",
    "Examples\n",
    "\n",
    "count_layers([\n",
    "  \"AAAA\",\n",
    "  \"ABBA\",\n",
    "  \"AAAA\"\n",
    "]) ➞ 2\n",
    "\n",
    "count_layers([\n",
    "  \"AAAAAAAAA\",\n",
    "  \"ABBBBBBBA\",\n",
    "  \"ABBAAABBA\",\n",
    "  \"ABBBBBBBA\",\n",
    "  \"AAAAAAAAA\"\n",
    "]) ➞ 3\n",
    "\n",
    "count_layers([\n",
    "  \"AAAAAAAAAAA\",\n",
    "  \"AABBBBBBBAA\",\n",
    "  \"AABCCCCCBAA\",\n",
    "  \"AABCAAACBAA\",\n",
    "  \"AABCADACBAA\",\n",
    "  \"AABCAAACBAA\",\n",
    "  \"AABCCCCCBAA\",\n",
    "  \"AABBBBBBBAA\",\n",
    "  \"AAAAAAAAAAA\"\n",
    "]) ➞ 5\n",
    "'''\n",
    "\n",
    "def count_layers(lst):\n",
    "    return (len(lst)//2)+1                #ceil can also be used\n",
    "        \n",
    "        \n",
    "        \n",
    "count_layers([\n",
    "  \"AAAAAAAAAAA\",\n",
    "  \"AABBBBBBBAA\",\n",
    "  \"AABCCCCCBAA\",\n",
    "  \"AABCAAACBAA\",\n",
    "  \"AABCADACBAA\",\n",
    "  \"AABCAAACBAA\",\n",
    "  \"AABCCCCCBAA\",\n",
    "  \"AABBBBBBBAA\",\n",
    "  \"AAAAAAAAAAA\"\n",
    "])        "
   ]
  },
  {
   "cell_type": "code",
   "execution_count": 14,
   "id": "6930e99b",
   "metadata": {},
   "outputs": [
    {
     "data": {
      "text/plain": [
       "7"
      ]
     },
     "execution_count": 14,
     "metadata": {},
     "output_type": "execute_result"
    }
   ],
   "source": [
    "'''2. There are many different styles of music and many albums exhibit multiple styles. \n",
    "Create a function that takes a list of musical styles from albums and returns how many styles are unique.\n",
    "\n",
    "Examples\n",
    "\n",
    "unique_styles([\n",
    "  \"Dub,Dancehall\",\n",
    "  \"Industrial,Heavy Metal\",\n",
    "  \"Techno,Dubstep\",\n",
    "  \"Synth-pop,Euro-Disco\",\n",
    "  \"Industrial,Techno,Minimal\"\n",
    "]) ➞ 9\n",
    "\n",
    "unique_styles([\n",
    "  \"Soul\",\n",
    "  \"House,Folk\",\n",
    "  \"Trance,Downtempo,Big Beat,House\",\n",
    "  \"Deep House\",\n",
    "  \"Soul\"\n",
    "]) ➞ 7\n",
    "'''\n",
    "\n",
    "def unique_styles(lst):\n",
    "    dictn=dict()\n",
    "    \n",
    "    for i in lst:\n",
    "        for j in i.split(','):\n",
    "            dictn[j]=dictn.get(i,0)+1          #this code can also count instances\n",
    "    return len(dictn.keys())\n",
    "\n",
    "unique_styles([\n",
    "  \"Soul\",\n",
    "  \"House,Folk\",\n",
    "  \"Trance,Downtempo,Big Beat,House\",\n",
    "  \"Deep House\",\n",
    "  \"Soul\"\n",
    "])"
   ]
  },
  {
   "cell_type": "code",
   "execution_count": 16,
   "id": "8fd111de",
   "metadata": {},
   "outputs": [
    {
     "name": "stdout",
     "output_type": "stream",
     "text": [
      "yes\n",
      "no\n"
     ]
    }
   ],
   "source": [
    "'''3. Create a function that finds a target number in a list of prime numbers. \n",
    "Implement a binary search algorithm in your function. The target number will be from 2 through 97. \n",
    "If the target is prime then return \"yes\" else return \"no\".\n",
    "\n",
    "Examples\n",
    "\n",
    "primes = [2, 3, 5, 7, 11, 13, 17, 19, 23, 29, 31, 37, 41, 43, 47, 53, 59, 61, 67, 71, 73, 79, 83, 89, 97]\n",
    "\n",
    "\n",
    "is_prime(primes, 3) ➞ \"yes\"\n",
    "\n",
    "is_prime(primes, 4) ➞ \"no\"\n",
    "\n",
    "is_prime(primes, 67) ➞ \"yes\"\n",
    "\n",
    "is_prime(primes, 36) ➞ \"no\"\n",
    "'''\n",
    "\n",
    "def is_prime(primes,n):\n",
    "    low=0\n",
    "    high=len(primes)-1\n",
    "    mid=(low+high)//2\n",
    "    \n",
    "    while low<=high:\n",
    "        if primes[mid]==n:\n",
    "            return \"yes\"\n",
    "        \n",
    "        elif primes[mid]>n:\n",
    "            high=mid-1\n",
    "            mid=(low+high)//2\n",
    "        \n",
    "        elif primes[mid]<n:\n",
    "            low=mid+1\n",
    "            mid=(low+high)//2\n",
    "    return \"no\"\n",
    "\n",
    "primes = [2, 3, 5, 7, 11, 13, 17, 19, 23, 29, 31, 37, 41, 43, 47, 53, 59, 61, 67, 71, 73, 79, 83, 89, 97]\n",
    "print(is_prime(primes, 67))\n",
    "print(is_prime(primes, 4))"
   ]
  },
  {
   "cell_type": "code",
   "execution_count": 38,
   "id": "68d5e79c",
   "metadata": {},
   "outputs": [
    {
     "name": "stdout",
     "output_type": "stream",
     "text": [
      "2\n",
      "1\n",
      "3\n"
     ]
    }
   ],
   "source": [
    "'''4. Create a function that takes in n, a, b and returns the number of positive \n",
    "values raised to the nth power that lie in the range [a, b], inclusive.\n",
    "\n",
    "Examples\n",
    "\n",
    "power_ranger(2, 49, 65) ➞ 2\n",
    "# 2 squares (n^2) lie between 49 and 65, 49 (7^2) and 64 (8^2)\n",
    "\n",
    "power_ranger(3, 1, 27) ➞ 3\n",
    "# 3 cubes (n^3) lie between 1 and 27, 1 (1^3), 8 (2^3) and 27 (3^3)\n",
    "\n",
    "power_ranger(10, 1, 5) ➞ 1\n",
    "# 1 value raised to the 10th power lies between 1 and 5, 1 (1^10)\n",
    "\n",
    "power_ranger(5, 31, 33) ➞ 1\n",
    "\n",
    "power_ranger(4, 250, 1300) ➞ 3\n",
    "'''\n",
    "from math import ceil,floor\n",
    "def power_ranger(n,a,b):\n",
    "    min_sqrt=ceil(a**(1/n))                #to get the next perfect squareroot of a\n",
    "    max_sqrt=floor(b**(1/n))               #to get the previous perfect squareroot of b\n",
    "    count=0\n",
    "    \n",
    "    for i in range(min_sqrt,max_sqrt+1):  \n",
    "        #print('val=',i)                   #this can also show the actual values\n",
    "        count+=1                             \n",
    "        \n",
    "    return count\n",
    "\n",
    "print(power_ranger(2, 49, 65))\n",
    "print(power_ranger(5, 31, 33))\n",
    "print(power_ranger(4, 250, 1300))"
   ]
  },
  {
   "cell_type": "code",
   "execution_count": 27,
   "id": "cbcc4141",
   "metadata": {},
   "outputs": [
    {
     "name": "stdout",
     "output_type": "stream",
     "text": [
      "90981\n",
      "7709823\n"
     ]
    }
   ],
   "source": [
    "'''5. Given a number, return the difference between the maximum and minimum numbers \n",
    "that can be formed when the digits are rearranged.\n",
    "\n",
    "Examples\n",
    "\n",
    "rearranged_difference(972882) ➞ 760833\n",
    "# 988722 - 227889 = 760833\n",
    "\n",
    "rearranged_difference(3320707) ➞ 7709823\n",
    "# 7733200 - 23377 = 7709823\n",
    "\n",
    "rearranged_difference(90010) ➞ 90981\n",
    "# 91000 - 19 = 90981\n",
    "\n",
    "'''\n",
    "\n",
    "def rearranged_difference(n):\n",
    "    min=sorted(str(n))\n",
    "    max=sorted(str(n),reverse=True)\n",
    "    return int(''.join(max))-int(''.join(min))\n",
    "\n",
    "print(rearranged_difference(90010))\n",
    "print(rearranged_difference(3320707))"
   ]
  }
 ],
 "metadata": {
  "kernelspec": {
   "display_name": "Python 3",
   "language": "python",
   "name": "python3"
  },
  "language_info": {
   "codemirror_mode": {
    "name": "ipython",
    "version": 3
   },
   "file_extension": ".py",
   "mimetype": "text/x-python",
   "name": "python",
   "nbconvert_exporter": "python",
   "pygments_lexer": "ipython3",
   "version": "3.8.8"
  }
 },
 "nbformat": 4,
 "nbformat_minor": 5
}
