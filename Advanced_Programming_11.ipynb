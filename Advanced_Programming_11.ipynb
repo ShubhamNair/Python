{
 "cells": [
  {
   "cell_type": "code",
   "execution_count": 9,
   "id": "73725d59",
   "metadata": {},
   "outputs": [
    {
     "data": {
      "text/plain": [
       "[1009, 3, 61, 1087, 1091, 1093, 1097]"
      ]
     },
     "execution_count": 9,
     "metadata": {},
     "output_type": "execute_result"
    }
   ],
   "source": [
    "'''1. Create a function that takes a list and returns a new list containing only prime numbers.\n",
    "\n",
    "Examples\n",
    "\n",
    "filter_primes([7, 9, 3, 9, 10, 11, 27]) ➞ [7, 3, 11]\n",
    "\n",
    "filter_primes([10007, 1009, 1007, 27, 147, 77, 1001, 70]) ➞ [10007, 1009]\n",
    "\n",
    "filter_primes([1009, 10, 10, 10, 3, 33, 9, 4, 1, 61, 63, 69, 1087, 1091, 1093, 1097]) ➞\n",
    "[1009, 3, 61, 1087, 1091, 1093, 1097]\n",
    "\n",
    "'''\n",
    "\n",
    "def filter_primes(lst):\n",
    "    p_lst=[]\n",
    "    for i in lst:\n",
    "        if i>1:\n",
    "            for j in range(2,i//2+1):\n",
    "                if i%j==0:\n",
    "                    break\n",
    "\n",
    "            else:\n",
    "                p_lst.append(i)\n",
    "\n",
    "    return p_lst\n",
    "\n",
    "filter_primes([1009, 10, 10, 10, 3, 33, 9, 4, 1, 61, 63, 69, 1087, 1091, 1093, 1097])"
   ]
  },
  {
   "cell_type": "code",
   "execution_count": 4,
   "id": "6a982c1e",
   "metadata": {},
   "outputs": [
    {
     "data": {
      "text/plain": [
       "[0, 1, 2, 3, 2, 1, 0]"
      ]
     },
     "execution_count": 4,
     "metadata": {},
     "output_type": "execute_result"
    }
   ],
   "source": [
    "'''2. Once a water balloon pops, is soaks the area around it. \n",
    "The ground gets drier the further away you travel from the balloon.\n",
    "\n",
    "The effect of a water balloon popping can be modeled using a list. \n",
    "Create a function that takes a list which takes the pre-pop state and returns the state after the balloon is popped. \n",
    "The pre-pop state will contain at most a single balloon, whose size is represented by the only non-zero element.\n",
    "\n",
    "Examples\n",
    "\n",
    "pop([0, 0, 0, 0, 4, 0, 0, 0, 0]) ➞ [0, 1, 2, 3, 4, 3, 2, 1, 0]\n",
    "\n",
    "pop([0, 0, 0, 3, 0, 0, 0]) ➞ [0, 1, 2, 3, 2, 1, 0]\n",
    "\n",
    "pop([0, 0, 2, 0, 0]) ➞ [0, 1, 2, 1, 0]\n",
    "\n",
    "pop([0]) ➞ [0]'''\n",
    "\n",
    "def pop(lst):\n",
    "    leng = len(lst)//2\n",
    "    inc = 0\n",
    "    for i in range(leng+1):\n",
    "        lst[i] = inc\n",
    "        lst[-i-1] = inc\n",
    "        inc += 1\n",
    "    return lst\n",
    "\n",
    "pop([0, 0, 0, 3, 0, 0, 0])"
   ]
  },
  {
   "cell_type": "code",
   "execution_count": 9,
   "id": "53e00ece",
   "metadata": {},
   "outputs": [
    {
     "data": {
      "text/plain": [
       "'Loves me, Loves me not, Loves me, Loves me not, Loves me, LOVES ME NOT'"
      ]
     },
     "execution_count": 9,
     "metadata": {},
     "output_type": "execute_result"
    }
   ],
   "source": [
    "'''3. \"Loves me, loves me not\" is a traditional game in which a person plucks off all the petals of\n",
    "a flower one by one, saying the phrase \"Loves me\" and \"Loves me not\" \n",
    "when determining whether the one that they love, loves them back.\n",
    "\n",
    "Given a number of petals, return a string which repeats the phrases \n",
    "\"Loves me\" and \"Loves me not\" for every alternating petal, and return the last phrase in all caps.\n",
    "Remember to put a comma and space between phrases.\n",
    "\n",
    "Examples\n",
    "\n",
    "loves_me(3) ➞ \"Loves me, Loves me not, LOVES ME\"\n",
    "\n",
    "loves_me(6) ➞ \"Loves me, Loves me not, Loves me, Loves me not, Loves me, LOVES ME NOT\"\n",
    "\n",
    "loves_me(1) ➞ \"LOVES ME\"\n",
    "'''\n",
    "\n",
    "def loves_me(n):\n",
    "    out=''\n",
    "    for i in range(n):\n",
    "        if i%2==0:\n",
    "            if i==n-1:\n",
    "                out+='LOVES ME'\n",
    "            else:\n",
    "                out+='Loves me, '\n",
    "        else:\n",
    "            if i==n-1:\n",
    "                out+='LOVES ME NOT'\n",
    "            else:\n",
    "                out+='Loves me not, '\n",
    "    return out\n",
    "\n",
    "loves_me(6)"
   ]
  },
  {
   "cell_type": "code",
   "execution_count": 17,
   "id": "68875c3c",
   "metadata": {},
   "outputs": [
    {
     "data": {
      "text/plain": [
       "['2344b', '932c', '832u32']"
      ]
     },
     "execution_count": 17,
     "metadata": {},
     "output_type": "execute_result"
    }
   ],
   "source": [
    "'''4. Write a function that sorts each string in a list by the letter in alphabetic ascending order (a-z).\n",
    "\n",
    "Examples\n",
    "\n",
    "sort_by_letter([\"932c\", \"832u32\", \"2344b\"])\n",
    "➞ [\"2344b\", \"932c\", \"832u32\"]\n",
    "\n",
    "sort_by_letter([\"99a\", \"78b\", \"c2345\", \"11d\"])\n",
    "➞ [\"99a\", \"78b\", \"c2345\", \"11d\"]\n",
    "\n",
    "sort_by_letter([\"572z\", \"5y5\", \"304q2\"])\n",
    "➞ [\"304q2\", \"5y5\", \"572z\"]\n",
    "\n",
    "sort_by_letter([])\n",
    "➞ []'''\n",
    "\n",
    "def sort_by_letter(l):\n",
    "    return sorted(l, key=lambda a: \"\".join([i for i in a if i.isalpha()])) #list comprehension and lambda fn while  \n",
    "                                                                           #checking if alphabet is present or not\n",
    "    \n",
    "sort_by_letter([\"932c\", \"832u32\", \"2344b\"])"
   ]
  },
  {
   "cell_type": "code",
   "execution_count": 8,
   "id": "50d656c1",
   "metadata": {},
   "outputs": [
    {
     "data": {
      "text/plain": [
       "'C'"
      ]
     },
     "execution_count": 8,
     "metadata": {},
     "output_type": "execute_result"
    }
   ],
   "source": [
    "'''\n",
    "5. There are three cups on a table, at positions A, B, and C. At the start, there is a ball hidden under \n",
    "the cup at position B.\n",
    "\n",
    "\n",
    "\n",
    "However, I perform several swaps on the cups, which is notated as two letters. \n",
    "For example, if I swap the cups at positions A and B, I could notate this as AB or BA.\n",
    "\n",
    "Create a function that returns the letter position that the ball is at, once I finish swapping the cups. \n",
    "The swaps will be given to you as a list.\n",
    "\n",
    "Example\n",
    "\n",
    "cup_swapping([\"AB\", \"CA\", \"AB\"]) ➞ \"C\"\n",
    "\n",
    "# Ball begins at position B.\n",
    "# Cups A and B swap, so the ball is at position A.\n",
    "# Cups C and A swap, so the ball is at position C.\n",
    "# Cups A and B swap, but the ball is at position C, so it doesn't move.\n",
    "'''\n",
    "\n",
    "def cup_swapping(lst):\n",
    "    ball=lst[0][1]                                    #initial position\n",
    "    for i in lst:\n",
    "        if ball in i:                                 #checks if ball location present or not.\n",
    "            swap=i.replace(ball,'')                   #replaces the previous location with new one\n",
    "            ball=swap                                 #and is then stored ball\n",
    "    return ball \n",
    "\n",
    "cup_swapping([\"AB\", \"CA\", \"AB\"])"
   ]
  }
 ],
 "metadata": {
  "kernelspec": {
   "display_name": "Python 3",
   "language": "python",
   "name": "python3"
  },
  "language_info": {
   "codemirror_mode": {
    "name": "ipython",
    "version": 3
   },
   "file_extension": ".py",
   "mimetype": "text/x-python",
   "name": "python",
   "nbconvert_exporter": "python",
   "pygments_lexer": "ipython3",
   "version": "3.8.8"
  }
 },
 "nbformat": 4,
 "nbformat_minor": 5
}
