{
 "cells": [
  {
   "cell_type": "code",
   "execution_count": 4,
   "id": "25138318",
   "metadata": {},
   "outputs": [
    {
     "name": "stdout",
     "output_type": "stream",
     "text": [
      "5 6 4 5 1\n",
      "21\n"
     ]
    }
   ],
   "source": [
    "#Write a Python program to find sum of elements in list?\n",
    "\n",
    "lst=[]\n",
    "for i in input().split():             #makes a list of input and iterates through it \n",
    "    lst.append(int(i))                #appends the input to the list\n",
    "print(sum(lst))"
   ]
  },
  {
   "cell_type": "code",
   "execution_count": 9,
   "id": "9b3393e0",
   "metadata": {},
   "outputs": [
    {
     "name": "stdout",
     "output_type": "stream",
     "text": [
      "5 5 2 100\n",
      "[5, 5, 2, 100]\n",
      "Result after multiplying all the numbers in list= 5000\n"
     ]
    }
   ],
   "source": [
    "#Write a Python program to  Multiply all numbers in the list?\n",
    "\n",
    "lst=[]\n",
    "for i in input().split():             #makes a list of input and iterates through it \n",
    "    lst.append(int(i))                #appends the input to the list\n",
    "print(lst)\n",
    "\n",
    "product=1\n",
    "for i in lst:\n",
    "    product=product*i\n",
    "    \n",
    "print('Result after multiplying all the numbers in list=',product)\n",
    "    "
   ]
  },
  {
   "cell_type": "code",
   "execution_count": 11,
   "id": "198901b7",
   "metadata": {},
   "outputs": [
    {
     "name": "stdout",
     "output_type": "stream",
     "text": [
      "52 66 44 88 123 55 7\n",
      "List= [52, 66, 44, 88, 123, 55, 7]\n",
      "Smallest number= 7\n"
     ]
    }
   ],
   "source": [
    "#Write a Python program to find smallest number in a list?\n",
    "\n",
    "lst=[]\n",
    "for i in input().split():             #makes a list of input and iterates through it \n",
    "    lst.append(int(i))                #appends the input to the list\n",
    "print('List=',lst)\n",
    "\n",
    "print('Smallest number=',sorted(lst)[0])"
   ]
  },
  {
   "cell_type": "code",
   "execution_count": 13,
   "id": "983d61fc",
   "metadata": {},
   "outputs": [
    {
     "name": "stdout",
     "output_type": "stream",
     "text": [
      "11 22 6647 555 564544 23224 66554 121354\n",
      "List= [11, 22, 6647, 555, 564544, 23224, 66554, 121354]\n",
      "Largest Number= 564544\n"
     ]
    }
   ],
   "source": [
    "#Write a Python program to find largest number in a list?\n",
    "\n",
    "lst=[]\n",
    "for i in input().split():             #makes a list of input and iterates through it \n",
    "    lst.append(int(i))                #appends the input to the list\n",
    "print('List=',lst)\n",
    "\n",
    "print('Largest Number=',sorted(lst,reverse=True)[0])"
   ]
  },
  {
   "cell_type": "code",
   "execution_count": 15,
   "id": "5b4d1a90",
   "metadata": {},
   "outputs": [
    {
     "name": "stdout",
     "output_type": "stream",
     "text": [
      "555 6664 312311 445464 54421212 455546\n",
      "List= [555, 6664, 312311, 445464, 54421212, 455546]\n",
      "Second largest Number= 455546\n"
     ]
    }
   ],
   "source": [
    "#Write a Python program to find second largest number in a list?\n",
    "\n",
    "lst=[]\n",
    "for i in input().split():             #makes a list of input and iterates through it \n",
    "    lst.append(int(i))                #appends the input to the list\n",
    "print('List=',lst)\n",
    "\n",
    "print('Second largest Number=',sorted(lst,reverse=True)[1])"
   ]
  },
  {
   "cell_type": "code",
   "execution_count": 20,
   "id": "583429b8",
   "metadata": {},
   "outputs": [
    {
     "name": "stdout",
     "output_type": "stream",
     "text": [
      "11 22 33 44 55 66 77 88 99\n",
      "List= [11, 22, 33, 44, 55, 66, 77, 88, 99]\n",
      "The number of large numbers needed=4\n",
      "N largest Number= [99, 88, 77, 66]\n"
     ]
    }
   ],
   "source": [
    "#Write a Python program to find N largest elements from a list?\n",
    "\n",
    "lst=[]\n",
    "for i in input().split():             #makes a list of input and iterates through it \n",
    "    lst.append(int(i))                #appends the input to the list\n",
    "print('List=',lst)\n",
    "\n",
    "n=int(input('The number of large numbers needed='))\n",
    "\n",
    "print('N largest Number=',sorted(lst,reverse=True)[0:n])"
   ]
  },
  {
   "cell_type": "code",
   "execution_count": 22,
   "id": "3459a5ad",
   "metadata": {},
   "outputs": [
    {
     "name": "stdout",
     "output_type": "stream",
     "text": [
      " 122 334 565 997 121 555 44\n",
      "List= [122, 334, 565, 997, 121, 555, 44]\n",
      "Even= [122, 334, 44]\n"
     ]
    }
   ],
   "source": [
    "#Write a Python program to print even numbers in a list?\n",
    "\n",
    "lst=[]\n",
    "for i in input().split():             #makes a list of input and iterates through it \n",
    "    lst.append(int(i))                #appends the input to the list\n",
    "print('List=',lst)\n",
    "even=[]\n",
    "for i in lst:\n",
    "    if i%2==0:\n",
    "        even.append(i)\n",
    "\n",
    "print('Even=',even)"
   ]
  },
  {
   "cell_type": "code",
   "execution_count": 25,
   "id": "d144a904",
   "metadata": {},
   "outputs": [
    {
     "name": "stdout",
     "output_type": "stream",
     "text": [
      "12 114 41 55 332 11 41\n",
      "List= [12, 114, 41, 55, 332, 11, 41]\n",
      "Odd= [41, 55, 11, 41]\n"
     ]
    }
   ],
   "source": [
    "#Write a Python program to print odd numbers in a List?\n",
    "\n",
    "lst=[]\n",
    "for i in input().split():             #makes a list of input and iterates through it \n",
    "    lst.append(int(i))                #appends the input to the list\n",
    "print('List=',lst)\n",
    "odd=[]\n",
    "for i in lst:\n",
    "    if i%2!=0:\n",
    "        odd.append(i)\n",
    "\n",
    "print('Odd=',odd)"
   ]
  },
  {
   "cell_type": "code",
   "execution_count": 28,
   "id": "d95e17cb",
   "metadata": {},
   "outputs": [
    {
     "name": "stdout",
     "output_type": "stream",
     "text": [
      "List= [12, [1, 2], [], 1, 5, [], [71]]\n",
      "New list after removal= [12, [1, 2], 1, 5, [71]]\n"
     ]
    }
   ],
   "source": [
    "#Write a Python program to Remove empty List from List?\n",
    "\n",
    "lst=[12,[1,2],[],1,5,[],[71]]\n",
    "print('List=',lst)\n",
    "\n",
    "for i in lst:\n",
    "    if type(i)==list:\n",
    "        try:\n",
    "            i[0]\n",
    "        except:\n",
    "            lst.remove(i)\n",
    "print('New list after removal=',lst)"
   ]
  },
  {
   "cell_type": "code",
   "execution_count": 32,
   "id": "5c29fba8",
   "metadata": {},
   "outputs": [
    {
     "name": "stdout",
     "output_type": "stream",
     "text": [
      "[1, 2, 3, 5] [1, 2, 3, 4, 5]\n"
     ]
    }
   ],
   "source": [
    "#Write a Python program to Cloning or Copying a list?\n",
    "\n",
    "lst=[1,2,3,4,5]\n",
    "l=lst.copy()\n",
    "\n",
    "lst.remove(4)\n",
    "print(lst,l)              #to check whether changing the original changes the copy\n"
   ]
  },
  {
   "cell_type": "code",
   "execution_count": 34,
   "id": "2cc85e72",
   "metadata": {},
   "outputs": [
    {
     "name": "stdout",
     "output_type": "stream",
     "text": [
      "1 2 3 5 4 2 23 2 2 3\n",
      "The number to be counted:2\n",
      "4\n"
     ]
    }
   ],
   "source": [
    "#Write a Python program to Count occurrences of an element in a list?\n",
    "\n",
    "lst=[]\n",
    "for i in input().split():             #makes a list of input and iterates through it \n",
    "    lst.append(int(i))                #appends the input to the list\n",
    "\n",
    "n=int(input('The number to be counted:'))\n",
    "a=lst.count(n)\n",
    "print(a)"
   ]
  }
 ],
 "metadata": {
  "kernelspec": {
   "display_name": "Python 3",
   "language": "python",
   "name": "python3"
  },
  "language_info": {
   "codemirror_mode": {
    "name": "ipython",
    "version": 3
   },
   "file_extension": ".py",
   "mimetype": "text/x-python",
   "name": "python",
   "nbconvert_exporter": "python",
   "pygments_lexer": "ipython3",
   "version": "3.8.8"
  }
 },
 "nbformat": 4,
 "nbformat_minor": 5
}
