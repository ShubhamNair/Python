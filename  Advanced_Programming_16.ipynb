{
 "cells": [
  {
   "cell_type": "code",
   "execution_count": 35,
   "id": "440466e7",
   "metadata": {},
   "outputs": [
    {
     "data": {
      "text/plain": [
       "True"
      ]
     },
     "execution_count": 35,
     "metadata": {},
     "output_type": "execute_result"
    }
   ],
   "source": [
    "'''1. Rondo Form is a type of musical structure, in which there is a recurring theme/refrain, notated as A. \n",
    "Here are the rules for valid rondo forms:\n",
    "\n",
    "   - Rondo forms always start and end with an A section.\n",
    "   - In between the A sections, there should be contrasting sections notated as B, then C, then D, etc... \n",
    "   No letter should be skipped.\n",
    "   - There shouldn't be any repeats in the sequence (such as ABBACCA).\n",
    "\n",
    "Create a function which validates whether a given string is a valid Rondo Form.\n",
    "\n",
    "Examples\n",
    "\n",
    "valid_rondo(\"ABACADAEAFAGAHAIAJA\") ➞ True\n",
    "\n",
    "valid_rondo(\"ABA\") ➞ True\n",
    "\n",
    "valid_rondo(\"ABBACCA\") ➞ False\n",
    "\n",
    "valid_rondo(\"ACAC\") ➞ False\n",
    "\n",
    "valid_rondo(\"A\") ➞ False\n",
    "'''\n",
    "import string\n",
    "def valid_rondo(s):\n",
    "    char=string.ascii_uppercase\n",
    "    i = 0\n",
    "    j = 1\n",
    "    if len(s) == 1:\n",
    "        return False\n",
    "    while i < len(s):\n",
    "        if i%2 != 0:\n",
    "            if s[i] == char[j]:\n",
    "                j += 1\n",
    "            else:\n",
    "                return False\n",
    "        elif i%2==0:\n",
    "            if s[i]!=char[0]:\n",
    "                return False\n",
    "            \n",
    "        i += 1\n",
    "    return True\n",
    "    \n",
    "valid_rondo(\"ABACADAEAFAGAHAIAJA\")"
   ]
  },
  {
   "cell_type": "code",
   "execution_count": 41,
   "id": "88457399",
   "metadata": {},
   "outputs": [
    {
     "data": {
      "text/plain": [
       "'Things are going swell.'"
      ]
     },
     "execution_count": 41,
     "metadata": {},
     "output_type": "execute_result"
    }
   ],
   "source": [
    "'''2. Create a function that returns the whole of the first sentence which contains a specific word. \n",
    "Include the full stop at the end of the sentence.\n",
    "\n",
    "Examples\n",
    "\n",
    "txt = \"I have a cat. I have a mat. Things are going swell.\"\n",
    "\n",
    "sentence_searcher(txt, \"have\") ➞ \"I have a cat.\"\n",
    "\n",
    "sentence_searcher(txt, \"MAT\") ➞ \"I have a mat.\"\n",
    "\n",
    "sentence_searcher(txt, \"things\") ➞ \"Things are going swell.\"\n",
    "\n",
    "sentence_searcher(txt, \"flat\") ➞ \"\"\n",
    "'''\n",
    "\n",
    "txt = \"I have a cat. I have a mat. Things are going swell.\"\n",
    "def sentence_searcher(txt, word):\n",
    "    txt_split = txt.split(\".\")\n",
    "    for sent in txt_split:\n",
    "        if word.lower() in sent.lower():\n",
    "            return sent.strip() + \".\"\n",
    "    return \"\"\n",
    "\n",
    "sentence_searcher(txt, \"things\")\n",
    "    "
   ]
  },
  {
   "cell_type": "code",
   "execution_count": 44,
   "id": "b6382c38",
   "metadata": {},
   "outputs": [
    {
     "data": {
      "text/plain": [
       "'10 200 4000 50000'"
      ]
     },
     "execution_count": 44,
     "metadata": {},
     "output_type": "execute_result"
    }
   ],
   "source": [
    "'''3. Given a number, find the \"round \"of each digit of the number. An integer is called \"round\" if\n",
    "all its digits except the leftmost (most significant) are equal to zero.\n",
    "\n",
    "    - Round numbers: 4000, 1, 9, 800, 90\n",
    "    - Not round numbers: 110, 707, 222, 1001\n",
    "\n",
    "Create a function that takes a number and returns the \"round\" of each digit (except if the digit is zero)\n",
    "as a string. Check out the following examples for more clarification.\n",
    "\n",
    "Examples\n",
    "\n",
    "sum_round(101) ➞ \"1 100\"\n",
    "\n",
    "sum_round(1234) ➞ \"4 30 200 1000\"\n",
    "\n",
    "sum_round(54210) ➞ \"10 200 4000 50000\"\n",
    "'''\n",
    "\n",
    "def sum_round(num):\n",
    "    s = ''\n",
    "    revs_number = 0\n",
    "    i = 0\n",
    "    for enum, value in enumerate(str(num)[::-1], 1):\n",
    "        if int(value) != 0:\n",
    "            s += value + \"0\"*i + \" \"\n",
    "        i += 1\n",
    "    return s.strip()\n",
    "    \n",
    "sum_round(54210)"
   ]
  },
  {
   "cell_type": "code",
   "execution_count": 43,
   "id": "19523e0d",
   "metadata": {},
   "outputs": [
    {
     "data": {
      "text/plain": [
       "[[1, 2, 3], [2, 4, 6], [3, 6, 9]]"
      ]
     },
     "execution_count": 43,
     "metadata": {},
     "output_type": "execute_result"
    }
   ],
   "source": [
    "'''4. Your task, is to create N x N multiplication table, of size n provided in parameter.\n",
    "\n",
    "For example, when n is 5, the multiplication table is:\n",
    "\n",
    "   - 1, 2, 3, 4, 5\n",
    "   - 2, 4, 6, 8, 10\n",
    "   - 3, 6, 9, 12, 15\n",
    "   - 4, 8, 12, 16, 20\n",
    "   - 5, 10, 15, 20, 25\n",
    "\n",
    "This example will result in:\n",
    "\n",
    "[[1, 2, 3, 4, 5], [2, 4, 6, 8, 10], [3, 6, 9, 12, 15], [4, 8, 12, 16, 20], [5, 10, 15, 20, 25]]\n",
    "\n",
    "Examples\n",
    "\n",
    "multiplication_table(1) ➞ [[1]]\n",
    "\n",
    "multiplication_table(3) ➞ [[1, 2, 3], [2, 4, 6], [3, 6, 9]]\n",
    "'''\n",
    "\n",
    "def multiplication_table(num):\n",
    "    table = []\n",
    "    for i in range(1, num + 1):\n",
    "        table.append([i*j for j in range(1, num+1)])\n",
    "        \n",
    "    return table\n",
    "\n",
    "multiplication_table(3)"
   ]
  },
  {
   "cell_type": "code",
   "execution_count": 42,
   "id": "a53d67fb",
   "metadata": {},
   "outputs": [
    {
     "data": {
      "text/plain": [
       "True"
      ]
     },
     "execution_count": 42,
     "metadata": {},
     "output_type": "execute_result"
    }
   ],
   "source": [
    "'''5. Create a function that returns True if two lines rhyme and False otherwise. For the purposes of this exercise,\n",
    "two lines rhyme if the last word from each sentence contains the same vowels.\n",
    "\n",
    "Examples\n",
    "\n",
    "does_rhyme(\"Sam I am!\", \"Green eggs and ham.\") ➞ True\n",
    "\n",
    "does_rhyme(\"Sam I am!\", \"Green eggs and HAM.\") ➞ True\n",
    "# Capitalization and punctuation should not matter.\n",
    "\n",
    "does_rhyme(\"You are off to the races\", \"a splendid day.\") ➞ False\n",
    "\n",
    "does_rhyme(\"and frequently do?\", \"you gotta move.\") ➞ False\n",
    "'''\n",
    "\n",
    "import string\n",
    "def does_rhyme(s1, s2):\n",
    "    vowel = 'aeiou'\n",
    "    s1 = s1.translate(str.maketrans('', '', string.punctuation)).lower()\n",
    "    s2 = s2.translate(str.maketrans('', '', string.punctuation)).lower()\n",
    "    s1_vowel = [i for i in s1.split()[-1] if i in vowel]\n",
    "    s2_vowel = [i for i in s2.split()[-1] if i in vowel]\n",
    "    if len(s1_vowel) == len(s2_vowel):\n",
    "        result = all([i for i in s1_vowel if i in s2_vowel])\n",
    "        if result:\n",
    "            return True\n",
    "    return False\n",
    "\n",
    "does_rhyme(\"Sam I am!\", \"Green eggs and HAM.\")"
   ]
  }
 ],
 "metadata": {
  "kernelspec": {
   "display_name": "Python 3",
   "language": "python",
   "name": "python3"
  },
  "language_info": {
   "codemirror_mode": {
    "name": "ipython",
    "version": 3
   },
   "file_extension": ".py",
   "mimetype": "text/x-python",
   "name": "python",
   "nbconvert_exporter": "python",
   "pygments_lexer": "ipython3",
   "version": "3.8.8"
  }
 },
 "nbformat": 4,
 "nbformat_minor": 5
}
