{
 "cells": [
  {
   "cell_type": "code",
   "execution_count": 1,
   "id": "c2ef4ff9",
   "metadata": {},
   "outputs": [
    {
     "name": "stdout",
     "output_type": "stream",
     "text": [
      "True\n",
      "False\n"
     ]
    }
   ],
   "source": [
    "'''1. Given a sentence as txt, return True if any two adjacent words have this property: \n",
    "One word ends with a vowel, while the word immediately after begins with a vowel (a e i o u).\n",
    "\n",
    "Examples\n",
    "\n",
    "vowel_links(\"a very large appliance\") ➞ True\n",
    "\n",
    "vowel_links(\"go to edabit\") ➞ True\n",
    "\n",
    "vowel_links(\"an open fire\") ➞ False\n",
    "\n",
    "vowel_links(\"a sudden applause\") ➞ False\n",
    "'''\n",
    "\n",
    "def vowel_links(string):\n",
    "    vowel=['a','e','i','o','u']\n",
    "    lst=string.split()\n",
    "    for i in range(len(lst)-1):\n",
    "        if lst[i][-1] in vowel and lst[i+1][0] in vowel:\n",
    "            return True\n",
    "    return False\n",
    "\n",
    "print(vowel_links(\"go to edabit\"))\n",
    "print(vowel_links(\"a sudden applause\"))"
   ]
  },
  {
   "cell_type": "code",
   "execution_count": 13,
   "id": "2aff27dc",
   "metadata": {},
   "outputs": [
    {
     "name": "stdout",
     "output_type": "stream",
     "text": [
      "True\n",
      "False\n"
     ]
    }
   ],
   "source": [
    "'''2. You are given three inputs: a string, one letter, and a second letter.\n",
    "\n",
    "Write a function that returns True if every instance of the first letter occurs before every instance\n",
    "of the second letter.\n",
    "\n",
    "Examples\n",
    "\n",
    "first_before_second(\"a rabbit jumps joyfully\", \"a\", \"j\") ➞ True\n",
    "# Every instance of \"a\" occurs before every instance of \"j\".\n",
    "\n",
    "first_before_second(\"knaves knew about waterfalls\", \"k\", \"w\") ➞  True\n",
    "\n",
    "first_before_second(\"happy birthday\", \"a\", \"y\") ➞ False\n",
    "# The \"a\" in \"birthday\" occurs after the \"y\" in \"happy\".\n",
    "\n",
    "first_before_second(\"precarious kangaroos\", \"k\", \"a\") ➞ False\n",
    "'''\n",
    "\n",
    "def first_before_second(st,l1,l2):\n",
    "    for i in range(len(st)):\n",
    "        if st[i:].find(l1)!= -1:\n",
    "            if st[:].find(l1,i) < st[:].find(l2):        #there is no start specified in find(letter2).\n",
    "                Flag=True                                #so if there is l2 present before l1 it will always be false\n",
    "            else:\n",
    "                Flag=False\n",
    "    return Flag\n",
    "\n",
    "print(first_before_second(\"knaves knew about waterfalls\", \"k\", \"w\"))\n",
    "print(first_before_second(\"happy birthday\", \"a\", \"y\"))"
   ]
  },
  {
   "cell_type": "code",
   "execution_count": 15,
   "id": "d6fe1694",
   "metadata": {},
   "outputs": [
    {
     "name": "stdout",
     "output_type": "stream",
     "text": [
      "[4, 8]\n",
      "EAI\n"
     ]
    }
   ],
   "source": [
    "'''3. Create a function that returns the characters from a list or string r on odd or even positions,\n",
    "depending on the specifier s. The specifier will be \"odd\" for items on odd positions (1, 3, 5, ...) and \n",
    "\"even\" for items on even positions (2, 4, 6, ...).\n",
    "\n",
    "Examples\n",
    "\n",
    "char_at_pos([2, 4, 6, 8, 10], \"even\") ➞ [4, 8]\n",
    "# 4 & 8 occupy the 2nd & 4th positions\n",
    "\n",
    "char_at_pos(\"EDABIT\", \"odd\") ➞ \"EAI\"\n",
    "# \"E\", \"A\" and \"I\" occupy the 1st, 3rd and 5th positions\n",
    "\n",
    "char_at_pos([\"A\", \"R\", \"B\", \"I\", \"T\", \"R\", \"A\", \"R\", \"I\", \"L\", \"Y\"], \"odd\") ➞ [\"A\", \"B\", \"T\", \"A\", \"I\", \"Y\"]\n",
    "'''\n",
    "\n",
    "def char_at_pos(inputt, pos):\n",
    "    if type(inputt)==str:\n",
    "        if pos=='odd':\n",
    "            return ''.join([j for i,j in enumerate(inputt,1) if i%2==1])  #in enumerate start needs to be specified\n",
    "        else:                                                             #as 1 as required index starts with 1         \n",
    "            return ''.join([j for i,j in enumerate(inputt,1) if i%2==0])\n",
    "        \n",
    "    else:\n",
    "        if pos=='odd':\n",
    "            return [j for i,j in enumerate(inputt,1) if i%2==1]\n",
    "        else:\n",
    "            return [j for i,j in enumerate(inputt,1) if i%2==0]\n",
    "        \n",
    "\n",
    "print(char_at_pos([2, 4, 6, 8, 10], \"even\"))\n",
    "print(char_at_pos(\"EDABIT\", \"odd\"))"
   ]
  },
  {
   "cell_type": "code",
   "execution_count": 27,
   "id": "77b2545e",
   "metadata": {},
   "outputs": [
    {
     "name": "stdout",
     "output_type": "stream",
     "text": [
      "64\n",
      "1\n"
     ]
    }
   ],
   "source": [
    "'''4. Write a function that returns the greatest common divisor of all list elements. \n",
    "If the greatest common divisor is 1, return 1.\n",
    "\n",
    "Examples\n",
    "\n",
    "GCD([10, 20, 40]) ➞ 10\n",
    "\n",
    "GCD([1, 2, 3, 100]) ➞ 1\n",
    "\n",
    "GCD([1024, 192, 2048, 512]) ➞ 64\n",
    "'''\n",
    "\n",
    "def GCD(lst):\n",
    "    def find_gcd(x,y):\n",
    "        while(y):\n",
    "            x,y=y,x%y\n",
    "        return x\n",
    "    \n",
    "    n1=lst[0]\n",
    "    n2=lst[1]\n",
    "    gcd= find_gcd(n1,n2)\n",
    "    \n",
    "    for i in lst:\n",
    "        gcd=find_gcd(gcd,i)\n",
    "        \n",
    "    return gcd\n",
    "\n",
    "print(GCD([1024, 192, 2048, 512]))\n",
    "print(GCD([1, 2, 3, 100]))"
   ]
  },
  {
   "cell_type": "code",
   "execution_count": 28,
   "id": "d3445ce1",
   "metadata": {},
   "outputs": [
    {
     "name": "stdout",
     "output_type": "stream",
     "text": [
      "Decimal and binary.\n",
      "Neither!\n"
     ]
    }
   ],
   "source": [
    "'''5. A number/string is a palindrome if the digits/characters are the same when read both forward and backward. \n",
    "Examples include \"racecar\" and 12321. Given a positive number n, check if n or \n",
    "the binary representation of n is palindromic. Return the following:\n",
    "\n",
    "- \"Decimal only.\" if only n is a palindrome.\n",
    "- \"Binary only.\" if only the binary representation of n is a palindrome.\n",
    "- \"Decimal and binary.\" if both are palindromes.\n",
    "- \"Neither!\" if neither are palindromes.\n",
    "\n",
    "Examples\n",
    "\n",
    "palindrome_type(1306031) ➞ \"Decimal only.\"\n",
    "# decimal = 1306031\n",
    "# binary  = \"100111110110110101111\"\n",
    "\n",
    "palindrome_type(427787) ➞ \"Binary only.\"\n",
    "# decimal = 427787\n",
    "# binary  = \"1101000011100001011\"\n",
    "\n",
    "palindrome_type(313) ➞ \"Decimal and binary.\"\n",
    "# decimal = 313\n",
    "# binary  = 100111001\n",
    "\n",
    "palindrome_type(934) ➞ \"Neither!\"\n",
    "# decimal = 934\n",
    "# binary  = \"1110100110\"\n",
    "'''\n",
    "\n",
    "def palindrome_type(num):\n",
    "    if num == int(str(num)[::-1]):\n",
    "        \n",
    "        if bin(num)[2:] == str(bin(num)[2:])[::-1]:\n",
    "            return \"Decimal and binary.\"\n",
    "        \n",
    "        return \"Decimal only.\"\n",
    "    \n",
    "    elif bin(num)[2:] == str(bin(num)[2:])[::-1]:\n",
    "        return \"Binary only.\"\n",
    "    \n",
    "    else:\n",
    "        return \"Neither!\"\n",
    "\n",
    "print(palindrome_type(313))\n",
    "print(palindrome_type(934))"
   ]
  }
 ],
 "metadata": {
  "kernelspec": {
   "display_name": "Python 3",
   "language": "python",
   "name": "python3"
  },
  "language_info": {
   "codemirror_mode": {
    "name": "ipython",
    "version": 3
   },
   "file_extension": ".py",
   "mimetype": "text/x-python",
   "name": "python",
   "nbconvert_exporter": "python",
   "pygments_lexer": "ipython3",
   "version": "3.8.8"
  }
 },
 "nbformat": 4,
 "nbformat_minor": 5
}
