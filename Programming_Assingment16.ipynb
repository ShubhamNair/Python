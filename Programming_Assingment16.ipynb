{
 "cells": [
  {
   "cell_type": "code",
   "execution_count": 2,
   "id": "be051ec2",
   "metadata": {},
   "outputs": [
    {
     "data": {
      "text/plain": [
       "'ou...ou...outstanding?'"
      ]
     },
     "execution_count": 2,
     "metadata": {},
     "output_type": "execute_result"
    }
   ],
   "source": [
    "'''Question1. Write a function that stutters a word as if someone is struggling to read it. \n",
    "The first two letters are repeated twice with an ellipsis ... and space after each, \n",
    "and then the word is pronounced with a question mark ?.\n",
    "Examples\n",
    "stutter(\"incredible\") ➞ \"in... in... incredible?\"\n",
    "\n",
    "stutter(\"enthusiastic\") ➞ \"en... en... enthusiastic?\"\n",
    "\n",
    "stutter(\"outstanding\") ➞ \"ou... ou... outstanding?\"\n",
    "\n",
    "Hint :- Assume all input is in lower case and at least two characters long.\n",
    "\n",
    "'''\n",
    "\n",
    "def stutter(n):\n",
    "    return n[:2]+'...'+n[:2]+'...'+n+'?'\n",
    "\n",
    "stutter('outstanding')"
   ]
  },
  {
   "cell_type": "code",
   "execution_count": 5,
   "id": "57cdf458",
   "metadata": {},
   "outputs": [
    {
     "name": "stdout",
     "output_type": "stream",
     "text": [
      "Radians:50\n"
     ]
    },
    {
     "data": {
      "text/plain": [
       "2864.8"
      ]
     },
     "execution_count": 5,
     "metadata": {},
     "output_type": "execute_result"
    }
   ],
   "source": [
    "'''Question 2.Create a function that takes an angle in radians and \n",
    "returns the corresponding angle in degrees rounded to one decimal place.\n",
    "Examples\n",
    "radians_to_degrees(1) ➞ 57.3\n",
    "\n",
    "radians_to_degrees(20) ➞ 1145.9\n",
    "\n",
    "radians_to_degrees(50) ➞ 2864.8\n",
    "'''\n",
    "\n",
    "import math\n",
    "\n",
    "def radians_to_degree(rad):\n",
    "    return round(rad*180/math.pi, 1)\n",
    "\n",
    "radians_to_degree(int(input(\"Radians:\")))"
   ]
  },
  {
   "cell_type": "code",
   "execution_count": 6,
   "id": "4dd1c9fe",
   "metadata": {},
   "outputs": [
    {
     "data": {
      "text/plain": [
       "True"
      ]
     },
     "execution_count": 6,
     "metadata": {},
     "output_type": "execute_result"
    }
   ],
   "source": [
    "'''Question 3. In this challenge, establish if a given integer num is a Curzon number.\n",
    "If 1 plus 2 elevated to num is exactly divisible by 1 plus 2 multiplied by num, then num is a Curzon number.\n",
    "Given a non-negative integer num, implement a function that returns True if num is a Curzon number, or False otherwise.\n",
    "Examples\n",
    "is_curzon(5) ➞ True\n",
    "# 2 ** 5 + 1 = 33\n",
    "# 2 * 5 + 1 = 11\n",
    "# 33 is a multiple of 11\n",
    "\n",
    "is_curzon(10) ➞ False\n",
    "# 2 ** 10 + 1 = 1025\n",
    "# 2 * 10 + 1 = 21\n",
    "# 1025 is not a multiple of 21\n",
    "\n",
    "is_curzon(14) ➞ True\n",
    "# 2 ** 14 + 1 = 16385\n",
    "# 2 * 14 + 1 = 29\n",
    "# 16385 is a multiple of 29\n",
    "'''\n",
    "\n",
    "def is_curzon(n):\n",
    "    a=2**n+1\n",
    "    b=2*n+1\n",
    "    if a%b==0:\n",
    "        return True\n",
    "    return False\n",
    "\n",
    "is_curzon(14)"
   ]
  },
  {
   "cell_type": "code",
   "execution_count": 10,
   "id": "5ecb1faa",
   "metadata": {},
   "outputs": [
    {
     "data": {
      "text/plain": [
       "23.4"
      ]
     },
     "execution_count": 10,
     "metadata": {},
     "output_type": "execute_result"
    }
   ],
   "source": [
    "'''Question 4.Given the side length x find the area of a hexagon.\n",
    "\n",
    "Examples\n",
    "area_of_hexagon(1) ➞ 2.6\n",
    "\n",
    "area_of_hexagon(2) ➞ 10.4\n",
    "\n",
    "area_of_hexagon(3) ➞ 23.4\n",
    "\n",
    "'''\n",
    "import math\n",
    "def area_of_hexagon(s):\n",
    "    area=3*math.sqrt(3)*(s**2)/2 #area of hexagon formula\n",
    "    return round(area,1)\n",
    "\n",
    "area_of_hexagon(3)"
   ]
  },
  {
   "cell_type": "code",
   "execution_count": 13,
   "id": "fefc9dd1",
   "metadata": {},
   "outputs": [
    {
     "name": "stdout",
     "output_type": "stream",
     "text": [
      "01010"
     ]
    }
   ],
   "source": [
    "'''Question 5. Create a function that returns a base-2 (binary) representation of a base-10 (decimal) string number. \n",
    "To convert is simple: ((2) means base-2 and (10) means base-10) 010101001(2) = 1 + 8 + 32 + 128.\n",
    "Going from right to left, the value of the most right bit is 1, \n",
    "now from that every bit to the left will be x2 the value,\n",
    "value of an 8 bit binary numbers are (256, 128, 64, 32, 16, 8, 4, 2, 1).\n",
    "Examples\n",
    "binary(1) ➞ \"1\"\n",
    "# 1*1 = 1\n",
    "\n",
    "binary(5) ➞ \"101\"\n",
    "# 1*1 + 1*4 = 5\n",
    "\n",
    "binary(10) ➞ \"1010\"\n",
    "# 1*2 + 1*8 = 10'''\n",
    "\n",
    "def binary(n):\n",
    "    if n>=1:\n",
    "        binary(n//2)     #using recursion\n",
    "    print(n%2,end='')\n",
    "    \n",
    "binary(10)"
   ]
  }
 ],
 "metadata": {
  "kernelspec": {
   "display_name": "Python 3",
   "language": "python",
   "name": "python3"
  },
  "language_info": {
   "codemirror_mode": {
    "name": "ipython",
    "version": 3
   },
   "file_extension": ".py",
   "mimetype": "text/x-python",
   "name": "python",
   "nbconvert_exporter": "python",
   "pygments_lexer": "ipython3",
   "version": "3.8.8"
  }
 },
 "nbformat": 4,
 "nbformat_minor": 5
}
