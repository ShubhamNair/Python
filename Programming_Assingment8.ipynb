{
 "cells": [
  {
   "cell_type": "code",
   "execution_count": 15,
   "id": "602adbd4",
   "metadata": {},
   "outputs": [
    {
     "name": "stdout",
     "output_type": "stream",
     "text": [
      "Added matrix=\n",
      " [[4 4]\n",
      " [4 4]]\n"
     ]
    }
   ],
   "source": [
    "#Write a Python Program to Add Two Matrices?\n",
    "\n",
    "import numpy as np               #importing numpy libraries in python\n",
    "a=np.array([[1,0],[0,1]])\n",
    "b=np.array([[3,4],[4,3]])\n",
    "c=a+b\n",
    "print('Added matrix=\\n',c)"
   ]
  },
  {
   "cell_type": "code",
   "execution_count": 14,
   "id": "323da1f8",
   "metadata": {},
   "outputs": [
    {
     "name": "stdout",
     "output_type": "stream",
     "text": [
      "Multiplied matrix=\n",
      " [[6 8]\n",
      " [8 6]]\n"
     ]
    }
   ],
   "source": [
    "#Write a Python Program to Multiply Two Matrices?\n",
    "import numpy as np\n",
    "a=np.array([[2,0],[0,2]])\n",
    "b=np.array([[3,4],[4,3]])\n",
    "c=np.dot(a,b)\n",
    "print('Multiplied matrix=\\n',c)"
   ]
  },
  {
   "cell_type": "code",
   "execution_count": 16,
   "id": "4193f2c8",
   "metadata": {},
   "outputs": [
    {
     "name": "stdout",
     "output_type": "stream",
     "text": [
      "Initial Matrix=\n",
      " [[1 2]\n",
      " [3 4]] \n",
      "Transposed Matrix B=\n",
      " [[1 3]\n",
      " [2 4]]\n"
     ]
    }
   ],
   "source": [
    "#Write a Python Program to Transpose a Matrix?\n",
    "import numpy as np\n",
    "a=np.array([[1,2],[3,4]])\n",
    "b=np.transpose(a)\n",
    "print('Initial Matrix=\\n',a,'\\nTransposed Matrix B=\\n',b)"
   ]
  },
  {
   "cell_type": "code",
   "execution_count": 26,
   "id": "5cbf9758",
   "metadata": {},
   "outputs": [
    {
     "name": "stdout",
     "output_type": "stream",
     "text": [
      "Enter a sentence=Happy Diwali to all\n",
      "all\n",
      "diwali\n",
      "happy\n",
      "to\n"
     ]
    }
   ],
   "source": [
    "#Write a Python Program to Sort Words in Alphabetic Order?\n",
    "\n",
    "a=input('Enter a sentence=')\n",
    "a=a.lower().split()\n",
    "a.sort()\n",
    "for i in a:\n",
    "    print(i)\n"
   ]
  },
  {
   "cell_type": "code",
   "execution_count": 4,
   "id": "7fd60034",
   "metadata": {},
   "outputs": [
    {
     "name": "stdout",
     "output_type": "stream",
     "text": [
      "Enter a sentence=\n",
      "Python is a high-level, general-purpose and a very popular programming language. Python programming language (latest Python 3) is being used in web development, Machine Learning applications, along with all cutting edge technology in Software Industry. Python Programming Language is very well suited for Beginners, also for experienced programmers with other programming languages like C++ and Java.\n",
      "\n",
      "\n",
      "Python is a high-level, general-purpose and a very popular programming language Python programming language (latest Python 3) is being used in web development, Machine Learning applications, along with all cutting edge technology in Software Industry Python Programming Language is very well suited for Beginners, also for experienced programmers with other programming languages like C++ and Java\n"
     ]
    }
   ],
   "source": [
    "#Write a Python Program to Remove Punctuation From a String?\n",
    "\n",
    "a=input('Enter a sentence=\\n')\n",
    "n=a.replace('.','')\n",
    "\n",
    "print('\\n\\n',n,sep='')\n"
   ]
  }
 ],
 "metadata": {
  "kernelspec": {
   "display_name": "Python 3",
   "language": "python",
   "name": "python3"
  },
  "language_info": {
   "codemirror_mode": {
    "name": "ipython",
    "version": 3
   },
   "file_extension": ".py",
   "mimetype": "text/x-python",
   "name": "python",
   "nbconvert_exporter": "python",
   "pygments_lexer": "ipython3",
   "version": "3.8.8"
  }
 },
 "nbformat": 4,
 "nbformat_minor": 5
}
