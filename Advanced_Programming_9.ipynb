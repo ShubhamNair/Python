{
 "cells": [
  {
   "cell_type": "code",
   "execution_count": 33,
   "id": "35bcf50f",
   "metadata": {},
   "outputs": [
    {
     "name": "stdout",
     "output_type": "stream",
     "text": [
      "0:15:0\n",
      "102:40:18\n"
     ]
    }
   ],
   "source": [
    "'''1. YouTube offers different playback speed options for users.\n",
    "This allows users to increase or decrease the speed of the video content.\n",
    "Given the actual duration and playback speed of the video, \n",
    "calculate the playback duration of the video.\n",
    "\n",
    "Examples\n",
    "\n",
    "playback_duration(\"00:30:00\", 2) ➞ \"00:15:00\"\n",
    "\n",
    "playback_duration(\"01:20:00\", 1.5) ➞ \"00:53:20\"\n",
    "\n",
    "playback_duration(\"51:20:09\", 0.5) ➞ \"102:40:18\"\n",
    "'''\n",
    "\n",
    "def playback_duration(time,speed):\n",
    "    hour,minute,seconds =map(int,time.split(':'))\n",
    "    hour*=3600\n",
    "    minute*=60\n",
    "    total_sec=hour+minute+seconds\n",
    "    new_sec=total_sec/speed\n",
    "    min_,sec_=divmod(new_sec,60)      #divmod doc string  Return the tuple (x//y, x%y).\n",
    "    hr_,min_=divmod(min_,60)\n",
    "    return \"{:.0f}:{:.0f}:{:.0f}\".format(hr_,min_,sec_)\n",
    "\n",
    "print(playback_duration(\"00:30:00\", 2))\n",
    "print(playback_duration(\"51:20:09\", 0.5))"
   ]
  },
  {
   "cell_type": "code",
   "execution_count": 40,
   "id": "6de48434",
   "metadata": {},
   "outputs": [
    {
     "name": "stdout",
     "output_type": "stream",
     "text": [
      "45\n",
      "None\n"
     ]
    }
   ],
   "source": [
    "'''2. We needs your help to construct a building which will be a pile of n cubes. \n",
    "The cube at the bottom will have a volume of n^3, the cube above will have volume of (n-1)^3 \n",
    "and so on until the top which will have a volume of 1^3.\n",
    "\n",
    "Given the total volume m of the building, c\n",
    "an you find the number of cubes n required for the building?\n",
    "\n",
    "In other words, you have to return an integer n such that:\n",
    "\n",
    "n^3 + (n-1)^3 + ... + 1^3 == m\n",
    "\n",
    "Return None if there is no such number.\n",
    "\n",
    "Examples\n",
    "\n",
    "pile_of_cubes(1071225) ➞ 45\n",
    "\n",
    "pile_of_cubes(4183059834009) ➞ 2022\n",
    "\n",
    "pile_of_cubes(16) ➞ None\n",
    "'''\n",
    "\n",
    "def pile_of_cubes(m):\n",
    "    sqt = math.sqrt(m)                    #5³ + 4³ + 3³ + 2³ + 1 = 225 = 15²  pattern\n",
    "    if m%(int(sqt)) != 0:\n",
    "        return \"None\"\n",
    "    \n",
    "    i = 1\n",
    "    n = 0\n",
    "    while n <=sqt:\n",
    "        n+=i\n",
    "        if n == sqt:\n",
    "            return i\n",
    "        i+=1\n",
    "    return \"None\"\n",
    "\n",
    "print(pile_of_cubes(1071225))\n",
    "print(pile_of_cubes(16))"
   ]
  },
  {
   "cell_type": "code",
   "execution_count": 35,
   "id": "e9c9f997",
   "metadata": {},
   "outputs": [
    {
     "name": "stdout",
     "output_type": "stream",
     "text": [
      "0\n",
      "4\n"
     ]
    }
   ],
   "source": [
    "'''3. A fulcrum of a list is an integer such that all elements to the left of it and \n",
    "all elements to the right of it sum to the same value.\n",
    "Write a function that finds the fulcrum of a list.\n",
    "\n",
    "To illustrate:\n",
    "\n",
    "find_fulcrum([3, 1, 5, 2, 4, 6, -1]) ➞ 2\n",
    "// Since [3, 1, 5] and [4, 6, -1] both sum to 9\n",
    "\n",
    "Examples\n",
    "\n",
    "find_fulcrum([1, 2, 4, 9, 10, -10, -9, 3]) ➞ 4\n",
    "\n",
    "find_fulcrum([9, 1, 9]) ➞ 1\n",
    "\n",
    "find_fulcrum([7, -1, 0, -1, 1, 1, 2, 3]) ➞ 0\n",
    "\n",
    "find_fulcrum([8, 8, 8, 8]) ➞ -1\n",
    "'''\n",
    "\n",
    "def find_fulcrum(lst):\n",
    "    for i, j in enumerate(lst):\n",
    "        if sum(lst[:i]) == sum(lst[i+1:]):\n",
    "            return j\n",
    "    return -1\n",
    "\n",
    "print(find_fulcrum([7, -1, 0, -1, 1, 1, 2, 3]))\n",
    "print(find_fulcrum([1, 2, 4, 9, 10, -10, -9, 3]))"
   ]
  },
  {
   "cell_type": "code",
   "execution_count": 50,
   "id": "9b285c0c",
   "metadata": {},
   "outputs": [
    {
     "name": "stdout",
     "output_type": "stream",
     "text": [
      "3\n",
      "4\n",
      "0\n"
     ]
    }
   ],
   "source": [
    "'''4. Given a list of integers representing the color of each sock, \n",
    "determine how many pairs of socks with matching colors there are. \n",
    "For example, there are 7 socks with colors [1, 2, 1, 2, 1, 3, 2]. \n",
    "There is one pair of color 1 and one of color 2. \n",
    "There are three odd socks left, one of each color. \n",
    "The number of pairs is 2.\n",
    "\n",
    "Create a function that returns an integer representing the number of matching pairs of socks that\n",
    "are available.\n",
    "\n",
    "Examples\n",
    "\n",
    "sock_merchant([10, 20, 20, 10, 10, 30, 50, 10, 20]) ➞ 3\n",
    "\n",
    "sock_merchant([50, 20, 30, 90, 30, 20, 50, 20, 90]) ➞ 4\n",
    "\n",
    "sock_merchant([]) ➞ 0\n",
    "'''\n",
    "\n",
    "def sock_merchant(lst):\n",
    "    dic={}\n",
    "    for i in lst:\n",
    "        dic[i]=dic.get(i,0)+1\n",
    "    pair=0\n",
    "    for i in dic.values():\n",
    "        pair+=i//2\n",
    "    return pair\n",
    "    \n",
    "print(sock_merchant([10, 20, 20, 10, 10, 30, 50, 10, 20]))\n",
    "print(sock_merchant([50, 20, 30, 90, 30, 20, 50, 20, 90]))\n",
    "print(sock_merchant([]))"
   ]
  },
  {
   "cell_type": "code",
   "execution_count": 54,
   "id": "14d718aa",
   "metadata": {},
   "outputs": [
    {
     "name": "stdout",
     "output_type": "stream",
     "text": [
      "-23\n",
      "-33\n"
     ]
    }
   ],
   "source": [
    "'''5. Create a function that takes a string containing integers as well as other characters\n",
    "and return the sum of the negative integers only.\n",
    "\n",
    "Examples\n",
    "\n",
    "negative_sum(\"-12 13%14&-11\") ➞ -23\n",
    "# -12 + -11 = -23\n",
    "\n",
    "negative_sum(\"22 13%14&-11-22 13 12\") ➞ -33\n",
    "# -11 + -22 = -33\n",
    "'''\n",
    "import re\n",
    "\n",
    "def negative_sum(string):\n",
    "    lst = re.findall('[-]\\d+', string)\n",
    "    return sum(map(int,lst))\n",
    "\n",
    "print(negative_sum(\"-12 13%14&-11\"))\n",
    "print(negative_sum(\"22 13%14&-11-22 13 12\"))"
   ]
  }
 ],
 "metadata": {
  "kernelspec": {
   "display_name": "Python 3",
   "language": "python",
   "name": "python3"
  },
  "language_info": {
   "codemirror_mode": {
    "name": "ipython",
    "version": 3
   },
   "file_extension": ".py",
   "mimetype": "text/x-python",
   "name": "python",
   "nbconvert_exporter": "python",
   "pygments_lexer": "ipython3",
   "version": "3.8.8"
  }
 },
 "nbformat": 4,
 "nbformat_minor": 5
}
