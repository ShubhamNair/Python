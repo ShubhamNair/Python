{
 "cells": [
  {
   "cell_type": "code",
   "execution_count": 3,
   "id": "93ec82e4",
   "metadata": {},
   "outputs": [
    {
     "data": {
      "text/plain": [
       "['b', 'g', 'w']"
      ]
     },
     "execution_count": 3,
     "metadata": {},
     "output_type": "execute_result"
    }
   ],
   "source": [
    "'''1. Create a function that takes a list and string. The function should remove the letters in the string from\n",
    "the list, and return the list.\n",
    "\n",
    "Examples\n",
    "\n",
    "remove_letters([\"s\", \"t\", \"r\", \"i\", \"n\", \"g\", \"w\"], \"string\") ➞ [\"w\"]\n",
    "\n",
    "remove_letters([\"b\", \"b\", \"l\", \"l\", \"g\", \"n\", \"o\", \"a\", \"w\"], \"balloon\") ➞ [\"b\", \"g\", \"w\"]\n",
    "\n",
    "remove_letters([\"d\", \"b\", \"t\", \"e\", \"a\", \"i\"], \"edabit\") ➞ []'''\n",
    "\n",
    "def remove_letters(lst,st):\n",
    "    string=list(st)\n",
    "    for i in string:\n",
    "        if i in lst:\n",
    "            lst.remove(i)\n",
    "    return lst\n",
    "\n",
    "remove_letters([\"b\", \"b\", \"l\", \"l\", \"g\", \"n\", \"o\", \"a\", \"w\"], \"balloon\")"
   ]
  },
  {
   "cell_type": "code",
   "execution_count": 5,
   "id": "95215843",
   "metadata": {},
   "outputs": [
    {
     "name": "stdout",
     "output_type": "stream",
     "text": [
      "12\n",
      "39\n"
     ]
    }
   ],
   "source": [
    "'''2. A block sequence in three dimensions. We can write a formula for this one:\n",
    "    \n",
    "    \n",
    "Create a function that takes a number (step) as an argument and returns the amount of blocks in that step.\n",
    "\n",
    "Examples\n",
    "\n",
    "blocks(1) ➞ 5\n",
    "\n",
    "blocks(5) ➞ 39\n",
    "\n",
    "blocks(2) ➞ 12'''\n",
    "\n",
    "def blocks(n):\n",
    "    return 5 + int((((7 + n -2) + 7)/2)*(n-1))\n",
    "\n",
    "print(blocks(2))\n",
    "print(blocks(5))"
   ]
  },
  {
   "cell_type": "code",
   "execution_count": 1,
   "id": "996fc722",
   "metadata": {},
   "outputs": [
    {
     "data": {
      "text/plain": [
       "20"
      ]
     },
     "execution_count": 1,
     "metadata": {},
     "output_type": "execute_result"
    }
   ],
   "source": [
    "'''3. Create a function that subtracts one positive integer from another, without using any arithmetic operators\n",
    "such as -, %, /, +, etc.\n",
    "\n",
    "Examples\n",
    "\n",
    "my_sub(5, 9) ➞ 4\n",
    "\n",
    "my_sub(10, 30) ➞ 20\n",
    "\n",
    "my_sub(0, 0) ➞ 0'''\n",
    "\n",
    "def my_sub(y,x):\n",
    "    while (y!=0):\n",
    "        borrow=(~x)&y    #borrow contains common set bits of y and unset bits of x\n",
    "        x=x^y            #Subtraction of bits of x  and y where at least one of the bits is not set\n",
    "        y=borrow<<1      #Borrow is shifted by one so that subtracting it from x gives the required sum\n",
    "    return x\n",
    "\n",
    "my_sub(10, 30)"
   ]
  },
  {
   "cell_type": "code",
   "execution_count": 10,
   "id": "f4a445a4",
   "metadata": {},
   "outputs": [
    {
     "data": {
      "text/plain": [
       "2200"
      ]
     },
     "execution_count": 10,
     "metadata": {},
     "output_type": "execute_result"
    }
   ],
   "source": [
    "'''4. Create a function that takes a string containing money in dollars and pounds sterling (seperated by comma)\n",
    "and returns the sum of dollar bills only, as an integer.\n",
    "\n",
    "For the input string:\n",
    "\n",
    "   - Each amount is prefixed by the currency symbol: $ for dollars and £ for pounds.\n",
    "   - Thousands are represented by the suffix k.\n",
    "\n",
    "i.e. $4k = $4,000 and £40k = £40,000\n",
    "\n",
    "Examples\n",
    "\n",
    "add_bill(\"d20,p40,p60,d50\") ➞ 20 + 50 = 70\n",
    "\n",
    "add_bill(\"p30,d20,p60,d150,p360\") ➞ 20  + 150 = 170\n",
    "\n",
    "add_bill(\"p30,d2k,p60,d200,p360\") ➞ 2 * 1000 + 200 = 2200'''\n",
    "\n",
    "def add_bill(string):\n",
    "    dollar_lst=[i for i in string.split(\",\") if 'p' not in i]\n",
    "    summ=0\n",
    "    for money in dollar_lst:\n",
    "        if 'k' in money:\n",
    "            summ+=int(money[1:-1])*1000\n",
    "        else:\n",
    "            summ+=int(money[1:])\n",
    "    return summ\n",
    "            \n",
    "add_bill(\"p30,d2k,p60,d200,p360\")"
   ]
  },
  {
   "cell_type": "code",
   "execution_count": 2,
   "id": "f8958810",
   "metadata": {},
   "outputs": [
    {
     "data": {
      "text/plain": [
       "[5, 6, 9]"
      ]
     },
     "execution_count": 2,
     "metadata": {},
     "output_type": "execute_result"
    }
   ],
   "source": [
    "'''5. Create a function that flips a horizontal list into a vertical list, and a vertical list \n",
    "into a horizontal list.\n",
    "\n",
    "In other words, take an 1 x n list (1 row + n columns) and flip it into a n x 1 list (n rows and 1 column),\n",
    "and vice versa.\n",
    "\n",
    "Examples\n",
    "\n",
    "flip_list([1, 2, 3, 4]) ➞ [[1], [2], [3], [4]]\n",
    "# Take a horizontal list and flip it vertical.\n",
    "\n",
    "flip_list([[5], [6], [9]]) ➞ [5, 6, 9]\n",
    "# Take a vertical list and flip it horizontal.\n",
    "\n",
    "flip_list([]) ➞ []'''\n",
    "\n",
    "def flip_list(lst):\n",
    "    if len(lst) == 0:\n",
    "        return lst\n",
    "    elif type(lst[0]) == list:\n",
    "        return [i[0] for i in lst]\n",
    "    else:\n",
    "        return [[i] for i in lst]\n",
    "\n",
    "flip_list([[5], [6], [9]])"
   ]
  }
 ],
 "metadata": {
  "kernelspec": {
   "display_name": "Python 3",
   "language": "python",
   "name": "python3"
  },
  "language_info": {
   "codemirror_mode": {
    "name": "ipython",
    "version": 3
   },
   "file_extension": ".py",
   "mimetype": "text/x-python",
   "name": "python",
   "nbconvert_exporter": "python",
   "pygments_lexer": "ipython3",
   "version": "3.8.8"
  }
 },
 "nbformat": 4,
 "nbformat_minor": 5
}
