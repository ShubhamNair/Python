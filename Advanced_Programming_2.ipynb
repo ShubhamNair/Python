{
 "cells": [
  {
   "cell_type": "code",
   "execution_count": 10,
   "id": "527261cb",
   "metadata": {},
   "outputs": [
    {
     "data": {
      "text/plain": [
       "141"
      ]
     },
     "execution_count": 10,
     "metadata": {},
     "output_type": "execute_result"
    }
   ],
   "source": [
    "# 1. Write a function that takes a positive integer num and calculates how many dots exist in \n",
    "#a pentagonal shape around the center dot on the Nth iteration.\n",
    "\n",
    "# In the image below you can see the first iteration is only a single dot. On the second, \n",
    "#there are 6 dots. On the third, there are 16 dots, and on the fourth there are 31 dots.\n",
    "\n",
    "# Return the number of dots that exist in the whole pentagon on the Nth iteration.\n",
    "\n",
    "# Examples\n",
    "\n",
    "# pentagonal(1) ➞ 1\n",
    "\n",
    "# pentagonal(2) ➞ 6\n",
    "\n",
    "# pentagonal(3) ➞ 16\n",
    "\n",
    "# pentagonal(8) ➞ 141\n",
    "\n",
    "\n",
    "def pentagonal(n,side=5):\n",
    "    return (5*(n**2)-5*n+2)//2     #Formula: (5 * n * n - 5 * n + 2) // 2\n",
    "\n",
    "pentagonal(8)"
   ]
  },
  {
   "cell_type": "code",
   "execution_count": 21,
   "id": "90745817",
   "metadata": {},
   "outputs": [
    {
     "data": {
      "text/plain": [
       "'k0r3baca'"
      ]
     },
     "execution_count": 21,
     "metadata": {},
     "output_type": "execute_result"
    }
   ],
   "source": [
    "'''2.  Make a function that encrypts a given input with these steps:\n",
    "\n",
    "Input: \"apple\"\n",
    "\n",
    "Step 1: Reverse the input: \"elppa\"\n",
    "\n",
    "Step 2: Replace all vowels using the following chart:\n",
    "\n",
    "a => 0\n",
    "e => 1\n",
    "i => 2\n",
    "o => 2\n",
    "u => 3\n",
    "\n",
    "# \"1lpp0\"\n",
    "\n",
    "Step 3: Add \"aca\" to the end of the word: \"1lpp0aca\"\n",
    "\n",
    "Output: \"1lpp0aca\"\n",
    "\n",
    "Examples\n",
    "\n",
    "encrypt(\"banana\") ➞ \"0n0n0baca\"\n",
    "\n",
    "encrypt(\"karaca\") ➞ \"0c0r0kaca\"\n",
    "\n",
    "encrypt(\"burak\") ➞ \"k0r3baca\"\n",
    "\n",
    "encrypt(\"alpaca\") ➞ \"0c0pl0aca\"\n",
    "'''\n",
    "\n",
    "def encrypt(string):\n",
    "    lst=[]\n",
    "    dic={'a':'0',\n",
    "    'e':'1',\n",
    "    'i': '2',\n",
    "    'o': '2',\n",
    "    'u':'3'}\n",
    "    rev=string[::-1]               #Step 1: Reverse the input\n",
    "    for i in rev:\n",
    "        if i in dic:\n",
    "            lst.append(dic[i])     #Step 2: Replace all vowels using the chart\n",
    "        else:\n",
    "            lst.append(i)\n",
    "    return ''.join(lst)+'aca'      #Step 3: Add \"aca\" to the end of the word\n",
    "            \n",
    "            \n",
    "    print(rev)\n",
    "   \n",
    "encrypt(\"burak\")"
   ]
  },
  {
   "cell_type": "code",
   "execution_count": 40,
   "id": "cc67e87e",
   "metadata": {},
   "outputs": [
    {
     "data": {
      "text/plain": [
       "True"
      ]
     },
     "execution_count": 40,
     "metadata": {},
     "output_type": "execute_result"
    }
   ],
   "source": [
    "'''3. Given the month and year as numbers, return whether that month contains a Friday 13th.\n",
    "(i.e You can check Python's datetime module)\n",
    "\n",
    "Examples\n",
    "\n",
    "has_friday_13(3, 2020) ➞ True\n",
    "\n",
    "has_friday_13(10, 2017) ➞ True\n",
    "\n",
    "has_friday_13(1, 1985) ➞ False\n",
    "'''\n",
    "import datetime\n",
    "\n",
    "def has_friday_13(month,year):\n",
    "    date_in_ymd=datetime.date(year,month,13)\n",
    "    day=date_in_ymd.strftime('%a')            #'%a' for abreviaton 'Wed','Mon','Fri'.'%A' for weekday\n",
    "    if day=='Fri':\n",
    "        return True\n",
    "    else:\n",
    "        return False\n",
    "    \n",
    "has_friday_13(10, 2017)    "
   ]
  },
  {
   "cell_type": "code",
   "execution_count": 8,
   "id": "3a071f98",
   "metadata": {},
   "outputs": [
    {
     "data": {
      "text/plain": [
       "2"
      ]
     },
     "execution_count": 8,
     "metadata": {},
     "output_type": "execute_result"
    }
   ],
   "source": [
    "'''4. Write a regular expression that will help us count how many bad cookies are produced every day.\n",
    "You must use RegEx negative lookbehind.\n",
    "\n",
    "Example\n",
    "\n",
    "lst = [\"bad cookie\", \"good cookie\", \"bad cookie\", \"good cookie\", \"good cookie\"]\n",
    "pattern = \"yourregularexpressionhere\"\n",
    "\n",
    "len(re.findall(pattern, \", \".join(lst))) ➞ 2\n",
    "'''\n",
    "import re\n",
    "lst = [\"bad cookie\", \"good cookie\", \"bad cookie\", \"good cookie\", \"good cookie\"]\n",
    "pattern = \"bad cookie\"\n",
    "len(re.findall(pattern, \", \".join(lst)))"
   ]
  },
  {
   "cell_type": "code",
   "execution_count": 14,
   "id": "187ea81e",
   "metadata": {},
   "outputs": [
    {
     "name": "stdout",
     "output_type": "stream",
     "text": [
      "{'tables'}\n",
      "{'pig', 'cows'}\n"
     ]
    }
   ],
   "source": [
    "'''5. Given a list of words in the singular form, return a set of those words in the plural \n",
    "form if they appear more than once in the list.\n",
    "\n",
    "Examples\n",
    "\n",
    "pluralize([\"cow\", \"pig\", \"cow\", \"cow\"]) ➞ { \"cows\", \"pig\" }\n",
    "\n",
    "pluralize([\"table\", \"table\", \"table\"]) ➞ { \"tables\" }\n",
    "\n",
    "pluralize([\"chair\", \"pencil\", \"arm\"]) ➞ { \"chair\", \"pencil\", \"arm\" }\n",
    "'''\n",
    "\n",
    "def pluralize(lst):\n",
    "    dic={}\n",
    "    out=[]\n",
    "    for i in lst:\n",
    "        dic[i]=dic.get(i,0)+1                         #word repetition counter\n",
    "    out=[k+'s' if v>1 else k for k,v in dic.items()]  #list comprehension[f(x) if condition else g(x) for x in sequence]\n",
    "    return set(out)\n",
    "\n",
    "print(pluralize([\"table\", \"table\", \"table\"]))\n",
    "print(pluralize([\"cow\", \"pig\", \"cow\", \"cow\"]))"
   ]
  }
 ],
 "metadata": {
  "kernelspec": {
   "display_name": "Python 3",
   "language": "python",
   "name": "python3"
  },
  "language_info": {
   "codemirror_mode": {
    "name": "ipython",
    "version": 3
   },
   "file_extension": ".py",
   "mimetype": "text/x-python",
   "name": "python",
   "nbconvert_exporter": "python",
   "pygments_lexer": "ipython3",
   "version": "3.8.8"
  }
 },
 "nbformat": 4,
 "nbformat_minor": 5
}
