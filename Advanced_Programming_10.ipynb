{
 "cells": [
  {
   "cell_type": "code",
   "execution_count": 2,
   "id": "1e06394a",
   "metadata": {},
   "outputs": [
    {
     "data": {
      "text/plain": [
       "['**********', '*        *', '**********']"
      ]
     },
     "execution_count": 2,
     "metadata": {},
     "output_type": "execute_result"
    }
   ],
   "source": [
    "'''1. Create a function that takes the width, height and character and returns a picture frame as a 2D list.\n",
    "\n",
    "Examples\n",
    "\n",
    "get_frame(4, 5, \"#\") ➞ [\n",
    "  [\"####\"],\n",
    "  [\"#  #\"],\n",
    "  [\"#  #\"],\n",
    "  [\"#  #\"],\n",
    "  [\"####\"]\n",
    "]\n",
    "# Frame is 4 characters wide and 5 characters tall.\n",
    "\n",
    "\n",
    "get_frame(10, 3, \"*\") ➞ [\n",
    "  [\"**********\"],\n",
    "  [\"*        *\"],\n",
    "  [\"**********\"]\n",
    "]\n",
    "# Frame is 10 characters and wide and 3 characters tall.\n",
    "\n",
    "\n",
    "get_frame(2, 5, \"0\") ➞ \"invalid\"\n",
    "# Frame's width is not more than 2.\n",
    "'''\n",
    "\n",
    "\n",
    "def get_frame(width,height,ch):\n",
    "    if width>2:\n",
    "        lst=[]\n",
    "        for j in range(height):\n",
    "            if j==0 or j==height-1:\n",
    "                lst.append(ch*width)\n",
    "            else:\n",
    "                lst.append(ch+' '*(width-2)+ch)\n",
    "        \n",
    "        return lst\n",
    "    else:\n",
    "        return 'invalid'\n",
    "    \n",
    "get_frame(10, 3, \"*\")"
   ]
  },
  {
   "cell_type": "code",
   "execution_count": 3,
   "id": "d14a2fd1",
   "metadata": {},
   "outputs": [
    {
     "name": "stdout",
     "output_type": "stream",
     "text": [
      "False\n"
     ]
    }
   ],
   "source": [
    "'''2. Write three functions:\n",
    "\n",
    "  1. boolean_and\n",
    "  2. boolean_or\n",
    "  3. boolean_xor\n",
    "These functions should evaluate a list of True and False values, \n",
    "starting from the leftmost element and evaluating pairwise.\n",
    "\n",
    "Examples\n",
    "\n",
    "boolean_and([True, True, False, True]) ➞ False\n",
    "# [True, True, False, True] => [True, False, True] => [False, True] => False\n",
    "\n",
    "boolean_or([True, True, False, False]) ➞ True\n",
    "# [True, True, False, True] => [True, False, False] => [True, False] => True\n",
    "\n",
    "boolean_xor([True, True, False, False]) ➞ False\n",
    "# [True, True, False, False] => [False, False, False] => [False, False] => False\n",
    "'''\n",
    "\n",
    "def boolean_and(lst):\n",
    "    if len(lst) == 2:\n",
    "        return (lst[0] and lst[1])\n",
    "    value = lst[0] and lst[1]\n",
    "    lst.pop(0)\n",
    "    lst.pop(0)\n",
    "    lst.insert(0, value)\n",
    "    boolean_and(lst)\n",
    "    \n",
    "def boolean_or(lst):\n",
    "    if len(lst) == 2:\n",
    "        return (lst[0] or lst[1])\n",
    "    value = (lst[0] or lst[1])\n",
    "    lst.pop(0)\n",
    "    lst.pop(0)\n",
    "    lst.insert(0, value)\n",
    "    boolean_or(lst)\n",
    "    \n",
    "def boolean_xor(lst):\n",
    "    if len(lst) <= 2:\n",
    "        print(lst[0] ^ lst[1])\n",
    "        return (lst[0] ^ lst[1])\n",
    "    value = (lst[0] ^ lst[1])\n",
    "    lst.pop(0)\n",
    "    lst.pop(0)\n",
    "    lst.insert(0, value)\n",
    "    boolean_xor(lst)\n",
    "    \n",
    "boolean_xor([True, True, False, False])"
   ]
  },
  {
   "cell_type": "code",
   "execution_count": 4,
   "id": "65458308",
   "metadata": {},
   "outputs": [
    {
     "data": {
      "text/plain": [
       "['#####', '#   #', '#   #', '#   #', '#####']"
      ]
     },
     "execution_count": 4,
     "metadata": {},
     "output_type": "execute_result"
    }
   ],
   "source": [
    "'''3. Create a function that creates a box based on dimension n.\n",
    "\n",
    "Examples\n",
    "\n",
    "make_box(5) ➞ [\n",
    "  \"#####\",\n",
    "  \"#   #\",\n",
    "  \"#   #\",\n",
    "  \"#   #\",\n",
    "  \"#####\"\n",
    "]\n",
    "\n",
    "make_box(3) ➞ [\n",
    "  \"###\",\n",
    "  \"# #\",\n",
    "  \"###\"\n",
    "]\n",
    "\n",
    "make_box(2) ➞ [\n",
    "  \"##\",\n",
    "  \"##\"\n",
    "]\n",
    "\n",
    "make_box(1) ➞ [\n",
    "  \"#\"\n",
    "]\n",
    "'''\n",
    "\n",
    "def make_box(n):\n",
    "    lst=[]\n",
    "    for i in range(n):\n",
    "        if i==0 or i==n-1:\n",
    "            lst.append('#'*n)\n",
    "        else:\n",
    "            lst.append('#'+' '*(n-2)+ '#')\n",
    "    return lst\n",
    "\n",
    "make_box(5)"
   ]
  },
  {
   "cell_type": "code",
   "execution_count": 14,
   "id": "d2fa6915",
   "metadata": {},
   "outputs": [
    {
     "name": "stdout",
     "output_type": "stream",
     "text": [
      "False\n",
      "True\n"
     ]
    }
   ],
   "source": [
    "'''4. Given a common phrase, return False if any individual word in the phrase\n",
    "contains duplicate letters. Return True otherwise.\n",
    "\n",
    "Examples\n",
    "\n",
    "no_duplicate_letters(\"Fortune favours the bold.\") ➞ True\n",
    "\n",
    "no_duplicate_letters(\"You can lead a horse to water, but you can't make him drink.\") ➞ True\n",
    "\n",
    "no_duplicate_letters(\"Look before you leap.\") ➞ False\n",
    "# Duplicate letters in \"Look\" and \"before\".\n",
    "\n",
    "no_duplicate_letters(\"An apple a day keeps the doctor away.\") ➞ False\n",
    "# Duplicate letters in \"apple\", \"keeps\", \"doctor\", and \"away\".\n",
    "'''\n",
    "\n",
    "def no_duplicate_letters(strng):\n",
    "    for i in strng.split():\n",
    "        lst=list(i)                       #the word is split into letter in lst\n",
    "        dictn={}\n",
    "        for i in lst:\n",
    "            dictn[i]=dictn.get(i,0)+1     #assigning values to dictionary to keep count\n",
    "            \n",
    "        for i in dictn.values():         \n",
    "            if i>1:\n",
    "                return False\n",
    "            \n",
    "    return True\n",
    "\n",
    "print(no_duplicate_letters(\"An apple a day keeps the doctor away.\"))\n",
    "print(no_duplicate_letters(\"Fortune favours the bold.\"))"
   ]
  },
  {
   "cell_type": "code",
   "execution_count": 25,
   "id": "dc5c4d79",
   "metadata": {},
   "outputs": [
    {
     "name": "stdout",
     "output_type": "stream",
     "text": [
      "['California', 'Florida']\n"
     ]
    }
   ],
   "source": [
    "'''5. Write a regular expression that will match the states that voted\n",
    "yes to President Trump's impeachment. You must use RegEx positive lookahead.\n",
    "\n",
    "Example\n",
    "\n",
    "txt = \"Texas = no, California = yes, Florida = yes, Michigan = no\"\n",
    "pattern = \"yourregularexpressionhere\"\n",
    "\n",
    "re.findall(pattern, txt) ➞ [\"California\", \"Florida\"]\n",
    "'''\n",
    "import regex as re\n",
    "txt = \"Texas = no, California = yes, Florida = yes, Michigan = no\"\n",
    "pattern= r'((\\w+[a-z]) = yes)'\n",
    "lst = [i[1] for i in re.findall(pattern, txt)]\n",
    "\n",
    "print(lst)"
   ]
  }
 ],
 "metadata": {
  "kernelspec": {
   "display_name": "Python 3",
   "language": "python",
   "name": "python3"
  },
  "language_info": {
   "codemirror_mode": {
    "name": "ipython",
    "version": 3
   },
   "file_extension": ".py",
   "mimetype": "text/x-python",
   "name": "python",
   "nbconvert_exporter": "python",
   "pygments_lexer": "ipython3",
   "version": "3.8.8"
  }
 },
 "nbformat": 4,
 "nbformat_minor": 5
}
