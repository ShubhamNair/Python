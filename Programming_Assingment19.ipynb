{
 "cells": [
  {
   "cell_type": "code",
   "execution_count": 13,
   "id": "be051ec2",
   "metadata": {},
   "outputs": [
    {
     "data": {
      "text/plain": [
       "'HHeelllloo  WWoorrlldd!!'"
      ]
     },
     "execution_count": 13,
     "metadata": {},
     "output_type": "execute_result"
    }
   ],
   "source": [
    "'''Question1\n",
    "Create a function that takes a string and returns a string in which each character is repeated once.\n",
    "Examples\n",
    "double_char(\"String\") ➞ \"SSttrriinngg\"\n",
    "\n",
    "double_char(\"Hello World!\") ➞ \"HHeelllloo  WWoorrlldd!!\"\n",
    "\n",
    "double_char(\"1234!_ \") ➞ \"11223344!!__  \"\n",
    "'''\n",
    "def double_char(string):\n",
    "    s=''\n",
    "    for i in string:\n",
    "        s+=2*i                    #2*'char='charchar'\n",
    "    return s\n",
    "\n",
    "double_char(\"Hello World!\")"
   ]
  },
  {
   "cell_type": "code",
   "execution_count": 16,
   "id": "57cdf458",
   "metadata": {},
   "outputs": [
    {
     "name": "stdout",
     "output_type": "stream",
     "text": [
      "False\n",
      "boolean expected\n"
     ]
    }
   ],
   "source": [
    "'''Question2\n",
    "Create a function that reverses a boolean value and \n",
    "returns the string \"boolean expected\" if another variable type is given.\n",
    "Examples\n",
    "reverse(True) ➞ False\n",
    "\n",
    "reverse(False) ➞ True\n",
    "\n",
    "reverse(0) ➞ \"boolean expected\"\n",
    "\n",
    "reverse(None) ➞ \"boolean expected\"'''\n",
    "\n",
    "def reverse(typ):\n",
    "    if type(typ)==bool:\n",
    "        return not type\n",
    "    else:\n",
    "        return \"boolean expected\"\n",
    "    \n",
    "print(reverse(False))\n",
    "print(reverse(0))"
   ]
  },
  {
   "cell_type": "code",
   "execution_count": 27,
   "id": "4dd1c9fe",
   "metadata": {},
   "outputs": [
    {
     "data": {
      "text/plain": [
       "'1048.576m'"
      ]
     },
     "execution_count": 27,
     "metadata": {},
     "output_type": "execute_result"
    }
   ],
   "source": [
    "'''Question3\n",
    "Create a function that returns the thickness (in meters) of a piece of paper after folding it n number of times. \n",
    "The paper starts off with a thickness of 0.5mm.\n",
    "Examples\n",
    "num_layers(1) ➞ \"0.001m\"\n",
    "# Paper folded once is 1mm (equal to 0.001m)\n",
    "\n",
    "num_layers(4) ➞ \"0.008m\"\n",
    "# Paper folded 4 times is 8mm (equal to 0.008m)\n",
    "\n",
    "num_layers(21) ➞ \"1048.576m\"\n",
    "# Paper folded 21 times is 1048576mm (equal to 1048.576m)'''\n",
    "\n",
    "def num_layers(n):\n",
    "    return str(round((2**(n-1))/1000, 4)) + \"m\"           #thickness=2**(n-1)/1000 for n folds\n",
    "\n",
    "num_layers(21)"
   ]
  },
  {
   "cell_type": "code",
   "execution_count": 31,
   "id": "5ecb1faa",
   "metadata": {},
   "outputs": [
    {
     "name": "stdout",
     "output_type": "stream",
     "text": [
      "[0, 1, 2, 3, 4, 5]\n",
      "[1, 3, 4, 6]\n"
     ]
    }
   ],
   "source": [
    "'''Question4\n",
    "Create a function that takes a single string as argument and\n",
    "returns an ordered list containing the indices of all capital letters in the string.\n",
    "Examples\n",
    "index_of_caps(\"eDaBiT\") ➞ [1, 3, 5]\n",
    "\n",
    "index_of_caps(\"eQuINoX\") ➞ [1, 3, 4, 6]\n",
    "\n",
    "index_of_caps(\"determine\") ➞ []\n",
    "\n",
    "index_of_caps(\"STRIKE\") ➞ [0, 1, 2, 3, 4, 5]\n",
    "\n",
    "index_of_caps(\"sUn\") ➞ [1]'''\n",
    "\n",
    "def index_of_caps(string):\n",
    "    return [i for i,j in enumerate(string) if j.isupper()]     #enumerate returns tuple (index,char),isupper() checks\n",
    "                                                               #case of the letter\n",
    "print(index_of_caps(\"STRIKE\"))    \n",
    "print(index_of_caps(\"eQuINoX\"))"
   ]
  },
  {
   "cell_type": "code",
   "execution_count": 34,
   "id": "fefc9dd1",
   "metadata": {},
   "outputs": [
    {
     "data": {
      "text/plain": [
       "[2, 4, 6, 8]"
      ]
     },
     "execution_count": 34,
     "metadata": {},
     "output_type": "execute_result"
    }
   ],
   "source": [
    "'''Question5\n",
    "Using list comprehensions, create a function that finds all even numbers from 1 to the given number.\n",
    "Examples\n",
    "find_even_nums(8) ➞ [2, 4, 6, 8]\n",
    "\n",
    "find_even_nums(4) ➞ [2, 4]\n",
    "\n",
    "find_even_nums(2) ➞ [2]'''    \n",
    "\n",
    "def find_even_nums(n):\n",
    "    return [i for i in range(1,n+1) if i%2==0]\n",
    "\n",
    "find_even_nums(8)"
   ]
  }
 ],
 "metadata": {
  "kernelspec": {
   "display_name": "Python 3",
   "language": "python",
   "name": "python3"
  },
  "language_info": {
   "codemirror_mode": {
    "name": "ipython",
    "version": 3
   },
   "file_extension": ".py",
   "mimetype": "text/x-python",
   "name": "python",
   "nbconvert_exporter": "python",
   "pygments_lexer": "ipython3",
   "version": "3.8.8"
  }
 },
 "nbformat": 4,
 "nbformat_minor": 5
}
