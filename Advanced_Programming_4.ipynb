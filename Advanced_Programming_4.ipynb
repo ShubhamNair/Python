{
 "cells": [
  {
   "cell_type": "code",
   "execution_count": 2,
   "id": "527261cb",
   "metadata": {},
   "outputs": [
    {
     "data": {
      "text/plain": [
       "12586269025"
      ]
     },
     "execution_count": 2,
     "metadata": {},
     "output_type": "execute_result"
    }
   ],
   "source": [
    "'''1. In mathematics, the Fibonacci numbers, commonly denoted Fn, form a sequence, \n",
    "called the Fibonacci sequence, such that each number is the sum of the two preceding ones, \n",
    "starting from 0 and 1:\n",
    "\n",
    "The beginning of the sequence is this:\n",
    "\n",
    "0, 1, 1, 2, 3, 5, 8, 13, 21, 34, 55, 89, 144, ...\n",
    "\n",
    "The function fastFib(num) returns the fibonacci number Fn, of the given num as an argument.\n",
    "\n",
    "Examples\n",
    "\n",
    "fib_fast(5) ➞ 5\n",
    "\n",
    "fib_fast(10) ➞ 55\n",
    "\n",
    "fib_fast(20) ➞ 6765\n",
    "\n",
    "fib_fast(50) ➞ 12586269025\n",
    "'''\n",
    "\n",
    "def fib_fast(n):\n",
    "    a=0\n",
    "    b=1\n",
    "    i=0\n",
    "    sum=0\n",
    "    while i<n:\n",
    "        a=b\n",
    "        b=sum\n",
    "        sum=a+b\n",
    "        i+=1\n",
    "        return sum\n",
    "    \n",
    "fib_fast(50)"
   ]
  },
  {
   "cell_type": "code",
   "execution_count": 11,
   "id": "90745817",
   "metadata": {},
   "outputs": [
    {
     "data": {
      "text/plain": [
       "'42 69 67 20 42 6f 69'"
      ]
     },
     "execution_count": 11,
     "metadata": {},
     "output_type": "execute_result"
    }
   ],
   "source": [
    "'''2. Create a function that takes a strings characters as ASCII and returns \n",
    "each characters hexadecimal value as a string.\n",
    "\n",
    "Examples\n",
    "\n",
    "convert_to_hex(\"hello world\") ➞ \"68 65 6c 6c 6f 20 77 6f 72 6c 64\"\n",
    "\n",
    "convert_to_hex(\"Big Boi\") ➞ \"42 69 67 20 42 6f 69\"\n",
    "\n",
    "convert_to_hex(\"Marty Poppinson\") ➞ \"4d 61 72 74 79 20 50 6f 70 70 69 6e 73 6f 6e\"\n",
    "'''\n",
    "\n",
    "def convert_to_hex(string):                     #ord to convert to ascii, hex to convert to hexadecimal and then\n",
    "    lst=[str(hex(ord(i)))[2:] for i in string]  #converting it to string and slicing from index 2   \n",
    "    return ' '.join(lst)\n",
    "    \n",
    "convert_to_hex(\"Big Boi\")"
   ]
  },
  {
   "cell_type": "code",
   "execution_count": 10,
   "id": "cc67e87e",
   "metadata": {},
   "outputs": [
    {
     "name": "stdout",
     "output_type": "stream",
     "text": [
      "UPPERCASE\n",
      "abcd\n"
     ]
    }
   ],
   "source": [
    "'''3. Someone has attempted to censor my strings by replacing every vowel with a *, l*k* th*s. \n",
    "Luckily, I've been able to find the vowels that were removed.\n",
    "\n",
    "Given a censored string and a string of the censored vowels, return the original uncensored string.\n",
    "\n",
    "Example\n",
    "\n",
    "uncensor(\"Wh*r* d*d my v*w*ls g*?\", \"eeioeo\") ➞ \"Where did my vowels go?\"\n",
    "\n",
    "uncensor(\"abcd\", \"\") ➞ \"abcd\"\n",
    "\n",
    "uncensor(\"*PP*RC*S*\", \"UEAE\") ➞ \"UPPERCASE\"\n",
    "'''\n",
    "def uncensor(s1,s2):\n",
    "    letters=list(s2)\n",
    "    output=[]\n",
    "    for i in s1:\n",
    "        if i=='*':\n",
    "            output.append(letters.pop(0))\n",
    "        else:\n",
    "            output.append(i)\n",
    "    return ''.join(output)\n",
    "\n",
    "print(uncensor(\"*PP*RC*S*\", \"UEAE\"))\n",
    "print(uncensor(\"abcd\", \"\"))"
   ]
  },
  {
   "cell_type": "code",
   "execution_count": 12,
   "id": "3a071f98",
   "metadata": {},
   "outputs": [
    {
     "data": {
      "text/plain": [
       "'dns.google'"
      ]
     },
     "execution_count": 12,
     "metadata": {},
     "output_type": "execute_result"
    }
   ],
   "source": [
    "'''4. Write a function that takes an IP address and returns the domain name using PTR DNS records.\n",
    "\n",
    "Example\n",
    "\n",
    "get_domain(\"8.8.8.8\") ➞ \"dns.google\"\n",
    "\n",
    "get_domain(\"8.8.4.4\") ➞ \"dns.google\"\n",
    "'''\n",
    "import socket\n",
    "def get_domain(strng):\n",
    "    name, aliaslist, addresslist=socket.gethostbyaddr(strng)\n",
    "    return name\n",
    "\n",
    "get_domain(\"8.8.8.8\")"
   ]
  },
  {
   "cell_type": "code",
   "execution_count": 14,
   "id": "187ea81e",
   "metadata": {},
   "outputs": [
    {
     "name": "stdout",
     "output_type": "stream",
     "text": [
      "34560\n",
      "24883200\n"
     ]
    }
   ],
   "source": [
    "'''5. Create a function that takes an integer n and returns the factorial of factorials. \n",
    "See below examples for a better understanding:\n",
    "\n",
    "Examples\n",
    "\n",
    "fact_of_fact(4) ➞ 288\n",
    "# 4! * 3! * 2! * 1! = 288\n",
    "\n",
    "fact_of_fact(5) ➞ 34560\n",
    "\n",
    "fact_of_fact(6) ➞ 24883200\n",
    "'''\n",
    "def fact(n):\n",
    "    if n==1:\n",
    "        return 1\n",
    "    else:\n",
    "        return fact(n-1)*n                               #Recursion\n",
    "def fact_of_fact(n:int)->int:\n",
    "    if n==1:\n",
    "        return 1\n",
    "    else:\n",
    "        return fact(n)*fact_of_fact(n-1)                 #Recursion\n",
    "print(fact_of_fact(5))\n",
    "print(fact_of_fact(6))"
   ]
  }
 ],
 "metadata": {
  "kernelspec": {
   "display_name": "Python 3",
   "language": "python",
   "name": "python3"
  },
  "language_info": {
   "codemirror_mode": {
    "name": "ipython",
    "version": 3
   },
   "file_extension": ".py",
   "mimetype": "text/x-python",
   "name": "python",
   "nbconvert_exporter": "python",
   "pygments_lexer": "ipython3",
   "version": "3.8.8"
  }
 },
 "nbformat": 4,
 "nbformat_minor": 5
}
