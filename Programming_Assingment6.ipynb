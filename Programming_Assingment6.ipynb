{
 "cells": [
  {
   "cell_type": "code",
   "execution_count": 5,
   "id": "4f38e376",
   "metadata": {},
   "outputs": [
    {
     "name": "stdout",
     "output_type": "stream",
     "text": [
      "Enter the number upto which Fibonacci Sequence required=11\n",
      "Fibonacci Seuence:0 1 1 2 3 5 8 13 21 34 55 "
     ]
    }
   ],
   "source": [
    "#Write a Python Program to Display Fibonacci Sequence Using Recursion?\n",
    "\n",
    "def fib(n):\n",
    "    if n<=1: \n",
    "        return n                    #0 and 1 return same\n",
    "    else:\n",
    "        return fib(n-1)+fib(n-2)       \n",
    "\n",
    "a=int(input('Enter the number upto which Fibonacci Sequence required='))\n",
    "print('Fibonacci Seuence:',end='')\n",
    "for i in range(a):\n",
    "    print(fib(i),end=' ')"
   ]
  },
  {
   "cell_type": "code",
   "execution_count": 14,
   "id": "d8ddfea5",
   "metadata": {},
   "outputs": [
    {
     "name": "stdout",
     "output_type": "stream",
     "text": [
      "Enter the number=7\n",
      "Factorial: 5040\n"
     ]
    }
   ],
   "source": [
    "#Write a Python Program to Find Factorial of Number Using Recursion?\n",
    "\n",
    "def rec(n):\n",
    "    if n<=1:\n",
    "        return n\n",
    "    else:  \n",
    "        return rec(n-1)*n        #factorial=n*(n-1)!\n",
    "    \n",
    "a=int(input('Enter the number='))\n",
    "print('Factorial:',rec(a))\n"
   ]
  },
  {
   "cell_type": "code",
   "execution_count": 2,
   "id": "3d319cdc",
   "metadata": {},
   "outputs": [
    {
     "name": "stdout",
     "output_type": "stream",
     "text": [
      "Enter your height(m) and weight(kg)1.8 78\n",
      "Your bmi is 24.07\n"
     ]
    }
   ],
   "source": [
    "#Write a Python Program to calculate your Body Mass Index?\n",
    "\n",
    "h,w=input('Enter your height(m) and weight(kg)').split()    #input().split()- Uses space as seperator     \n",
    "bmi=float(w)/float(h)**2                                    # and stores value in different variables \n",
    "print(f'Your bmi is {round(bmi,2)}')              # round function to set precision of the float value\n"
   ]
  },
  {
   "cell_type": "code",
   "execution_count": 4,
   "id": "a7d9a9da",
   "metadata": {},
   "outputs": [
    {
     "name": "stdout",
     "output_type": "stream",
     "text": [
      "Enter a number=10\n",
      "The log value= 2.303\n"
     ]
    }
   ],
   "source": [
    "#Write a Python Program to calculate the natural logarithm of any number?\n",
    "\n",
    "import math\n",
    "n=int(input('Enter a number='))\n",
    "a=math.log(n)\n",
    "print('The log value=',round(a,3))"
   ]
  },
  {
   "cell_type": "code",
   "execution_count": 8,
   "id": "f20c75ce",
   "metadata": {},
   "outputs": [
    {
     "name": "stdout",
     "output_type": "stream",
     "text": [
      "3025\n"
     ]
    }
   ],
   "source": [
    "#Write a Python Program for cube sum of first n natural numbers?\n",
    "\n",
    "def cubesum(n):\n",
    "     return int((n*(n+1)/2)**2)   #sum of n natural numbers= (n(n-1)/2)**2\n",
    "    \n",
    "print(cubesum(10))"
   ]
  }
 ],
 "metadata": {
  "kernelspec": {
   "display_name": "Python 3",
   "language": "python",
   "name": "python3"
  },
  "language_info": {
   "codemirror_mode": {
    "name": "ipython",
    "version": 3
   },
   "file_extension": ".py",
   "mimetype": "text/x-python",
   "name": "python",
   "nbconvert_exporter": "python",
   "pygments_lexer": "ipython3",
   "version": "3.8.8"
  }
 },
 "nbformat": 4,
 "nbformat_minor": 5
}
