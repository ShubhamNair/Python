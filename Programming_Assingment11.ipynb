{
 "cells": [
  {
   "cell_type": "code",
   "execution_count": 12,
   "id": "017df44e",
   "metadata": {},
   "outputs": [
    {
     "name": "stdout",
     "output_type": "stream",
     "text": [
      "Enter the string:Where there is a will, there is a way\n",
      "Max length of word:3\n",
      "List of words greater then given length= ['Where', 'there', 'will', 'there']\n"
     ]
    }
   ],
   "source": [
    "#Write a Python program to find words which are greater than given length k?\n",
    "\n",
    "a=input('Enter the string:').split(',')    #Considering the words have only comma and spaces in between each other\n",
    "k=int(input('Max length of word:'))          \n",
    "lst=[]\n",
    "for i in a:\n",
    "    i=i.split()\n",
    "    for j in i:\n",
    "        if len(j)>k:\n",
    "            lst.append(j)                    #stores the words greater than the limit\n",
    "        \n",
    "print('List of words greater then given length=',lst)\n",
    "    "
   ]
  },
  {
   "cell_type": "code",
   "execution_count": 15,
   "id": "03ab63a2",
   "metadata": {},
   "outputs": [
    {
     "name": "stdout",
     "output_type": "stream",
     "text": [
      "Enter the string:what the theck is happening\n",
      "The position from which the character is to be removed:10\n",
      "Original= what the theck is happening \n",
      "NEW= what the heck is happening\n"
     ]
    }
   ],
   "source": [
    "#Write a Python program for removing i-th character from a string?\n",
    "\n",
    "a=input('Enter the string:')\n",
    "i=int(input('The position from which the character is to be removed:')) #it starts from 1 so we have to -1 \n",
    "s=''                                                                    #for indexes later on\n",
    "s=a[:i-1]+a[i:]                                #slicing string\n",
    "print('Original=',a,'\\nNEW=',s)"
   ]
  },
  {
   "cell_type": "code",
   "execution_count": 17,
   "id": "d1d38cdc",
   "metadata": {},
   "outputs": [
    {
     "name": "stdout",
     "output_type": "stream",
     "text": [
      "Enter the string to be split according to spaces:But there would be no victor and so we inhabit the fracture world\n",
      "Joined string: Buttherewouldbenovictorandsoweinhabitthefractureworld\n"
     ]
    }
   ],
   "source": [
    "#Write a Python program to split and join a string?\n",
    "\n",
    "a=input('Enter the string to be split according to spaces:').split()\n",
    "s=''\n",
    "for i in a:\n",
    "    s+=i\n",
    "    \n",
    "print('Joined string:',s)\n",
    "\n"
   ]
  },
  {
   "cell_type": "code",
   "execution_count": 23,
   "id": "d957116e",
   "metadata": {},
   "outputs": [
    {
     "name": "stdout",
     "output_type": "stream",
     "text": [
      "Input the string1001\n",
      "The string is binary\n"
     ]
    }
   ],
   "source": [
    "#Write a Python to check if a given string is binary string or not?\n",
    "\n",
    "a=set(input('Input the string'))    #using set to remove duplicates and then compare with set of 0,1\n",
    "b={'0','1'}\n",
    "if a==b:\n",
    "    print('The string is binary')\n",
    "else:\n",
    "    print('The string is not binary')\n"
   ]
  },
  {
   "cell_type": "code",
   "execution_count": 42,
   "id": "da4edee0",
   "metadata": {},
   "outputs": [
    {
     "name": "stdout",
     "output_type": "stream",
     "text": [
      "Input the string:Let me test this\n",
      "Input the string:I am testing this\n",
      "Uncommon words= {'am', 'testing', 'test', 'me', 'Let', 'I'}\n"
     ]
    }
   ],
   "source": [
    "#Write a Python program to find uncommon words from two Strings?\n",
    "\n",
    "a=set(input('Input the string:').split()) \n",
    "b=set(input('Input the string:').split())\n",
    "print('Uncommon words=',(a|b)-a.intersection(b))\n"
   ]
  },
  {
   "cell_type": "code",
   "execution_count": 48,
   "id": "b9729704",
   "metadata": {},
   "outputs": [
    {
     "name": "stdout",
     "output_type": "stream",
     "text": [
      "Input the string:how is is it going on on on\n",
      "is\n",
      "on\n"
     ]
    }
   ],
   "source": [
    "#Write a Python to find all duplicate characters in string?\n",
    "\n",
    "a=input('Input the string:').split() \n",
    "d={}\n",
    "for i in a:\n",
    "    d[i]=d.get(i,0)+1                  #using get method from dictionaries to intialize the value as 1 once word is found\n",
    "    \n",
    "for u,v in d.items():                  #d.items() outputs a list of tuple of values and item\n",
    "    if v>1:\n",
    "        print(u)\n"
   ]
  },
  {
   "cell_type": "code",
   "execution_count": 49,
   "id": "f61f05af",
   "metadata": {},
   "outputs": [
    {
     "name": "stdout",
     "output_type": "stream",
     "text": [
      "Input the string:asdf/./,.,/.14.2\n",
      "Special characters are present in the string.\n"
     ]
    }
   ],
   "source": [
    "#Write a Python Program to check if a string contains any special character?\n",
    "\n",
    "import re                                            #for using regular expressions                              \n",
    "a=input('Input the string:')\n",
    "regex=re.compile('[@_!#$%^&*()<>?/\\|}{~:]')           \n",
    "\n",
    "if regex.search(a)==None:\n",
    "    print('There are no special characters in the string.')\n",
    "else:\n",
    "    print('Special characters are present in the string.')"
   ]
  }
 ],
 "metadata": {
  "kernelspec": {
   "display_name": "Python 3",
   "language": "python",
   "name": "python3"
  },
  "language_info": {
   "codemirror_mode": {
    "name": "ipython",
    "version": 3
   },
   "file_extension": ".py",
   "mimetype": "text/x-python",
   "name": "python",
   "nbconvert_exporter": "python",
   "pygments_lexer": "ipython3",
   "version": "3.8.8"
  }
 },
 "nbformat": 4,
 "nbformat_minor": 5
}
