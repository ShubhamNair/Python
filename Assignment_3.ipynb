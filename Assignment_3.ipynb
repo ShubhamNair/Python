{
 "cells": [
  {
   "cell_type": "code",
   "execution_count": null,
   "id": "29e0700c",
   "metadata": {},
   "outputs": [],
   "source": [
    "#1. Why are functions advantageous to have in your programs?\n",
    "Ans: Functions are advantageous as they help in reducing the number of times a same code is to be written inside a\n",
    "    complete code. Instead of writing it again and again we can use function call to call it in a single line of code."
   ]
  },
  {
   "cell_type": "code",
   "execution_count": null,
   "id": "c1c000f7",
   "metadata": {},
   "outputs": [],
   "source": [
    "#2. When does the code in a function run: when it's specified or when it's called?\n",
    "Ans: Funciton only executes when a funciton is called and not when it is specified."
   ]
  },
  {
   "cell_type": "code",
   "execution_count": null,
   "id": "f02ed9db",
   "metadata": {},
   "outputs": [],
   "source": [
    "#3. What statement creates a function?\n",
    "Ans: def keyword is used to define a keyword, followed by the name of the function, parameter(if any) and \n",
    "    then followed by collon. The statements written inside the indentation is the body of the function."
   ]
  },
  {
   "cell_type": "code",
   "execution_count": null,
   "id": "20a4c578",
   "metadata": {},
   "outputs": [],
   "source": [
    "#4. What is the difference between a function and a function call?\n",
    "Ans: Function is a set of procedure or instructions that is to be done when the function is called.\n",
    "    Function call is used to call the function while execution."
   ]
  },
  {
   "cell_type": "code",
   "execution_count": null,
   "id": "61a8fb52",
   "metadata": {},
   "outputs": [],
   "source": [
    "#5. How many global scopes are there in a Python program? How many local scopes?\n",
    "Ans:There is only one global scope, while there can be many local scopes depending upon function calls."
   ]
  },
  {
   "cell_type": "code",
   "execution_count": null,
   "id": "a0a028f3",
   "metadata": {},
   "outputs": [],
   "source": [
    "#6. What happens to variables in a local scope when the function call returns?\n",
    "Ans: When the function call returns, the local scope gets destroyed and all the variables in it are forgotten.\n"
   ]
  },
  {
   "cell_type": "code",
   "execution_count": null,
   "id": "4325ee9f",
   "metadata": {},
   "outputs": [],
   "source": [
    "#7. What is the concept of a return value? Is it possible to have a return value in an expression?\n",
    "Ans: Return is used to return the value after evaluation back to the function call.\n",
    "     Yes, you can use a return value in an expression.\n"
   ]
  },
  {
   "cell_type": "code",
   "execution_count": null,
   "id": "b9b5b1ce",
   "metadata": {},
   "outputs": [],
   "source": [
    "#8. If a function does not have a return statement, what is the return value of a call to that function?\n",
    "Ans: If there is no return statement inside a function, then the return value is None.\n",
    "     It returns back to the calling function after the last statement is executed.\n"
   ]
  },
  {
   "cell_type": "code",
   "execution_count": 7,
   "id": "398d1767",
   "metadata": {},
   "outputs": [
    {
     "name": "stdout",
     "output_type": "stream",
     "text": [
      "300\n"
     ]
    }
   ],
   "source": [
    "#9. How do you make a function variable refer to the global variable?\n",
    "Ans: We use global statement to make a function variable to refer to the global variable.\n",
    "\n",
    "a=20\n",
    "def changing():\n",
    "    global a\n",
    "    a=300\n",
    "changing() \n",
    "print(a)"
   ]
  },
  {
   "cell_type": "code",
   "execution_count": 6,
   "id": "7a599eee",
   "metadata": {},
   "outputs": [
    {
     "name": "stdout",
     "output_type": "stream",
     "text": [
      "300\n"
     ]
    }
   ],
   "source": [
    "#10. What is the data type of None?\n",
    "Ans: NoneType is the data type of None"
   ]
  },
  {
   "cell_type": "code",
   "execution_count": null,
   "id": "fc768ed6",
   "metadata": {},
   "outputs": [],
   "source": [
    "#11. What does the sentence import areallyourpetsnamederic do?\n",
    "Ans: Import statement is used to import a module. In this case it imports a module name areallyourpetsnamederic."
   ]
  },
  {
   "cell_type": "code",
   "execution_count": null,
   "id": "9123a8de",
   "metadata": {},
   "outputs": [],
   "source": [
    "#12. If you had a bacon() feature in a spam module, what would you call it after importing spam?\n",
    "Ans: spam.bacon()\n",
    "     It will be called to used to call the bacon() feature.\n",
    "example:\n",
    "    import spam\n",
    "    a=spam.bacon()\n"
   ]
  },
  {
   "cell_type": "code",
   "execution_count": null,
   "id": "99aa4fb0",
   "metadata": {},
   "outputs": [],
   "source": [
    "#13. What can you do to save a programme from crashing if it encounters an error?\n",
    "Ans: We can use exception handing to save a program from crashing.\n",
    "    We assign the line which crashes into try clause."
   ]
  },
  {
   "cell_type": "code",
   "execution_count": null,
   "id": "6ca85321",
   "metadata": {},
   "outputs": [],
   "source": [
    "#14. What is the purpose of the try clause? What is the purpose of the except clause?\n",
    "Ans: try clause contains the code which can cause error and cause the whole program to crash.\n",
    "    except clause contains the code which is to be executed if code inside try clause encounters an error"
   ]
  }
 ],
 "metadata": {
  "kernelspec": {
   "display_name": "Python 3",
   "language": "python",
   "name": "python3"
  },
  "language_info": {
   "codemirror_mode": {
    "name": "ipython",
    "version": 3
   },
   "file_extension": ".py",
   "mimetype": "text/x-python",
   "name": "python",
   "nbconvert_exporter": "python",
   "pygments_lexer": "ipython3",
   "version": "3.8.8"
  }
 },
 "nbformat": 4,
 "nbformat_minor": 5
}
