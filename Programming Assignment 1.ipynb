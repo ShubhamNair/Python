{
 "cells": [
  {
   "cell_type": "code",
   "execution_count": 1,
   "id": "acc84358",
   "metadata": {},
   "outputs": [
    {
     "name": "stdout",
     "output_type": "stream",
     "text": [
      "Hello Python\n"
     ]
    }
   ],
   "source": [
    "#Write a Python program to print \"Hello Python\"?\n",
    "print('Hello Python')"
   ]
  },
  {
   "cell_type": "code",
   "execution_count": 3,
   "id": "89d03663",
   "metadata": {},
   "outputs": [
    {
     "name": "stdout",
     "output_type": "stream",
     "text": [
      "Number 1=5\n",
      "Number 2=10\n",
      "Sum: 15\n",
      "Division 0.5\n"
     ]
    }
   ],
   "source": [
    "#Write a Python program to do arithmetical operations addition and division.?\n",
    "a=int(input('Number 1='))\n",
    "b=int(input('Number 2='))\n",
    "print('Sum:',a+b)\n",
    "print('Division',a/b)\n"
   ]
  },
  {
   "cell_type": "code",
   "execution_count": 5,
   "id": "445f6220",
   "metadata": {},
   "outputs": [
    {
     "name": "stdout",
     "output_type": "stream",
     "text": [
      "Base=5\n",
      "Height=2\n",
      "5.0\n"
     ]
    }
   ],
   "source": [
    "#Write a Python program to find the area of a triangle?\n",
    "b=int(input('Base='))\n",
    "h=int(input('Height='))\n",
    "area=0.5*b*h\n",
    "print(area)\n"
   ]
  },
  {
   "cell_type": "code",
   "execution_count": 9,
   "id": "07fc8ddd",
   "metadata": {},
   "outputs": [
    {
     "name": "stdout",
     "output_type": "stream",
     "text": [
      "Number 1=5\n",
      "Number 2=20\n",
      "Number 1: 20\n",
      "Number 2: 5\n"
     ]
    }
   ],
   "source": [
    "#Write a Python program to swap two variables?\n",
    "\n",
    "a=int(input('Number 1='))\n",
    "b=int(input('Number 2='))\n",
    "a,b=b,a\n",
    "print('Number 1:',a)\n",
    "print('Number 2:',b)"
   ]
  },
  {
   "cell_type": "code",
   "execution_count": 79,
   "id": "0344c3ed",
   "metadata": {},
   "outputs": [
    {
     "name": "stdout",
     "output_type": "stream",
     "text": [
      "8\n",
      "3\n"
     ]
    }
   ],
   "source": [
    "#Write a Python program to generate a random number?\n",
    "import random\n",
    "print(random.randint(0,10))          #this includes upperlimit\n",
    "print(random.randrange(0,10))        #this doesn't include upperlimit"
   ]
  }
 ],
 "metadata": {
  "kernelspec": {
   "display_name": "Python 3",
   "language": "python",
   "name": "python3"
  },
  "language_info": {
   "codemirror_mode": {
    "name": "ipython",
    "version": 3
   },
   "file_extension": ".py",
   "mimetype": "text/x-python",
   "name": "python",
   "nbconvert_exporter": "python",
   "pygments_lexer": "ipython3",
   "version": "3.8.8"
  }
 },
 "nbformat": 4,
 "nbformat_minor": 5
}
