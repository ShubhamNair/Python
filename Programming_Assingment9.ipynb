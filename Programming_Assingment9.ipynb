{
 "cells": [
  {
   "cell_type": "code",
   "execution_count": 5,
   "id": "72a48342",
   "metadata": {},
   "outputs": [
    {
     "name": "stdout",
     "output_type": "stream",
     "text": [
      "Enter the number:175\n",
      "It's a Disarium Number.\n"
     ]
    }
   ],
   "source": [
    "#Write a Python program to check if the given number is a Disarium Number?\n",
    "def dis(a):\n",
    "    b=0\n",
    "    n=1                                #used to increment the power of the number according to the place in the loop\n",
    "    for i in a:                        #iterating through the string from left to right\n",
    "        b=b+int(i)**n                   \n",
    "        n+=1\n",
    "    if a==str(b):\n",
    "        print(\"It's a Disarium Number.\")\n",
    "    else:\n",
    "        print(\"It's not a Disarium Number.\")\n",
    "        \n",
    "dis(input('Enter the number:'))\n",
    "    "
   ]
  },
  {
   "cell_type": "code",
   "execution_count": 16,
   "id": "55f46dad",
   "metadata": {},
   "outputs": [
    {
     "name": "stdout",
     "output_type": "stream",
     "text": [
      "[1, 2, 3, 4, 5, 6, 7, 8, 9, 89]\n"
     ]
    }
   ],
   "source": [
    "#Write a Python program to print all disarium numbers between 1 to 100?\n",
    "\n",
    "def dis(a):\n",
    "    b=0\n",
    "    n=1\n",
    "    for i in str(a):\n",
    "        b=b+int(i)**n\n",
    "        n+=1\n",
    "    if a==b:\n",
    "        return a\n",
    "        \n",
    "lst=[]        \n",
    "for i in range(1,101):\n",
    "    lst.append(dis(i))                   #appended to list as some values will return as None\n",
    "\n",
    "a=lst.count(None)\n",
    "for i in range(a):\n",
    "    lst.remove(None)                     #removing the None datatype from the list\n",
    "\n",
    "print(lst)"
   ]
  },
  {
   "cell_type": "code",
   "execution_count": 1,
   "id": "9b80a275",
   "metadata": {},
   "outputs": [
    {
     "name": "stdout",
     "output_type": "stream",
     "text": [
      "Enter the number=82\n",
      "It is a happy number\n"
     ]
    }
   ],
   "source": [
    "#Write a Python program to check if the given number is Happy Number?\n",
    "\n",
    "def happy(n):                           #happy number eg. 10=1*1+0*0=1          \n",
    "    i = 0\n",
    "    lst=[]                               #Store done iterations to stop the program from going into an infinite loop\n",
    "    lst.append(n)\n",
    "    while (True):                                 \n",
    "        i+= (n % 10) ** 2\n",
    "        n = n // 10                              \n",
    "        if i != 1 and n == 0:            #checks of the final result is one or not and all numbers have been squared and added\n",
    "            if i in lst:                 #checks if the iteration was already done before\n",
    "                break\n",
    "            lst.append(i)                \n",
    "            n = i                        #sets the result to n for the next iteration        \n",
    "            i = 0\n",
    "        elif i == 1 and n==0:\n",
    "            break\n",
    "    return i\n",
    "\n",
    "\n",
    "a = happy(int(input('Enter the number=')))\n",
    "if a ==1:\n",
    "    print('It is a happy number')\n",
    "else:\n",
    "    print('It is not a happy number')"
   ]
  },
  {
   "cell_type": "code",
   "execution_count": 2,
   "id": "bd4e08e1",
   "metadata": {},
   "outputs": [
    {
     "name": "stdout",
     "output_type": "stream",
     "text": [
      "1\n",
      "7\n",
      "10\n",
      "13\n",
      "19\n",
      "23\n",
      "28\n",
      "31\n",
      "32\n",
      "44\n",
      "49\n",
      "68\n",
      "70\n",
      "79\n",
      "82\n",
      "86\n",
      "91\n",
      "94\n",
      "97\n",
      "100\n"
     ]
    }
   ],
   "source": [
    "#Write a Python program to print all happy numbers between 1 and 100?\n",
    "\n",
    "\n",
    "def happy(n):                           #happy number eg. 10=1*1+0*0=1          \n",
    "    i = 0\n",
    "    lst=[]                               #Store done iterations to stop the program from going into an infinite loop\n",
    "    lst.append(n)\n",
    "    while (True):                                 \n",
    "        i+= (n % 10) ** 2\n",
    "        n = n // 10                              \n",
    "        if i != 1 and n == 0:            #checks of the final result is one or not and all numbers have been squared and added\n",
    "            if i in lst:                 #checks if the iteration was already done before\n",
    "                break\n",
    "            lst.append(i)                \n",
    "            n = i                        #sets the result to n for the next iteration        \n",
    "            i = 0\n",
    "        elif i == 1 and n==0:\n",
    "            break\n",
    "    return i\n",
    "\n",
    "\n",
    "for i in range(1,101):\n",
    "    a=happy(i)\n",
    "    if a==1:\n",
    "        print(i)"
   ]
  },
  {
   "cell_type": "code",
   "execution_count": 4,
   "id": "fbbf04a6",
   "metadata": {},
   "outputs": [
    {
     "name": "stdout",
     "output_type": "stream",
     "text": [
      "Enter the number=153\n",
      "It is a Harshad Number\n"
     ]
    }
   ],
   "source": [
    "#Write a Python program to determine whether the given number is a Harshad Number?\n",
    "\n",
    "def harsh(n):                                    #Harshad number:  example:153%(1+5+3)=0 Hence Harshad number\n",
    "    t=str(n)\n",
    "    c=0\n",
    "    for i in t:                                  #Using string iteration to pick out digits instead of remainder methon\n",
    "        c+=int(i)\n",
    "        \n",
    "        \n",
    "    if n%c==0:\n",
    "        return True\n",
    "    else:\n",
    "        return False\n",
    "        \n",
    "a=harsh(int(input('Enter the number=')))\n",
    "if a==True:\n",
    "    print('It is a Harshad Number')\n",
    "else:\n",
    "    print('it is not a Harshad Number')"
   ]
  },
  {
   "cell_type": "code",
   "execution_count": 3,
   "id": "9a69df0c",
   "metadata": {},
   "outputs": [
    {
     "name": "stdout",
     "output_type": "stream",
     "text": [
      "1\n",
      "2\n",
      "3\n",
      "4\n",
      "5\n",
      "6\n",
      "7\n",
      "8\n",
      "9\n",
      "10\n",
      "12\n",
      "18\n",
      "20\n",
      "21\n",
      "24\n",
      "27\n",
      "30\n",
      "36\n",
      "40\n",
      "42\n",
      "45\n",
      "48\n",
      "50\n",
      "54\n",
      "60\n",
      "63\n",
      "70\n",
      "72\n",
      "80\n",
      "81\n",
      "84\n",
      "90\n",
      "100\n"
     ]
    }
   ],
   "source": [
    "#Write a Python program to print all pronic numbers between 1 and 100?\n",
    "\n",
    "\n",
    "def harsh(n):                                    #Harshad number:  example:153%(1+5+3)=0 Hence Harshad number\n",
    "    t=str(n)\n",
    "    c=0\n",
    "    for i in t:                                  #Using string iteration to pick out digits instead of remainder methon\n",
    "        c+=int(i)\n",
    "        \n",
    "        \n",
    "    if n%c==0:\n",
    "        return True\n",
    "    else:\n",
    "        return False\n",
    "for i in range(1,101):\n",
    "    if harsh(i)==True:\n",
    "        print(i)"
   ]
  }
 ],
 "metadata": {
  "kernelspec": {
   "display_name": "Python 3",
   "language": "python",
   "name": "python3"
  },
  "language_info": {
   "codemirror_mode": {
    "name": "ipython",
    "version": 3
   },
   "file_extension": ".py",
   "mimetype": "text/x-python",
   "name": "python",
   "nbconvert_exporter": "python",
   "pygments_lexer": "ipython3",
   "version": "3.8.8"
  }
 },
 "nbformat": 4,
 "nbformat_minor": 5
}
