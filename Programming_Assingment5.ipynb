{
 "cells": [
  {
   "cell_type": "code",
   "execution_count": 8,
   "id": "6e3122a7",
   "metadata": {},
   "outputs": [
    {
     "name": "stdout",
     "output_type": "stream",
     "text": [
      "Enter two numbers=11\n",
      "5\n",
      "lcm= 55\n"
     ]
    }
   ],
   "source": [
    "#Write a Python Program to Find LCM?\n",
    "a,b=int(input('Enter two numbers=')),int(input())\n",
    "m=max(a,b)\n",
    "\n",
    "while True:\n",
    "    if m%a==0 and m%b==0:\n",
    "        break\n",
    "    m+=1\n",
    "print('lcm=',m)\n",
    "    \n",
    "    "
   ]
  },
  {
   "cell_type": "code",
   "execution_count": 15,
   "id": "e02b3e67",
   "metadata": {},
   "outputs": [
    {
     "name": "stdout",
     "output_type": "stream",
     "text": [
      "25\n"
     ]
    }
   ],
   "source": [
    "#Write a Python Program to Find HCF?\n",
    "def hcf(a,b):\n",
    "    h=min(a,b)\n",
    "    c=h\n",
    "    while c>0:\n",
    "        if a%c==0 and b%c==0:\n",
    "            break\n",
    "        c-=1\n",
    "    return c\n",
    "\n",
    "print(hcf(50,75))\n",
    "        "
   ]
  },
  {
   "cell_type": "code",
   "execution_count": 16,
   "id": "7ba5c0dd",
   "metadata": {},
   "outputs": [
    {
     "name": "stdout",
     "output_type": "stream",
     "text": [
      "Enter the number10\n",
      "Binary= 0b1010\n",
      "Octal= 0o12\n",
      "Hexadecimal= 0xa\n"
     ]
    }
   ],
   "source": [
    "#Write a Python Program to Convert Decimal to Binary, Octal and Hexadecimal?\n",
    "a=int(input('Enter the number'))\n",
    "print('Binary=',bin(a))\n",
    "print('Octal=',oct(a))\n",
    "print('Hexadecimal=',hex(a))"
   ]
  },
  {
   "cell_type": "code",
   "execution_count": 22,
   "id": "66fe97b2",
   "metadata": {},
   "outputs": [
    {
     "name": "stdout",
     "output_type": "stream",
     "text": [
      "Enter the characters\n",
      "ASCII value  : 115\n"
     ]
    }
   ],
   "source": [
    "#Write a Python Program To Find ASCII value of a character\n",
    "a=input('Enter the character')\n",
    "print('ASCII value  :',ord(a))"
   ]
  },
  {
   "cell_type": "code",
   "execution_count": 1,
   "id": "a33b9802",
   "metadata": {},
   "outputs": [
    {
     "name": "stdout",
     "output_type": "stream",
     "text": [
      "1=Add\n",
      "2=Subtract\n",
      "3=Multiply\n",
      "4=Divide\n",
      "Select the operation: 1/2/3/44\n",
      "Enter the number of numbers=2\n",
      "Enter the number with symbols(i.e. -1,-2,-3,... for substraction/negative nummbers)15\n",
      "Enter the number with symbols(i.e. -1,-2,-3,... for substraction/negative nummbers)5\n",
      "Solution= 3.0\n"
     ]
    }
   ],
   "source": [
    "#Write a Python Program to Make a Simple Calculator with 4 basic mathematical operations?\n",
    "print('1=Add')                            #assigning different numbers to different operations\n",
    "print('2=Subtract')\n",
    "print('3=Multiply')\n",
    "print('4=Divide')\n",
    "a=int(input('Select the operation: 1/2/3/4'))\n",
    "\n",
    "an=int(input('Enter the number of numbers='))\n",
    "lst=[]\n",
    "for i in range(an):\n",
    "    n=int(input('Enter the number with symbols(i.e. -1,-2,-3,... for substraction/negative nummbers)'))   \n",
    "    lst.append(n)                          #list can use symbols to determingwhether addition or substraction is\n",
    "                                               #to be done without stopping the program                                                                                       \n",
    "if a==1 or a==2:\n",
    "    print('Solution=',sum(lst))           #Prints output of the solution after substracting and adding. You can do both\n",
    "                                              #operations at any time\n",
    "elif a==3:\n",
    "    mul=1\n",
    "    for i in lst:\n",
    "        mul=mul*i\n",
    "    print('Solution=',mul)\n",
    "\n",
    "\n",
    "elif a==4:\n",
    "\n",
    "    div=0\n",
    "    for i in lst:\n",
    "        if div==0:\n",
    "            div=i\n",
    "        else:\n",
    "            div=div/i\n",
    "    print('Solution=',div)\n",
    "\n",
    "\n",
    "else:\n",
    "    print('Wrong operation was selected')"
   ]
  }
 ],
 "metadata": {
  "kernelspec": {
   "display_name": "Python 3",
   "language": "python",
   "name": "python3"
  },
  "language_info": {
   "codemirror_mode": {
    "name": "ipython",
    "version": 3
   },
   "file_extension": ".py",
   "mimetype": "text/x-python",
   "name": "python",
   "nbconvert_exporter": "python",
   "pygments_lexer": "ipython3",
   "version": "3.8.8"
  }
 },
 "nbformat": 4,
 "nbformat_minor": 5
}
