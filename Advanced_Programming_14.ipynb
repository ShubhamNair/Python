{
 "cells": [
  {
   "cell_type": "code",
   "execution_count": 1,
   "id": "451035d8",
   "metadata": {},
   "outputs": [
    {
     "data": {
      "text/plain": [
       "[12.0, 7.5, 6.75]"
      ]
     },
     "execution_count": 1,
     "metadata": {},
     "output_type": "execute_result"
    }
   ],
   "source": [
    "'''1. Given a list of numbers, create a function that removes 25% from every number in the\n",
    "list except the smallest number, and adds the total amount removed to the smallest number.\n",
    "\n",
    "Examples\n",
    "\n",
    "show_the_love([4, 1, 4]) ➞ [3, 3, 3]\n",
    "\n",
    "show_the_love([16, 10, 8]) ➞ [12, 7.5, 14.5]\n",
    "\n",
    "show_the_love([2, 100]) ➞ [27, 75]\n",
    "\n",
    "'''\n",
    "\n",
    "def show_the_love(lst):\n",
    "    min= sorted(lst)[0]\n",
    "    summ=0\n",
    "    min_index=[]\n",
    "    for i,j in enumerate(lst):\n",
    "        if j==min:\n",
    "            min_index.append(i)\n",
    "            pass\n",
    "        summ+=0.25*i\n",
    "        lst[i]=0.75*j\n",
    "    for i in min_index:\n",
    "        lst[i]+=summ\n",
    "    return lst\n",
    "\n",
    "show_the_love([16, 10, 8])   "
   ]
  },
  {
   "cell_type": "code",
   "execution_count": 2,
   "id": "ae83e600",
   "metadata": {},
   "outputs": [
    {
     "data": {
      "text/plain": [
       "['aps', 'hr', 'o']"
      ]
     },
     "execution_count": 2,
     "metadata": {},
     "output_type": "execute_result"
    }
   ],
   "source": [
    "'''2. Create a function that takes in two words as input and returns a list of three elements,\n",
    "in the following order:\n",
    "\n",
    "   1.Shared letters between two words.\n",
    "   2.Letters unique to word 1.\n",
    "   3.Letters unique to word 2.\n",
    "\n",
    "Each element should have unique letters, and have each letter be alphabetically sorted.\n",
    "\n",
    "Examples\n",
    "\n",
    "letters(\"sharp\", \"soap\") ➞ [\"aps\", \"hr\", \"o\"]\n",
    "\n",
    "letters(\"board\", \"bored\") ➞ [\"bdor\", \"a\", \"e\"]\n",
    "\n",
    "letters(\"happiness\", \"envelope\") ➞ [\"enp\", \"ahis\", \"lov\"]\n",
    "\n",
    "letters(\"kerfuffle\", \"fluffy\") ➞ [\"flu\", \"ekr\", \"y\"]\n",
    "# Even with multiple matching letters (e.g. 3 f's), there should \n",
    "# only exist a single \"f\" in your first element.\n",
    "\n",
    "letters(\"match\", \"ham\") ➞ [\"ahm\", \"ct\", \"\"]\n",
    "# \"ham\" does not contain any letters that are not found already \n",
    "# in \"match\".\n",
    "\n",
    "'''\n",
    "\n",
    "def letters(str1,str2):\n",
    "    s1 = set(list(str1))\n",
    "    s2 = set(list(str2))\n",
    "    common=sorted(list(s1&s2))\n",
    "    uniqueSet1= sorted([i for i in s1 if i not in common])\n",
    "    uniqueSet2= sorted([i for i in s2 if i not in common])\n",
    "    return [''.join(common),''.join(uniqueSet1),''.join(uniqueSet2)]\n",
    "    \n",
    "\n",
    "letters(\"sharp\", \"soap\")"
   ]
  },
  {
   "cell_type": "code",
   "execution_count": 16,
   "id": "d9e8fcc5",
   "metadata": {},
   "outputs": [
    {
     "name": "stdout",
     "output_type": "stream",
     "text": [
      "[[1, 7], [2, 6], [3, 5], [4, 4]]\n",
      "[[5, 2], [9, 1], [8, 8]]\n",
      "[]\n"
     ]
    }
   ],
   "source": [
    "'''3. Write a function that pairs the first number in an array with the last, \n",
    "the second number with the second to last, etc.\n",
    "\n",
    "Examples\n",
    "\n",
    "pairs([1, 2, 3, 4, 5, 6, 7]) ➞ [[1, 7], [2, 6], [3, 5], [4, 4]]\n",
    "\n",
    "pairs([1, 2, 3, 4, 5, 6]) ➞ [[1, 6], [2, 5], [3, 4]]\n",
    "\n",
    "pairs([5, 9, 8, 1, 2]) ➞ [[5, 2], [9, 1], [8, 8]]\n",
    "\n",
    "pairs([]) ➞ []\n",
    "\n",
    "'''\n",
    "\n",
    "def pairs(lst):\n",
    "    output=[]\n",
    "    if len(lst)==0:\n",
    "        pass\n",
    "    else:\n",
    "        for i in range(len(lst)//2+1):\n",
    "            if len(lst)%2==1:\n",
    "                if i==len(lst)//2:\n",
    "                    output.append([lst[i],lst[i]])\n",
    "                else:\n",
    "                    output.append([lst[i],lst[len(lst)-1-i]])\n",
    "            else:\n",
    "                output.append([lst[i],lst[len(lst)-1-i]])\n",
    "    return output\n",
    "            \n",
    "print(pairs([1, 2, 3, 4, 5, 6, 7]))\n",
    "print(pairs([5, 9, 8, 1, 2]))\n",
    "print(pairs([]))"
   ]
  },
  {
   "cell_type": "code",
   "execution_count": 18,
   "id": "1827a719",
   "metadata": {},
   "outputs": [
    {
     "name": "stdout",
     "output_type": "stream",
     "text": [
      "-1\n",
      "9\n"
     ]
    }
   ],
   "source": [
    "'''4. Write a function that adds two numbers. The catch, however, is that the numbers will be strings.\n",
    "\n",
    "Examples\n",
    "\n",
    "add_str_nums(\"4\", \"5\") ➞ \"9\"\n",
    "\n",
    "add_str_nums(\"abcdefg\", \"3\") ➞ \"-1\"\n",
    "\n",
    "add_str_nums(\"1\", \"\") ➞ \"1\"\n",
    "\n",
    "add_str_nums(\"1874682736267235927359283579235789257\", \"32652983572985729\") ➞ \"1874682736267235927391936562808774986\"\n",
    "\n",
    "'''\n",
    "\n",
    "def add_str_nums(str1, str2):\n",
    "    check = all([True if i.isdigit() or i == \"\" else False for i in [str1, str2]])\n",
    "    ''' returns True if all items in an iterable are true,\n",
    "    otherwise it returns False. If the iterable object is empty, \n",
    "    the all() function also returns True.'''\n",
    "\n",
    "    if check:\n",
    "        if str1 == \"\":\n",
    "            str1 = \"0\"\n",
    "            ans = str(eval(str1 + \"+\" + str2))\n",
    "        if str2 == \"\":\n",
    "            str2 = \"0\"\n",
    "            ans = str(eval(str1 + \"+\" + str2))\n",
    "        else:\n",
    "            ans = str(eval(str1 + \"+\" + str2))\n",
    "    \n",
    "        return ans\n",
    "    return str(-1)\n",
    "\n",
    "print(add_str_nums(\"abcdefg\", \"3\"))\n",
    "print(add_str_nums(\"4\", \"5\"))"
   ]
  },
  {
   "cell_type": "code",
   "execution_count": 29,
   "id": "c27df748",
   "metadata": {},
   "outputs": [
    {
     "name": "stdout",
     "output_type": "stream",
     "text": [
      "214365\n",
      "This is a mixed up string.\n",
      "abcde\n"
     ]
    }
   ],
   "source": [
    "'''5. lPaeesh le pemu mnxit ehess rtnisg! Oh, sorry, that was supposed to say: Please help me unmix these strings!\n",
    "\n",
    "Somehow my strings have all become mixed up; every pair of characters has been swapped. \n",
    "Help me undo this so I can understand my strings again.\n",
    "\n",
    "Examples\n",
    "\n",
    "unmix(\"123456\") ➞ \"214365\"\n",
    "\n",
    "unmix(\"hTsii  s aimex dpus rtni.g\") ➞ \"This is a mixed up string.\"\n",
    "\n",
    "unmix(\"badce\") ➞ \"abcde\"\n",
    "'''\n",
    "\n",
    "def unmix(string):\n",
    "    lst = list(string)\n",
    "    new_lst = []\n",
    "    for i in range(len(lst)-1):\n",
    "        if i%2 == 0:\n",
    "            new_lst.extend([lst[i+1], lst[i]])\n",
    "    if len(lst)%2 != 0:\n",
    "        new_lst.append(lst[-1])\n",
    "    return \"\".join(new_lst)\n",
    "\n",
    "print(unmix(\"123456\"))\n",
    "print(unmix(\"hTsii  s aimex dpus rtni.g\"))\n",
    "print(unmix(\"badce\"))"
   ]
  }
 ],
 "metadata": {
  "kernelspec": {
   "display_name": "Python 3",
   "language": "python",
   "name": "python3"
  },
  "language_info": {
   "codemirror_mode": {
    "name": "ipython",
    "version": 3
   },
   "file_extension": ".py",
   "mimetype": "text/x-python",
   "name": "python",
   "nbconvert_exporter": "python",
   "pygments_lexer": "ipython3",
   "version": "3.8.8"
  }
 },
 "nbformat": 4,
 "nbformat_minor": 5
}
