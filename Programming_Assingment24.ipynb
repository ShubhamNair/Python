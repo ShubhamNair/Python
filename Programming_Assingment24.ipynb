{
 "cells": [
  {
   "cell_type": "code",
   "execution_count": 2,
   "id": "527261cb",
   "metadata": {},
   "outputs": [
    {
     "name": "stdout",
     "output_type": "stream",
     "text": [
      "[1, 2, 3, 40, 5, 6, 7, 80, 9, 10, 11, 120, 13, 14, 15, 160, 17, 18, 19, 200, 21, 22, 23, 240, 25]\n"
     ]
    }
   ],
   "source": [
    "'''Question1\n",
    "Create a function that takes an integer and returns a list from 1 to the given number, where:\n",
    "If the number can be divided evenly by 4, amplify it by 10 (i.e. return 10 times the number).\n",
    "If the number cannot be divided evenly by 4, simply return the number.\n",
    "Examples\n",
    "amplify(4) ➞ [1, 2, 3, 40]\n",
    "\n",
    "amplify(3) ➞ [1, 2, 3]\n",
    "\n",
    "amplify(25) ➞ [1, 2, 3, 40, 5, 6, 7, 80, 9, 10, 11, 120, 13, 14, 15, 160, 17, 18, 19, 200, 21, 22, 23, 240, 25]\n",
    "Notes\n",
    "The given integer will always be equal to or greater than 1.\n",
    "Include the number (see example above).\n",
    "To perform this problem with its intended purpose, try doing it with list comprehensions. \n",
    "If that's too difficult, just solve the challenge any way you can.\n",
    "'''\n",
    "                                       \n",
    "def amplify(n):\n",
    "    return [i*10 if i%4==0 else i for i in range(1,n+1)]                   \n",
    "                                              #In general,\n",
    "                                              #[f(x) if condition else g(x) for x in sequence]\n",
    "                                              #And, for list comprehensions with if conditions only,\n",
    "                                              #[f(x) for x in sequence if condition]\n",
    "                \n",
    "print(amplify(25))\n"
   ]
  },
  {
   "cell_type": "code",
   "execution_count": 6,
   "id": "90745817",
   "metadata": {},
   "outputs": [
    {
     "name": "stdout",
     "output_type": "stream",
     "text": [
      "0.77\n"
     ]
    }
   ],
   "source": [
    "'''Question2\n",
    "Create a function that takes a list of numbers and return the number that's unique.\n",
    "Examples\n",
    "unique([3, 3, 3, 7, 3, 3]) ➞ 7\n",
    "\n",
    "unique([0, 0, 0.77, 0, 0]) ➞ 0.77\n",
    "\n",
    "unique([0, 1, 1, 1, 1, 1, 1, 1]) ➞ 0\n",
    "Notes\n",
    "Test cases will always have exactly one unique number while all others are the same.\n",
    "'''\n",
    "\n",
    "def unique(lst):\n",
    "    dictt={}\n",
    "    for i in lst:\n",
    "        dictt[i]=dictt.get(i,0)+1            #counting the instances of a certain key into values\n",
    "    for i,j in dictt.items():\n",
    "        if j==1:                             #if a key only has one instance\n",
    "            return i\n",
    "\n",
    "print(unique([0, 0, 0.77, 0, 0]))"
   ]
  },
  {
   "cell_type": "code",
   "execution_count": 8,
   "id": "cc67e87e",
   "metadata": {},
   "outputs": [
    {
     "name": "stdout",
     "output_type": "stream",
     "text": [
      "Area= 380\n",
      "Perimeter= 69\n"
     ]
    }
   ],
   "source": [
    "'''Question3\n",
    "Your task is to create a Circle constructor that creates a circle with a radius provided by an argument. \n",
    "The circles constructed must have two getters getArea() (PIr^2) and getPerimeter() (2PI*r) \n",
    "which give both respective areas and perimeter (circumference).\n",
    "For help with this class, I have provided you with a Rectangle constructor which you can use as a base example.\n",
    "Examples\n",
    "circy = Circle(11)\n",
    "circy.getArea()\n",
    "\n",
    "# Should return 380.132711084365\n",
    "\n",
    "circy = Circle(4.44)\n",
    "circy.getPerimeter()\n",
    "\n",
    "# Should return 27.897342763877365\n",
    "Notes\n",
    "Round results up to the nearest integer.\n",
    "'''\n",
    "from math import pi\n",
    "class Circle:\n",
    "    def __init__(self,r):\n",
    "        self.r=r\n",
    "        \n",
    "    def getArea(self):\n",
    "        return int(pi*(self.r**2))\n",
    "    \n",
    "    def getPerimeter(self):\n",
    "        return int(2*pi*self.r)\n",
    "    \n",
    "circy = Circle(11)\n",
    "print('Area=',circy.getArea())\n",
    "print('Perimeter=',circy.getPerimeter())"
   ]
  },
  {
   "cell_type": "code",
   "execution_count": 9,
   "id": "3a071f98",
   "metadata": {},
   "outputs": [
    {
     "data": {
      "text/plain": [
       "['Raphael', 'Leonardo', 'Donatello', 'Michelangelo']"
      ]
     },
     "execution_count": 9,
     "metadata": {},
     "output_type": "execute_result"
    }
   ],
   "source": [
    "'''Question4\n",
    "Create a function that takes a list of strings and return a list, sorted from shortest to longest.\n",
    "Examples\n",
    "sort_by_length([\"Google\", \"Apple\", \"Microsoft\"])\n",
    "➞ [\"Apple\", \"Google\", \"Microsoft\"]\n",
    "\n",
    "sort_by_length([\"Leonardo\", \"Michelangelo\", \"Raphael\", \"Donatello\"])\n",
    "➞ [\"Raphael\", \"Leonardo\", \"Donatello\", \"Michelangelo\"]\n",
    "\n",
    "sort_by_length([\"Turing\", \"Einstein\", \"Jung\"])\n",
    "➞ [\"Jung\", \"Turing\", \"Einstein\"]\n",
    "Notes\n",
    "All test cases contain lists with strings of different lengths, \n",
    "so you won't have to deal with multiple strings of the same length.'''\n",
    "\n",
    "def sort_by_length(lst):\n",
    "    return sorted(lst,key=len)                 #key is used to sort according to the specified function in key\n",
    "\n",
    "sort_by_length([\"Leonardo\", \"Michelangelo\", \"Raphael\", \"Donatello\"])"
   ]
  },
  {
   "cell_type": "code",
   "execution_count": 18,
   "id": "187ea81e",
   "metadata": {},
   "outputs": [
    {
     "name": "stdout",
     "output_type": "stream",
     "text": [
      "True\n",
      "False\n"
     ]
    }
   ],
   "source": [
    "'''Question5\n",
    "Create a function that validates whether three given integers form a Pythagorean triplet. \n",
    "The sum of the squares of the two smallest integers must equal the square of the largest number to be validated.\n",
    "\n",
    "\n",
    "Examples\n",
    "is_triplet(3, 4, 5) ➞ True\n",
    "# 3² + 4² = 25\n",
    "# 5² = 25\n",
    "\n",
    "is_triplet(13, 5, 12) ➞ True\n",
    "# 5² + 12² = 169\n",
    "# 13² = 169\n",
    "\n",
    "is_triplet(1, 2, 3) ➞ False\n",
    "# 1² + 2² = 5\n",
    "# 3² = 9\n",
    "Notes\n",
    "Numbers may not be given in a sorted order.\n",
    "'''\n",
    "\n",
    "def is_triplet(a,b,c):\n",
    "    lst=[a,b,c]\n",
    "    mx=max(a,b,c)\n",
    "    lst.pop(lst.index(mx))                  #list only contains 2 sides which excludes the hypotenuse\n",
    "    if mx**2==lst[0]**2+lst[1]**2:\n",
    "        return True\n",
    "    else:\n",
    "        return False\n",
    "\n",
    "print(is_triplet(13, 5, 12))\n",
    "print(is_triplet(1, 2, 3))"
   ]
  }
 ],
 "metadata": {
  "kernelspec": {
   "display_name": "Python 3",
   "language": "python",
   "name": "python3"
  },
  "language_info": {
   "codemirror_mode": {
    "name": "ipython",
    "version": 3
   },
   "file_extension": ".py",
   "mimetype": "text/x-python",
   "name": "python",
   "nbconvert_exporter": "python",
   "pygments_lexer": "ipython3",
   "version": "3.8.8"
  }
 },
 "nbformat": 4,
 "nbformat_minor": 5
}
