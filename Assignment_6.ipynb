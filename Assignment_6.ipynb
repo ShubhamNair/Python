{
 "cells": [
  {
   "cell_type": "code",
   "execution_count": null,
   "id": "efa6195c",
   "metadata": {},
   "outputs": [],
   "source": [
    "1. What are escape characters, and how do you use them?\n",
    "\n",
    "Ans:Escape characters are used to represent characters which can be difficult or impossible to type.\n",
    "    '\\' is used and it is followed by a character you want to insert"
   ]
  },
  {
   "cell_type": "code",
   "execution_count": null,
   "id": "5817b129",
   "metadata": {},
   "outputs": [],
   "source": [
    "2. What do the escape characters n and t stand for?\n",
    "\n",
    "Ans:\\n is used to represent newline.\n",
    "    \\t is used to represent tab space"
   ]
  },
  {
   "cell_type": "code",
   "execution_count": null,
   "id": "982f44fe",
   "metadata": {},
   "outputs": [],
   "source": [
    "3. What is the way to include backslash characters in a string?\n",
    "Ans: \\\\ i.e. double backslash can be used to represent a backslash character in a string."
   ]
  },
  {
   "cell_type": "code",
   "execution_count": null,
   "id": "28acaf42",
   "metadata": {},
   "outputs": [],
   "source": [
    "4. The string \"Howl's Moving Castle\" is a correct value. \n",
    "Why isn't the single quote character in the word Howl's not escaped a problem?\n",
    "\n",
    "Ans: Because we used double quotes to wrap the string. It would have given a problem if we used single quotes."
   ]
  },
  {
   "cell_type": "code",
   "execution_count": null,
   "id": "88b6ab82",
   "metadata": {},
   "outputs": [],
   "source": [
    "5. How do you write a string of newlines if you don't want to use the n character?\n",
    "\n",
    "Ans: Multiline strings allow you to use newlines in strings without the \\n escape character. We use ''' ''' to make\n",
    "    the multiline string."
   ]
  },
  {
   "cell_type": "code",
   "execution_count": null,
   "id": "d078cd5f",
   "metadata": {},
   "outputs": [],
   "source": [
    "6. What are the values of the given expressions?\n",
    "'Hello, world!'[1]     ='e'\n",
    "'Hello, world!'[0:5]   ='Hello'\n",
    "'Hello, world!'[:5]    ='Hello'\n",
    "'Hello, world!'[3:]    ='lo, world!'"
   ]
  },
  {
   "cell_type": "code",
   "execution_count": null,
   "id": "c01df937",
   "metadata": {},
   "outputs": [],
   "source": [
    "7. What are the values of the following expressions?\n",
    "\n",
    "'Hello'.upper()             ='HELLO'\n",
    "\n",
    "'Hello'.upper().isupper()   =True\n",
    "\n",
    "'Hello'.upper().lower()     ='hello'"
   ]
  },
  {
   "cell_type": "code",
   "execution_count": null,
   "id": "aab6901e",
   "metadata": {},
   "outputs": [],
   "source": [
    "8. What are the values of the following expressions?\n",
    "\n",
    "'Remember, remember, the fifth of July.'.split()    =['Remember,','remember,','the','fifth','of','July.']\n",
    "\n",
    "'-'.join('There can only one.'.split())             ='There-can-only-one.'"
   ]
  },
  {
   "cell_type": "code",
   "execution_count": null,
   "id": "4232e0de",
   "metadata": {},
   "outputs": [],
   "source": [
    "9. What are the methods for right-justifying, left-justifying, and centering a string?\n",
    "\n",
    "Ans:<stringname>.center(len, fillchr) = Used for centering the string. Fills left and right alternatively.\n",
    "    <stringname>.ljust(len, fillchr)  = Used for left-justifying the string, fills the fillchar to the right.\n",
    "    <stringname>.rjust(len, fillchr)  = Used for rightt-justifying the string, fills the fillchar to the left.\n",
    "    \n",
    "    #Note: The len should be greater than the original string for the methods to work."
   ]
  },
  {
   "cell_type": "code",
   "execution_count": null,
   "id": "461f127c",
   "metadata": {},
   "outputs": [],
   "source": [
    "10. What is the best way to remove whitespace characters from the start or end?\n",
    "\n",
    "Ans: <stringname>.strip() = Removes whitespace from both sides, i.e. start and end.\n",
    "    <stringname>.lstrip() = Removes whitespace from left sides, i.e. from the start.\n",
    "    <stringname>.rstrip() = Removes whitespace from right side, i.e. from the end."
   ]
  }
 ],
 "metadata": {
  "kernelspec": {
   "display_name": "Python 3",
   "language": "python",
   "name": "python3"
  },
  "language_info": {
   "codemirror_mode": {
    "name": "ipython",
    "version": 3
   },
   "file_extension": ".py",
   "mimetype": "text/x-python",
   "name": "python",
   "nbconvert_exporter": "python",
   "pygments_lexer": "ipython3",
   "version": "3.8.8"
  }
 },
 "nbformat": 4,
 "nbformat_minor": 5
}
