{
 "cells": [
  {
   "cell_type": "code",
   "execution_count": null,
   "id": "62329f2c",
   "metadata": {},
   "outputs": [],
   "source": [
    "1.What are the two values of the Boolean data type? How do you write them?\n",
    "Ans:\n",
    "True and False are the two values of the boolean data type.\n",
    "They are written as follows:True\n",
    "                            False"
   ]
  },
  {
   "cell_type": "code",
   "execution_count": null,
   "id": "5749c560",
   "metadata": {},
   "outputs": [],
   "source": [
    "2. What are the three different types of Boolean operators?\n",
    "Ans: Following are the three different types of Boolean operators\n",
    "    1>and\n",
    "    2>or\n",
    "    3>not"
   ]
  },
  {
   "cell_type": "code",
   "execution_count": null,
   "id": "24cc059b",
   "metadata": {},
   "outputs": [],
   "source": [
    "3. Make a list of each Boolean operator's truth tables (i.e. every possible combination of Boolean values for the operator and what it evaluate ).\n",
    "Ans\n",
    "In python 0=False 1=True\n",
    "\n",
    "AND      Result\n",
    "0 and 0   0\n",
    "0 and 1   0 \n",
    "1 and 0   0\n",
    "1 and 1   1\n",
    "\n",
    "OR\n",
    "0 or 0    0\n",
    "0 or 1    1\n",
    "1 or 0    1\n",
    "1 or 1    1\n",
    "\n",
    "NOT\n",
    "not 0     1\n",
    "not 1     0"
   ]
  },
  {
   "cell_type": "code",
   "execution_count": null,
   "id": "20b94b4b",
   "metadata": {},
   "outputs": [],
   "source": [
    "4. What are the values of the following expressions?\n",
    "Ans:\n",
    "(5 > 4) and (3 == 5)                          False\n",
    "\n",
    "not (5 > 4)                                   False       \n",
    "\n",
    "(5 > 4) or (3 == 5)                           True\n",
    "\n",
    "not ((5 > 4) or (3 == 5))                     False\n",
    " \n",
    "(True and True) and (True == False)           False\n",
    "\n",
    "(not False) or (not True)                     True\n",
    "\n",
    "    "
   ]
  },
  {
   "cell_type": "code",
   "execution_count": null,
   "id": "aab743bb",
   "metadata": {},
   "outputs": [],
   "source": [
    "5. What are the six comparison operators?\n",
    "Ans:Following are the six comparison operators:\n",
    "        <(Less than)\n",
    "        >(Greater than)\n",
    "        <=(Less than or equal to)\n",
    "        >=(Greater than or equal to)\n",
    "        ==(Equal to)\n",
    "        !=(Not equal to)\n",
    "        "
   ]
  },
  {
   "cell_type": "code",
   "execution_count": null,
   "id": "e916eaff",
   "metadata": {},
   "outputs": [],
   "source": [
    "6. How do you tell the difference between the equal to and assignment operators?Describe a condition and when you would use one.\n",
    "Ans: \n",
    "    Equal to is used to compare the left side with the right side of the symbol and is represented by == , while assigning\n",
    "    operator assigns the value to a given variable and is represented by =\n",
    "    Eg: \n",
    "        a=10           (Assignment operation)\n",
    "        if a==20:      (Comparision operation. Result is False so the conditon won't execute)\n",
    "            print(a)"
   ]
  },
  {
   "cell_type": "code",
   "execution_count": null,
   "id": "ee3bb2dd",
   "metadata": {},
   "outputs": [],
   "source": [
    "7. Identify the three blocks in this code:\n",
    "spam = 0\n",
    "if spam == 10:\n",
    "    print('eggs')\n",
    "if spam > 5:\n",
    "    print('bacon')\n",
    "else:\n",
    "    print('ham')\n",
    "    print('spam')\n",
    "    print('spam')\n",
    "The if conditions are giving result as false, so the else conditon will run and the result will be\n",
    "ham\n",
    "spam\n",
    "spam"
   ]
  },
  {
   "cell_type": "code",
   "execution_count": null,
   "id": "613b53bd",
   "metadata": {},
   "outputs": [],
   "source": [
    "#8. Write code that prints Hello if 1 is stored in spam, prints Howdy if 2 is stored in spam,\n",
    "#and prints Greetings! if anything else is stored in spam.\n",
    "\n",
    "if spam == 1:\n",
    "    print('Hello')\n",
    "elif spam==2:\n",
    "    print('Howdy')\n",
    "else:\n",
    "    print('Greetings')\n"
   ]
  },
  {
   "cell_type": "code",
   "execution_count": null,
   "id": "c6dfcf12",
   "metadata": {},
   "outputs": [],
   "source": [
    "9.If your programme is stuck in an endless loop, what keys you’ll press?\n",
    "Ans:\n",
    "    Press II in command mode(by pressing escape) or terminate the kernel by pressing CTRL+C twice in the terminal\n"
   ]
  },
  {
   "cell_type": "code",
   "execution_count": null,
   "id": "98b653fa",
   "metadata": {},
   "outputs": [],
   "source": [
    "10. How can you tell the difference between break and continue?\n",
    "Ans:\n",
    "    Break will terminate the currently running loop and make the program go out of the loop.\n",
    "    Continue will make the loop go to the next iteration while ignoring every statement written under continue in the loop."
   ]
  },
  {
   "cell_type": "code",
   "execution_count": null,
   "id": "8a3ea799",
   "metadata": {},
   "outputs": [],
   "source": [
    "11. In a for loop, what is the difference between range(10), range(0, 10), and range(0, 10, 1)?\n",
    "Ans:All are same. They start from 0, end at 9 and have a step of 1\n",
    "    \n"
   ]
  },
  {
   "cell_type": "code",
   "execution_count": 9,
   "id": "069fc636",
   "metadata": {},
   "outputs": [
    {
     "name": "stdout",
     "output_type": "stream",
     "text": [
      "1 2 3 4 5 6 7 8 9 10 \n",
      "1 2 3 4 5 6 7 8 9 10 "
     ]
    }
   ],
   "source": [
    "#12. Write a short program that prints the numbers 1 to 10 using a for loop.\n",
    "#Then write an equivalent program that prints the numbers 1 to 10 using a while loop.\n",
    "\n",
    "#Using for loop\n",
    "for i in range(1,11):\n",
    "    print(i,end=' ')\n",
    "print()\n",
    "j=1\n",
    "while j<11:                   #Using while loop\n",
    "    print(j,end=' ')\n",
    "    j+=1\n",
    "    "
   ]
  },
  {
   "cell_type": "code",
   "execution_count": null,
   "id": "97e7b0ad",
   "metadata": {},
   "outputs": [],
   "source": [
    "13. If you had a function named bacon() inside a module named spam, how would you call it after importing spam?\\\n",
    "Ans:\n",
    "    import spam\n",
    "    s=spam.bacon()\n",
    "    \n",
    "    \n"
   ]
  }
 ],
 "metadata": {
  "kernelspec": {
   "display_name": "Python 3",
   "language": "python",
   "name": "python3"
  },
  "language_info": {
   "codemirror_mode": {
    "name": "ipython",
    "version": 3
   },
   "file_extension": ".py",
   "mimetype": "text/x-python",
   "name": "python",
   "nbconvert_exporter": "python",
   "pygments_lexer": "ipython3",
   "version": "3.8.8"
  }
 },
 "nbformat": 4,
 "nbformat_minor": 5
}
