{
 "cells": [
  {
   "cell_type": "code",
   "execution_count": 3,
   "id": "527261cb",
   "metadata": {},
   "outputs": [
    {
     "data": {
      "text/plain": [
       "2"
      ]
     },
     "execution_count": 3,
     "metadata": {},
     "output_type": "execute_result"
    }
   ],
   "source": [
    "'''1. Create a function that takes a number n (integer greater than zero) as an argument, and returns 2 \n",
    "if n is odd and 8 if n is even.\n",
    "\n",
    "You can only use the following arithmetic operators: addition of numbers +, subtraction of numbers -,\n",
    "multiplication of number *, division of number /, and exponentiation **.\n",
    "\n",
    "You are not allowed to use any other methods in this challenge (i.e. no if statements, comparison operators, etc).\n",
    "\n",
    "Examples\n",
    "\n",
    "f(1) ➞ 2\n",
    "\n",
    "f(2) ➞ 8\n",
    "\n",
    "f(3) ➞ 2'''\n",
    "\n",
    "def f(n):\n",
    "    lst=[8,2]\n",
    "    return lst[n-(n//2)*2]\n",
    "\n",
    "f(3)"
   ]
  },
  {
   "cell_type": "code",
   "execution_count": 5,
   "id": "90745817",
   "metadata": {},
   "outputs": [
    {
     "name": "stdout",
     "output_type": "stream",
     "text": [
      "None\n",
      "A\n"
     ]
    }
   ],
   "source": [
    "'''2. Create a function that returns the majority vote in a list.\n",
    "A majority vote is an element that occurs > N/2 times in a list (where N is the length of the list).\n",
    "\n",
    "Examples\n",
    "\n",
    "majority_vote([\"A\", \"A\", \"B\"]) ➞ \"A\"\n",
    "\n",
    "majority_vote([\"A\", \"A\", \"A\", \"B\", \"C\", \"A\"]) ➞ \"A\"\n",
    "\n",
    "majority_vote([\"A\", \"B\", \"B\", \"A\", \"C\", \"C\"]) ➞ None'''\n",
    "\n",
    "def majority_vote(lst):\n",
    "    dic=dict()\n",
    "    for i in lst:\n",
    "        dic[i]=dic.get(i,0)+1\n",
    "    lst2=sorted([(v,k) for k,v in dic.items()])\n",
    "    if lst2[-1][0]>len(lst)/2:\n",
    "        return lst2[-1][1]\n",
    "    return None\n",
    "\n",
    "print(majority_vote([\"A\", \"B\", \"B\", \"A\", \"C\", \"C\"]))\n",
    "print(majority_vote([\"A\", \"A\", \"A\", \"B\", \"C\", \"A\"]))"
   ]
  },
  {
   "cell_type": "code",
   "execution_count": 14,
   "id": "cc67e87e",
   "metadata": {},
   "outputs": [
    {
     "name": "stdout",
     "output_type": "stream",
     "text": [
      "Why *** the ******* cross the road?\n"
     ]
    }
   ],
   "source": [
    "'''3. Create a function that takes a string txt and censors any word from a given list lst. \n",
    "The text removed must be replaced by the given character char.\n",
    "\n",
    "Examples\n",
    "\n",
    "censor_string(\"Today is a Wednesday!\", [\"Today\", \"a\"], \"-\") ➞ \"----- is - Wednesday!\"\n",
    "\n",
    "censor_string(\"The cow jumped over the moon.\", [\"cow\", \"over\"], \"*\"), \"The *** jumped **** the moon.\")\n",
    "\n",
    "censor_string(\"Why did the chicken cross the road?\", [\"Did\", \"chicken\", \"road\"], \"*\") ➞ \n",
    "\"Why *** the ******* cross the ****?\"\n",
    "'''\n",
    "\n",
    "def censor_string(string,censor,rep):\n",
    "    lst=string.split()\n",
    "    up_censor=[i.upper() for i in censor]\n",
    "    new=[]\n",
    "    for i in lst:\n",
    "        if i.upper() in up_censor:\n",
    "            new.append(len(i)*rep)\n",
    "            \n",
    "        else:\n",
    "            new.append(i)\n",
    "    return ' '.join(new)\n",
    "\n",
    "print(censor_string(\"Why did the chicken cross the road?\", [\"Did\", \"chicken\", \"road\"], \"*\"))"
   ]
  },
  {
   "cell_type": "code",
   "execution_count": 6,
   "id": "3a071f98",
   "metadata": {},
   "outputs": [
    {
     "name": "stdout",
     "output_type": "stream",
     "text": [
      "True\n",
      "False\n"
     ]
    }
   ],
   "source": [
    "'''4. In mathematics a Polydivisible Number (or magic number) is a number in a given number base \n",
    "with digits abcde... that has the following properties:\n",
    "\n",
    "-  Its first digit a is not 0.\n",
    "- The number formed by its first two digits ab is a multiple of 2.\n",
    "- The number formed by its first three digits abc is a multiple of 3.\n",
    "- The number formed by its first four digits abcd is a multiple of 4.\n",
    "\n",
    "Create a function which takes an integer n and returns True if the given number is a Polydivisible Number and\n",
    "False otherwise.\n",
    "\n",
    "Examples\n",
    "\n",
    "is_polydivisible(1232) ➞ True\n",
    "# 1     / 1 = 1\n",
    "# 12    / 2 = 6\n",
    "# 123   / 3 = 41\n",
    "# 1232  / 4 = 308\n",
    "\n",
    "is_polydivisible(123220 ) ➞ False\n",
    "# 1   / 1 = 1\n",
    "# 12   / 2 = 6\n",
    "# 123   / 3 = 41\n",
    "# 1232   / 4 = 308\n",
    "# 12322   / 5 = 2464.4         # Not a Whole Number\n",
    "# 123220   /6 = 220536.333...  # Not a Whole Number'''\n",
    "\n",
    "def is_polydivisible(n):\n",
    "    str_n=str(n)\n",
    "    for i in range(len(str_n)):\n",
    "        x=int(str_n[:i+1])/(i+1)\n",
    "        if (x-int(x))==0:\n",
    "            pass\n",
    "        else:\n",
    "            return False\n",
    "    return True\n",
    "\n",
    "print(is_polydivisible(1232))\n",
    "print(is_polydivisible(123220))"
   ]
  },
  {
   "cell_type": "code",
   "execution_count": 3,
   "id": "187ea81e",
   "metadata": {},
   "outputs": [
    {
     "name": "stdout",
     "output_type": "stream",
     "text": [
      "87\n",
      "None\n"
     ]
    }
   ],
   "source": [
    "'''5. Create a function that takes a list of numbers and returns the sum of all prime numbers in the list.\n",
    "\n",
    "Examples\n",
    "\n",
    "sum_primes([1, 2, 3, 4, 5, 6, 7, 8, 9, 10]) ➞ 17\n",
    "\n",
    "sum_primes([2, 3, 4, 11, 20, 50, 71]) ➞ 87\n",
    "\n",
    "sum_primes([]) ➞ None\n",
    "'''\n",
    "\n",
    "def sum_primes(lst):\n",
    "    sum=0\n",
    "    \n",
    "    for i in lst:\n",
    "        if i>1:\n",
    "            for j in range(2,(i//2)+1):\n",
    "                if i%j==0:\n",
    "                    break\n",
    "            else:\n",
    "                sum+=i\n",
    "    if sum==0:\n",
    "        return None\n",
    "    else:\n",
    "        return sum\n",
    "\n",
    "print(sum_primes([2, 3, 4, 11, 20, 50, 71]))\n",
    "print(sum_primes([]))"
   ]
  }
 ],
 "metadata": {
  "kernelspec": {
   "display_name": "Python 3",
   "language": "python",
   "name": "python3"
  },
  "language_info": {
   "codemirror_mode": {
    "name": "ipython",
    "version": 3
   },
   "file_extension": ".py",
   "mimetype": "text/x-python",
   "name": "python",
   "nbconvert_exporter": "python",
   "pygments_lexer": "ipython3",
   "version": "3.8.8"
  }
 },
 "nbformat": 4,
 "nbformat_minor": 5
}
